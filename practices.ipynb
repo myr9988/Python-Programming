{
 "cells": [
  {
   "cell_type": "code",
   "execution_count": 3,
   "id": "c6803b04",
   "metadata": {},
   "outputs": [
    {
     "name": "stdout",
     "output_type": "stream",
     "text": [
      "8\n",
      "-2\n",
      "15\n"
     ]
    }
   ],
   "source": [
    "a=3\n",
    "b=5\n",
    "print(a+b)\n",
    "print(a-b)\n",
    "print(a*b)\n"
   ]
  },
  {
   "cell_type": "code",
   "execution_count": 4,
   "id": "27fedd04",
   "metadata": {},
   "outputs": [
    {
     "name": "stdout",
     "output_type": "stream",
     "text": [
      "1\n",
      "1.3333333333333333\n"
     ]
    }
   ],
   "source": [
    "a = 4\n",
    "b = 3\n",
    "print(a//b)\n",
    "print(a/b)"
   ]
  },
  {
   "cell_type": "code",
   "execution_count": 5,
   "id": "af3d8e59",
   "metadata": {},
   "outputs": [
    {
     "name": "stdout",
     "output_type": "stream",
     "text": [
      "0\n",
      "1\n",
      "4\n",
      "9\n",
      "16\n"
     ]
    }
   ],
   "source": [
    "for i in range(0,5):\n",
    "    i= i*i\n",
    "    print(i)\n",
    "    i+=1"
   ]
  },
  {
   "cell_type": "code",
   "execution_count": 9,
   "id": "3317cb56",
   "metadata": {},
   "outputs": [
    {
     "name": "stdout",
     "output_type": "stream",
     "text": [
      "Enter the range of numbers : 5\n",
      "[0, 1, 4, 9, 16]\n"
     ]
    }
   ],
   "source": [
    "#item = [0,1,2,3,4]\n",
    "n = int(input(\"Enter the range of numbers : \"))\n",
    "square = list(map(lambda i:i**2, range(0,n)))\n",
    "print(square)"
   ]
  },
  {
   "cell_type": "code",
   "execution_count": 7,
   "id": "a2b09e1f",
   "metadata": {},
   "outputs": [],
   "source": [
    "def is_leap(year):\n",
    "    if year//4 == 0:\n",
    "        print(\"True\")\n",
    "    else:\n",
    "        print(\"False\")"
   ]
  },
  {
   "cell_type": "code",
   "execution_count": 10,
   "id": "076ddda6",
   "metadata": {},
   "outputs": [],
   "source": [
    "def is_leap(year):\n",
    "    if year % 4 == 0:\n",
    "        print(\"True\")\n",
    "    else:\n",
    "        print(\"False\")"
   ]
  },
  {
   "cell_type": "code",
   "execution_count": 11,
   "id": "979e6dd7",
   "metadata": {},
   "outputs": [
    {
     "name": "stdout",
     "output_type": "stream",
     "text": [
      "False\n"
     ]
    }
   ],
   "source": [
    "is_leap(1990)"
   ]
  },
  {
   "cell_type": "code",
   "execution_count": 40,
   "id": "fb6e3f20",
   "metadata": {},
   "outputs": [
    {
     "name": "stdout",
     "output_type": "stream",
     "text": [
      "1992\n",
      "True\n"
     ]
    }
   ],
   "source": [
    "def is_leap(year):\n",
    "    leap = False\n",
    "    \n",
    "    if (year % 4 == 0):\n",
    "        leap = True\n",
    "    elif(year % 100 == 0):\n",
    "            leap = False\n",
    "    elif(year % 400 == 0):\n",
    "                leap = True\n",
    "    return leap\n",
    "\n",
    "year = int(input())\n",
    "print(is_leap(year))\n",
    "   "
   ]
  },
  {
   "cell_type": "code",
   "execution_count": 28,
   "id": "0bfe99e1",
   "metadata": {},
   "outputs": [
    {
     "data": {
      "text/plain": [
       "0"
      ]
     },
     "execution_count": 28,
     "metadata": {},
     "output_type": "execute_result"
    }
   ],
   "source": [
    "a=2\n",
    "b=4\n",
    "a//b"
   ]
  },
  {
   "cell_type": "code",
   "execution_count": 42,
   "id": "e30fff03",
   "metadata": {},
   "outputs": [
    {
     "name": "stdout",
     "output_type": "stream",
     "text": [
      "123"
     ]
    }
   ],
   "source": [
    "from __future__ import print_function\n",
    "if __name__ == '__main__':\n",
    "    n = int(3)\n",
    "    \n",
    "    for i in range (1,n+1):\n",
    "        print(i, end=\"\")"
   ]
  },
  {
   "cell_type": "code",
   "execution_count": null,
   "id": "5d6969e9",
   "metadata": {},
   "outputs": [],
   "source": [
    "from __future__ import print_function\n",
    "if __name__ == '__main__':\n",
    "    n = int(input())\n",
    "    for i in range (1,n+1):\n",
    "        print(i, end=\"\")"
   ]
  },
  {
   "cell_type": "code",
   "execution_count": null,
   "id": "57971b43",
   "metadata": {},
   "outputs": [],
   "source": []
  },
  {
   "cell_type": "code",
   "execution_count": 1,
   "id": "6a7ed417",
   "metadata": {},
   "outputs": [],
   "source": [
    "s=\"Twinkle, twinkle, little star, How I wonder what you are! Up above the world so high, Like a diamond in the sky. Twinkle, twinkle, little star, How I wonder what you are\""
   ]
  },
  {
   "cell_type": "code",
   "execution_count": 5,
   "id": "3f46fcef",
   "metadata": {},
   "outputs": [],
   "source": [
    "# for certain format use triple quotes{para}\n",
    "\n",
    "a='''Twinkle, twinkle, little star,\n",
    "             How I wonder what you are! \n",
    "                    Up above the world so high, \n",
    "                    Like a diamond in the sky. \n",
    "Twinkle, twinkle, little star, \n",
    "         How I wonder what you are'''"
   ]
  },
  {
   "cell_type": "code",
   "execution_count": 6,
   "id": "186c6684",
   "metadata": {},
   "outputs": [
    {
     "name": "stdout",
     "output_type": "stream",
     "text": [
      "Twinkle, twinkle, little star,\n",
      "             How I wonder what you are! \n",
      "                    Up above the world so high, \n",
      "                    Like a diamond in the sky. \n",
      "Twinkle, twinkle, little star, \n",
      "         How I wonder what you are\n"
     ]
    }
   ],
   "source": [
    "print(a)"
   ]
  },
  {
   "cell_type": "code",
   "execution_count": 14,
   "id": "fce0e6ed",
   "metadata": {},
   "outputs": [
    {
     "name": "stdout",
     "output_type": "stream",
     "text": [
      "enter the value1.1\n",
      "3.8013271108436504\n"
     ]
    }
   ],
   "source": [
    "import math\n",
    "r=float(input(\"enter the value\"))\n",
    "area=float(math.pi * r**2)\n",
    "print(area)"
   ]
  },
  {
   "cell_type": "code",
   "execution_count": 18,
   "id": "29d98b91",
   "metadata": {},
   "outputs": [
    {
     "name": "stdout",
     "output_type": "stream",
     "text": [
      "enter your first name utkarsha\n",
      "enter your last name narhede\n",
      "narhede utkarsha\n"
     ]
    }
   ],
   "source": [
    "fname=input(\"enter your first name \")\n",
    "lname=input(\"enter your last name \")\n",
    "print(lname,fname)"
   ]
  },
  {
   "cell_type": "code",
   "execution_count": 27,
   "id": "57b22ee4",
   "metadata": {},
   "outputs": [
    {
     "name": "stdout",
     "output_type": "stream",
     "text": [
      "enter values with comma12,13,14,15\n",
      "['12', '13', '14', '15']\n",
      "('12', '13', '14', '15')\n"
     ]
    }
   ],
   "source": [
    "data=input('enter values with comma')\n",
    "a = data.split(',')\n",
    "a\n",
    "t = tuple(a)\n",
    "print(a)\n",
    "print(t)"
   ]
  },
  {
   "cell_type": "code",
   "execution_count": 30,
   "id": "eecc0927",
   "metadata": {},
   "outputs": [
    {
     "name": "stdout",
     "output_type": "stream",
     "text": [
      "enter values 3, 5, 7, 23\n"
     ]
    }
   ],
   "source": [
    "data=input(\"enter values \")"
   ]
  },
  {
   "cell_type": "code",
   "execution_count": 31,
   "id": "b2413ba7",
   "metadata": {},
   "outputs": [
    {
     "data": {
      "text/plain": [
       "['3', ' 5', ' 7', ' 23']"
      ]
     },
     "execution_count": 31,
     "metadata": {},
     "output_type": "execute_result"
    }
   ],
   "source": [
    "a=data.split(\",\")\n",
    "a"
   ]
  },
  {
   "cell_type": "code",
   "execution_count": 32,
   "id": "cf21ccbd",
   "metadata": {},
   "outputs": [
    {
     "data": {
      "text/plain": [
       "('3', ' 5', ' 7', ' 23')"
      ]
     },
     "execution_count": 32,
     "metadata": {},
     "output_type": "execute_result"
    }
   ],
   "source": [
    "t=tuple(a)\n",
    "t"
   ]
  },
  {
   "cell_type": "code",
   "execution_count": 35,
   "id": "de398d21",
   "metadata": {},
   "outputs": [
    {
     "name": "stdout",
     "output_type": "stream",
     "text": [
      "enter the name of file  abc.java\n",
      "java\n"
     ]
    }
   ],
   "source": [
    "file=input(\"enter the name of file  \")\n",
    "f=file.split(\".\")\n",
    "print(f[1])"
   ]
  },
  {
   "cell_type": "code",
   "execution_count": 39,
   "id": "7ce60460",
   "metadata": {},
   "outputs": [
    {
     "name": "stdout",
     "output_type": "stream",
     "text": [
      "Red Black\n"
     ]
    }
   ],
   "source": [
    "l = [\"Red\",\"Green\",\"White\" ,\"Black\"]\n",
    "print(l[0],l[3])"
   ]
  },
  {
   "cell_type": "code",
   "execution_count": 75,
   "id": "6e0914a2",
   "metadata": {},
   "outputs": [
    {
     "name": "stdout",
     "output_type": "stream",
     "text": [
      "enter date dd11\n",
      "enter month mm12\n",
      "enter year yyyy2020\n",
      "The exam will start from: 11/12/2020\n"
     ]
    }
   ],
   "source": [
    "d=int(input(\"enter date dd\"))\n",
    "m=int(input(\"enter month mm\"))\n",
    "y=int(input(\"enter year yyyy\"))\n",
    "\n",
    "print(\"The exam will start from: {}/{}/{}\".format(d,m,y))"
   ]
  },
  {
   "cell_type": "code",
   "execution_count": 70,
   "id": "5c2f805b",
   "metadata": {},
   "outputs": [
    {
     "name": "stdout",
     "output_type": "stream",
     "text": [
      "enter a number : 5\n",
      "615\n"
     ]
    }
   ],
   "source": [
    "n = int(input('enter a number : '))\n",
    "n1 = int(\"%s\"%n)\n",
    "\n",
    "n2 = int('%s%s'%(n,n))\n",
    "n3 = int('%s%s%s'%(n,n,n))\n",
    "add = n1+n2+n3\n",
    "print(add)"
   ]
  },
  {
   "cell_type": "code",
   "execution_count": 71,
   "id": "81ca9698",
   "metadata": {},
   "outputs": [
    {
     "name": "stdout",
     "output_type": "stream",
     "text": [
      "enter a number : 1\n",
      "enter a number : 2\n",
      "enter a number : 3\n",
      "136\n"
     ]
    }
   ],
   "source": [
    "a=int(input('enter a number : '))\n",
    "b=int(input('enter a number : '))\n",
    "c=int(input('enter a number : '))\n",
    "a1=int(\"%s\"%a)\n",
    "b1=int(\"%s%s\"%(a,b))\n",
    "c1=int(\"%s%s%s\"%(a,b,c))\n",
    "add= a1+b1+c1\n",
    "print(add)"
   ]
  },
  {
   "cell_type": "code",
   "execution_count": 78,
   "id": "bfc503bc",
   "metadata": {},
   "outputs": [
    {
     "name": "stdout",
     "output_type": "stream",
     "text": [
      "Return the absolute value of the argument.\n"
     ]
    }
   ],
   "source": [
    "print(abs.__doc__)"
   ]
  },
  {
   "cell_type": "code",
   "execution_count": 100,
   "id": "3f175204",
   "metadata": {},
   "outputs": [
    {
     "name": "stdout",
     "output_type": "stream",
     "text": [
      "enter the year yyyy : 2022\n",
      "enter the month mm : 1\n",
      "\n",
      "\n",
      "    January 2022\n",
      "Mo Tu We Th Fr Sa Su\n",
      "                1  2\n",
      " 3  4  5  6  7  8  9\n",
      "10 11 12 13 14 15 16\n",
      "17 18 19 20 21 22 23\n",
      "24 25 26 27 28 29 30\n",
      "31\n",
      "\n"
     ]
    }
   ],
   "source": [
    "import calendar\n",
    "year = int(input('enter the year yyyy : '))\n",
    "month = int(input('enter the month mm : '))\n",
    "\n",
    "print('\\n')\n",
    "print(calendar.month(year,month))"
   ]
  },
  {
   "cell_type": "code",
   "execution_count": 101,
   "id": "20cdedcb",
   "metadata": {},
   "outputs": [
    {
     "name": "stdout",
     "output_type": "stream",
     "text": [
      "a string that you \"don't\" have to escape\n",
      "This\n",
      "is a ....... multi-line\n",
      "heredoc string --------> example\n"
     ]
    }
   ],
   "source": [
    "print('''a string that you \"don't\" have to escape\n",
    "This\n",
    "is a ....... multi-line\n",
    "heredoc string --------> example''')"
   ]
  },
  {
   "cell_type": "code",
   "execution_count": 104,
   "id": "a6bde936",
   "metadata": {},
   "outputs": [
    {
     "name": "stdout",
     "output_type": "stream",
     "text": [
      "9 days\n"
     ]
    }
   ],
   "source": [
    "from datetime import date\n",
    "fdate=date(2014,7,2)\n",
    "ldate=date(2014,7,11)\n",
    "a=ldate-fdate\n",
    "print('{} days'.format(a.days))"
   ]
  },
  {
   "cell_type": "code",
   "execution_count": 1,
   "id": "db9d8e2b",
   "metadata": {},
   "outputs": [
    {
     "name": "stdout",
     "output_type": "stream",
     "text": [
      "enter the value: 6\n",
      "904.7786842338603\n"
     ]
    }
   ],
   "source": [
    "import math\n",
    "r=float(input(\"enter the value: \"))\n",
    "area=float((4/3)*math.pi*r**3)\n",
    "print(area)"
   ]
  },
  {
   "cell_type": "code",
   "execution_count": 13,
   "id": "3e94640a",
   "metadata": {},
   "outputs": [
    {
     "data": {
      "text/plain": [
       "7"
      ]
     },
     "execution_count": 13,
     "metadata": {},
     "output_type": "execute_result"
    }
   ],
   "source": [
    "str1 = \"my isname isisis jameis isis bond\";\n",
    "str1.count(\"is\")"
   ]
  },
  {
   "cell_type": "code",
   "execution_count": 9,
   "id": "3178ad08",
   "metadata": {},
   "outputs": [
    {
     "name": "stdout",
     "output_type": "stream",
     "text": [
      "Welcome PYnative\n"
     ]
    }
   ],
   "source": [
    "str1 = 'Welcome'\n",
    "print(str1+\" \"+ \"PYnative\")"
   ]
  },
  {
   "cell_type": "code",
   "execution_count": 10,
   "id": "dd3c42ab",
   "metadata": {},
   "outputs": [
    {
     "name": "stdout",
     "output_type": "stream",
     "text": [
      "WelcomeWelcome\n"
     ]
    }
   ],
   "source": [
    "str1 = 'Welcome'\n",
    "print(str1*2)"
   ]
  },
  {
   "cell_type": "code",
   "execution_count": 19,
   "id": "921f7cd6",
   "metadata": {},
   "outputs": [
    {
     "data": {
      "text/plain": [
       "\"'char'\""
      ]
     },
     "execution_count": 19,
     "metadata": {},
     "output_type": "execute_result"
    }
   ],
   "source": [
    "ascii('char')"
   ]
  },
  {
   "cell_type": "code",
   "execution_count": 15,
   "id": "91b51b8c",
   "metadata": {},
   "outputs": [
    {
     "data": {
      "text/plain": [
       "'B'"
      ]
     },
     "execution_count": 15,
     "metadata": {},
     "output_type": "execute_result"
    }
   ],
   "source": [
    "chr(66)"
   ]
  },
  {
   "cell_type": "code",
   "execution_count": 17,
   "id": "b0fde4b7",
   "metadata": {},
   "outputs": [
    {
     "data": {
      "text/plain": [
       "99"
      ]
     },
     "execution_count": 17,
     "metadata": {},
     "output_type": "execute_result"
    }
   ],
   "source": [
    "ord('c')"
   ]
  },
  {
   "cell_type": "code",
   "execution_count": 14,
   "id": "ca3b7e64",
   "metadata": {},
   "outputs": [
    {
     "data": {
      "text/plain": [
       "\"'number'\""
      ]
     },
     "execution_count": 14,
     "metadata": {},
     "output_type": "execute_result"
    }
   ],
   "source": [
    "ascii(\"number\")"
   ]
  },
  {
   "cell_type": "code",
   "execution_count": 20,
   "id": "c3dbd3cf",
   "metadata": {},
   "outputs": [
    {
     "name": "stdout",
     "output_type": "stream",
     "text": [
      "True\n",
      "False\n"
     ]
    }
   ],
   "source": [
    "print(\"John\" > \"Jhon\")\n",
    "print(\"Emma\" < \"Emm\")"
   ]
  },
  {
   "cell_type": "code",
   "execution_count": 16,
   "id": "a8ecb75e",
   "metadata": {},
   "outputs": [
    {
     "name": "stdout",
     "output_type": "stream",
     "text": [
      "False\n",
      "True\n"
     ]
    }
   ],
   "source": [
    "str1 = \"My salary is 7000\";\n",
    "str2 = \"7000\"\n",
    "\n",
    "print(str1.isdigit())\n",
    "print(str2.isdigit())\n"
   ]
  },
  {
   "cell_type": "code",
   "execution_count": 17,
   "id": "eff91ff6",
   "metadata": {},
   "outputs": [
    {
     "name": "stdout",
     "output_type": "stream",
     "text": [
      "True\n",
      "True\n"
     ]
    }
   ],
   "source": [
    "myString = \"pynative\"\n",
    "stringList = [\"abc\", \"pynative\", \"xyz\"]\n",
    "\n",
    "print(stringList[1] == myString)\n",
    "print(stringList[1] is myString)"
   ]
  },
  {
   "cell_type": "code",
   "execution_count": 18,
   "id": "1f210a53",
   "metadata": {},
   "outputs": [
    {
     "name": "stdout",
     "output_type": "stream",
     "text": [
      "False\n"
     ]
    }
   ],
   "source": [
    "str = \"My salary is 7000\";\n",
    "print(str.isalnum())"
   ]
  },
  {
   "cell_type": "code",
   "execution_count": 20,
   "id": "1027710e",
   "metadata": {},
   "outputs": [
    {
     "name": "stdout",
     "output_type": "stream",
     "text": [
      "My name is james bond\n"
     ]
    }
   ],
   "source": [
    "str = \"my name is James bond\";\n",
    "print (str.capitalize())"
   ]
  },
  {
   "cell_type": "code",
   "execution_count": 4,
   "id": "6e3de82f",
   "metadata": {},
   "outputs": [],
   "source": [
    "def ran_check(num,low,high):\n",
    "    for i in range(low,high+1):\n",
    "        if num==i:\n",
    "            print('Number is within the range')\n",
    "            break\n",
    "    else :\n",
    "            print('Number is out of range')"
   ]
  },
  {
   "cell_type": "code",
   "execution_count": 5,
   "id": "cc58c466",
   "metadata": {},
   "outputs": [
    {
     "name": "stdout",
     "output_type": "stream",
     "text": [
      "Number is within the range\n",
      "Number is out of range\n"
     ]
    }
   ],
   "source": [
    "ran_check(56,50,100)"
   ]
  },
  {
   "cell_type": "code",
   "execution_count": 6,
   "id": "7c8f62c9",
   "metadata": {},
   "outputs": [
    {
     "name": "stdout",
     "output_type": "stream",
     "text": [
      "The sum is 136\n"
     ]
    }
   ],
   "source": [
    "\n",
    "def recur_sum(n):\n",
    "    if n <= 1:\n",
    "        return n\n",
    "    else:\n",
    "        return n + recur_sum(n-1)\n",
    "\n",
    "# change this value for a different result\n",
    "num = 16\n",
    "\n",
    "if num < 0:\n",
    "    print(\"Enter a positive number\")\n",
    "else:\n",
    "    print(\"The sum is\",recur_sum(num))"
   ]
  },
  {
   "cell_type": "code",
   "execution_count": 7,
   "id": "9061164e",
   "metadata": {},
   "outputs": [],
   "source": [
    "def findSum(n):\n",
    "    if n<=1:\n",
    "        return n\n",
    "    else:\n",
    "        return n + findSum(n-1)"
   ]
  },
  {
   "cell_type": "code",
   "execution_count": 8,
   "id": "dfc7ae28",
   "metadata": {},
   "outputs": [
    {
     "data": {
      "text/plain": [
       "55"
      ]
     },
     "execution_count": 8,
     "metadata": {},
     "output_type": "execute_result"
    }
   ],
   "source": [
    "findSum(10)"
   ]
  },
  {
   "cell_type": "code",
   "execution_count": 16,
   "id": "b44a58d0",
   "metadata": {},
   "outputs": [],
   "source": [
    "def funct(name,age):\n",
    "    print(name,\":\",age,\"yrs\")"
   ]
  },
  {
   "cell_type": "code",
   "execution_count": 17,
   "id": "3656878e",
   "metadata": {},
   "outputs": [
    {
     "name": "stdout",
     "output_type": "stream",
     "text": [
      "utk : 24 yrs\n"
     ]
    }
   ],
   "source": [
    "funct(\"utk\",24)"
   ]
  },
  {
   "cell_type": "code",
   "execution_count": 28,
   "id": "c0d27f7c",
   "metadata": {},
   "outputs": [],
   "source": [
    "def em(name,salary=9000):\n",
    "    print(\"{}'s salary is: {}\".format(name,salary))"
   ]
  },
  {
   "cell_type": "code",
   "execution_count": 29,
   "id": "80632739",
   "metadata": {},
   "outputs": [
    {
     "name": "stdout",
     "output_type": "stream",
     "text": [
      "pushkar's salary is: 20000\n"
     ]
    }
   ],
   "source": [
    "em(\"pushkar\",20000)"
   ]
  },
  {
   "cell_type": "code",
   "execution_count": 30,
   "id": "f69a4368",
   "metadata": {},
   "outputs": [
    {
     "name": "stdout",
     "output_type": "stream",
     "text": [
      "prachi's salary is: 9000\n"
     ]
    }
   ],
   "source": [
    "em(\"prachi\")"
   ]
  },
  {
   "cell_type": "code",
   "execution_count": 1,
   "id": "1165eb4d",
   "metadata": {},
   "outputs": [],
   "source": [
    "def add(a,b):\n",
    "    c=a+b\n",
    "    print(\"addition of {} and {} is: {}\".format(a,b,c))"
   ]
  },
  {
   "cell_type": "code",
   "execution_count": 2,
   "id": "b13015e1",
   "metadata": {},
   "outputs": [
    {
     "name": "stdout",
     "output_type": "stream",
     "text": [
      "addition of 4 and 8 is: 12\n"
     ]
    }
   ],
   "source": [
    "add(4,8)"
   ]
  },
  {
   "cell_type": "code",
   "execution_count": 6,
   "id": "e72b5c73",
   "metadata": {},
   "outputs": [],
   "source": [
    "def table(n,i):\n",
    "    print(n*i,end=\" \")\n",
    "    n*i\n",
    "    i+=1\n",
    "    if i<11:\n",
    "        table(n,i)    "
   ]
  },
  {
   "cell_type": "code",
   "execution_count": null,
   "id": "245d84b1",
   "metadata": {},
   "outputs": [],
   "source": []
  },
  {
   "cell_type": "code",
   "execution_count": 7,
   "id": "5d2f35f1",
   "metadata": {},
   "outputs": [
    {
     "name": "stdout",
     "output_type": "stream",
     "text": [
      "24 48 72 96 120 144 168 192 216 240 "
     ]
    }
   ],
   "source": [
    "table(24,1)"
   ]
  },
  {
   "cell_type": "code",
   "execution_count": 8,
   "id": "f290eb4b",
   "metadata": {},
   "outputs": [],
   "source": [
    "def area(l,b):\n",
    "    a=l*b\n",
    "    print(\"area of rectangle is: \",a)"
   ]
  },
  {
   "cell_type": "code",
   "execution_count": 10,
   "id": "ce4a8a96",
   "metadata": {},
   "outputs": [
    {
     "name": "stdout",
     "output_type": "stream",
     "text": [
      "area of rectangle is:  72\n"
     ]
    }
   ],
   "source": [
    "area(8,9)"
   ]
  },
  {
   "cell_type": "code",
   "execution_count": 18,
   "id": "edf7a9cc",
   "metadata": {},
   "outputs": [],
   "source": [
    "def area_circle(rad):\n",
    "    a = 3.14 * rad**2\n",
    "    b= 2 * 3.14 * rad\n",
    "    print(\"area of circle= \",a)\n",
    "    print(\"circumference of circle= \",b)\n",
    "    "
   ]
  },
  {
   "cell_type": "code",
   "execution_count": 19,
   "id": "a0a43d29",
   "metadata": {},
   "outputs": [
    {
     "name": "stdout",
     "output_type": "stream",
     "text": [
      "area of circle=  200.96\n",
      "circumference of circle=  50.24\n"
     ]
    }
   ],
   "source": [
    "area_circle(8)"
   ]
  },
  {
   "cell_type": "code",
   "execution_count": 24,
   "id": "3b7115c6",
   "metadata": {},
   "outputs": [],
   "source": [
    "def power(a,b):\n",
    "    pow=a**b\n",
    "    print(\"power of {} and {} = {}\".format(a,b,pow))"
   ]
  },
  {
   "cell_type": "code",
   "execution_count": 25,
   "id": "7ca78cb2",
   "metadata": {},
   "outputs": [
    {
     "name": "stdout",
     "output_type": "stream",
     "text": [
      "power of 2 and 3 = 8\n"
     ]
    }
   ],
   "source": [
    "power(2,3)"
   ]
  },
  {
   "cell_type": "code",
   "execution_count": 27,
   "id": "6342672b",
   "metadata": {},
   "outputs": [],
   "source": [
    "def vote(age):\n",
    "    if age>=18:\n",
    "        print(\"you can vote\")\n",
    "    else:\n",
    "        print(\"your age is not valid\")"
   ]
  },
  {
   "cell_type": "code",
   "execution_count": 28,
   "id": "7711eb19",
   "metadata": {},
   "outputs": [
    {
     "name": "stdout",
     "output_type": "stream",
     "text": [
      "you can vote\n"
     ]
    }
   ],
   "source": [
    "vote(19)"
   ]
  },
  {
   "cell_type": "code",
   "execution_count": 40,
   "id": "6f9875f8",
   "metadata": {},
   "outputs": [],
   "source": [
    "def even(n):\n",
    "    if n%2==0:\n",
    "        print(\"even\")\n",
    "    else:\n",
    "        n%2!=0\n",
    "        print(\"prime\")\n",
    "    "
   ]
  },
  {
   "cell_type": "code",
   "execution_count": 41,
   "id": "7e1d6de9",
   "metadata": {},
   "outputs": [
    {
     "name": "stdout",
     "output_type": "stream",
     "text": [
      "even\n"
     ]
    }
   ],
   "source": [
    "even(4)"
   ]
  },
  {
   "cell_type": "code",
   "execution_count": 42,
   "id": "b4eebe0a",
   "metadata": {},
   "outputs": [
    {
     "name": "stdout",
     "output_type": "stream",
     "text": [
      "prime\n"
     ]
    }
   ],
   "source": [
    "even(9)"
   ]
  },
  {
   "cell_type": "code",
   "execution_count": 1,
   "id": "baa9ea2e",
   "metadata": {},
   "outputs": [],
   "source": [
    "def calc(a,b):\n",
    "    add=a+b\n",
    "    sub=a-b\n",
    "    mul=a*b\n",
    "    print(\"addition of {} and {}= {}\".format(a,b,add))\n",
    "    print(\"substration of {} and {}= {}\".format(a,b,sub))\n",
    "    print(\"multiplication of {} and {}= {}\".format(a,b,mul))    "
   ]
  },
  {
   "cell_type": "code",
   "execution_count": 3,
   "id": "99c06fbc",
   "metadata": {},
   "outputs": [
    {
     "name": "stdout",
     "output_type": "stream",
     "text": [
      "addition of 4 and 2= 6\n",
      "substration of 4 and 2= 2\n",
      "multiplication of 4 and 2= 8\n"
     ]
    }
   ],
   "source": [
    "calc(4,2)"
   ]
  },
  {
   "cell_type": "code",
   "execution_count": 6,
   "id": "c4faee8d",
   "metadata": {},
   "outputs": [
    {
     "name": "stdout",
     "output_type": "stream",
     "text": [
      "dcba4321\n"
     ]
    }
   ],
   "source": [
    "st=\"1234abcd\"\n",
    "st2=st[::-1]\n",
    "print(st2)"
   ]
  },
  {
   "cell_type": "code",
   "execution_count": null,
   "id": "26d8fda0",
   "metadata": {},
   "outputs": [],
   "source": [
    "username = input(\"Enter Username :\")\n",
    "if username in database.keys():\n",
    "    print(\"User Exist\")\n",
    "    password = int(input(\"Enter password :\"))\n",
    "    if database[username] == password:\n",
    "        print(\"Welcome \",username)\n",
    "    else:\n",
    "        print(\"Invalid Password\")\n",
    "else:\n",
    "    print(\"User not exist\")\n"
   ]
  },
  {
   "cell_type": "code",
   "execution_count": 1,
   "id": "8b0d31c7",
   "metadata": {},
   "outputs": [
    {
     "data": {
      "text/plain": [
       "{'ram': 1234, 'raghu': 5678, 'kanav': 1357}"
      ]
     },
     "execution_count": 1,
     "metadata": {},
     "output_type": "execute_result"
    }
   ],
   "source": [
    "database = {'ram':1234,'raghu':5678,'kanav':1357}\n",
    "database"
   ]
  },
  {
   "cell_type": "code",
   "execution_count": 3,
   "id": "473cfe63",
   "metadata": {},
   "outputs": [
    {
     "name": "stdout",
     "output_type": "stream",
     "text": [
      "Enter Username :ups\n",
      "User not exist\n",
      "Do you want to add into the database [Y|N]\n",
      "2798\n",
      "Thank you\n"
     ]
    }
   ],
   "source": [
    "username = input(\"Enter Username :\")\n",
    "if username in database.keys():\n",
    "    print(\"User Exist\")\n",
    "    password = int(input(\"Enter password :\"))\n",
    "    if database[username] == password:\n",
    "        print(\"Welcome \",username)\n",
    "    else:\n",
    "        print(\"Invalid Password\")\n",
    "else:\n",
    "    print(\"User not exist\")\n",
    "    print(\"Do you want to add into the database [Y|N]\")\n",
    "    yn = input()\n",
    "    if yn == \"Y\":\n",
    "        new_password = int(input(\"Enter new password : \"))\n",
    "        database[username]=new_password\n",
    "        print(\"User added successfully\")\n",
    "    else:\n",
    "        print(\"Thank you\")\n"
   ]
  },
  {
   "cell_type": "code",
   "execution_count": null,
   "id": "f0022485",
   "metadata": {},
   "outputs": [],
   "source": []
  },
  {
   "cell_type": "code",
   "execution_count": null,
   "id": "0247b9dd",
   "metadata": {},
   "outputs": [],
   "source": []
  },
  {
   "cell_type": "code",
   "execution_count": null,
   "id": "10764fe8",
   "metadata": {},
   "outputs": [],
   "source": []
  },
  {
   "cell_type": "code",
   "execution_count": null,
   "id": "072e89f7",
   "metadata": {},
   "outputs": [],
   "source": []
  },
  {
   "cell_type": "code",
   "execution_count": null,
   "id": "2be09b80",
   "metadata": {},
   "outputs": [],
   "source": []
  },
  {
   "cell_type": "code",
   "execution_count": null,
   "id": "5f85d05b",
   "metadata": {},
   "outputs": [],
   "source": []
  },
  {
   "cell_type": "code",
   "execution_count": null,
   "id": "e922343d",
   "metadata": {},
   "outputs": [],
   "source": []
  },
  {
   "cell_type": "code",
   "execution_count": null,
   "id": "824b797f",
   "metadata": {},
   "outputs": [],
   "source": []
  },
  {
   "cell_type": "code",
   "execution_count": null,
   "id": "b87764a2",
   "metadata": {},
   "outputs": [],
   "source": []
  },
  {
   "cell_type": "code",
   "execution_count": null,
   "id": "a8555343",
   "metadata": {},
   "outputs": [],
   "source": []
  },
  {
   "cell_type": "code",
   "execution_count": null,
   "id": "eb659bdb",
   "metadata": {},
   "outputs": [],
   "source": []
  },
  {
   "cell_type": "code",
   "execution_count": null,
   "id": "31a72991",
   "metadata": {},
   "outputs": [],
   "source": []
  },
  {
   "cell_type": "code",
   "execution_count": null,
   "id": "96051dce",
   "metadata": {},
   "outputs": [],
   "source": []
  },
  {
   "cell_type": "code",
   "execution_count": null,
   "id": "02de24d2",
   "metadata": {},
   "outputs": [],
   "source": []
  },
  {
   "cell_type": "code",
   "execution_count": null,
   "id": "3d28b911",
   "metadata": {},
   "outputs": [],
   "source": []
  },
  {
   "cell_type": "code",
   "execution_count": null,
   "id": "b0449218",
   "metadata": {},
   "outputs": [],
   "source": []
  },
  {
   "cell_type": "code",
   "execution_count": null,
   "id": "13f311a8",
   "metadata": {},
   "outputs": [],
   "source": []
  }
 ],
 "metadata": {
  "kernelspec": {
   "display_name": "Python 3 (ipykernel)",
   "language": "python",
   "name": "python3"
  },
  "language_info": {
   "codemirror_mode": {
    "name": "ipython",
    "version": 3
   },
   "file_extension": ".py",
   "mimetype": "text/x-python",
   "name": "python",
   "nbconvert_exporter": "python",
   "pygments_lexer": "ipython3",
   "version": "3.8.8"
  }
 },
 "nbformat": 4,
 "nbformat_minor": 5
}
