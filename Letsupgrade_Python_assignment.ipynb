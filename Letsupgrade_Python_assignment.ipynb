{
 "cells": [
  {
   "cell_type": "markdown",
   "id": "80caa880",
   "metadata": {},
   "source": [
    "#### Write a Python program that asks the user to enter a number and then prints \"Fizz\" if the number is divisible by 3, \"Buzz\" if the number is divisible by 5, and \"FizzBuzz\" if the number is divisible by both 3 and 5. If the number is not divisible by either 3 or 5, the program should just print the number"
   ]
  },
  {
   "cell_type": "code",
   "execution_count": 10,
   "id": "e4178b7b",
   "metadata": {},
   "outputs": [
    {
     "name": "stdout",
     "output_type": "stream",
     "text": [
      "5\n",
      "1\n",
      "2\n",
      "Fizz\n",
      "4\n",
      "Buzz\n"
     ]
    }
   ],
   "source": [
    "n = int(input())\n",
    "for i in range(1,n+1):\n",
    "    if i%3==0 and i%5 == 0:\n",
    "        print(\"FizzBuzz\")\n",
    "    elif i%5 == 0:\n",
    "        print(\"Buzz\")\n",
    "    elif i%3 == 0:\n",
    "        print(\"Fizz\")\n",
    "    else:\n",
    "        print(i)"
   ]
  }
 ],
 "metadata": {
  "kernelspec": {
   "display_name": "Python 3 (ipykernel)",
   "language": "python",
   "name": "python3"
  },
  "language_info": {
   "codemirror_mode": {
    "name": "ipython",
    "version": 3
   },
   "file_extension": ".py",
   "mimetype": "text/x-python",
   "name": "python",
   "nbconvert_exporter": "python",
   "pygments_lexer": "ipython3",
   "version": "3.8.8"
  }
 },
 "nbformat": 4,
 "nbformat_minor": 5
}
