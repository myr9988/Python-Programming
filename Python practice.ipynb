{
 "cells": [
  {
   "cell_type": "code",
   "execution_count": 46,
   "id": "5449e3d3",
   "metadata": {},
   "outputs": [],
   "source": [
    "l = [1,2,3,4,5]"
   ]
  },
  {
   "cell_type": "code",
   "execution_count": 50,
   "id": "c021ee1e",
   "metadata": {},
   "outputs": [
    {
     "name": "stdout",
     "output_type": "stream",
     "text": [
      "1\n",
      "4\n",
      "9\n",
      "16\n",
      "25\n"
     ]
    }
   ],
   "source": [
    "j = []\n",
    "for  i in l:\n",
    "    i = i**2\n",
    "    print(i)"
   ]
  },
  {
   "cell_type": "code",
   "execution_count": 3,
   "id": "bbfcf1eb",
   "metadata": {},
   "outputs": [
    {
     "name": "stdout",
     "output_type": "stream",
     "text": [
      "1\n",
      "3\n",
      "5\n",
      "7\n",
      "9\n"
     ]
    }
   ],
   "source": [
    "for i in range(1,10):\n",
    "    if(i%2 != 0):\n",
    "        print(i)\n"
   ]
  },
  {
   "cell_type": "code",
   "execution_count": 1,
   "id": "85e06f18",
   "metadata": {},
   "outputs": [
    {
     "name": "stdout",
     "output_type": "stream",
     "text": [
      "[1, 3, 5, 7, 9]\n"
     ]
    }
   ],
   "source": [
    "odd = [i for i in range(1,11) if i%2 != 0]\n",
    "print(odd)"
   ]
  },
  {
   "cell_type": "code",
   "execution_count": 5,
   "id": "a06d2d2d",
   "metadata": {},
   "outputs": [
    {
     "name": "stdout",
     "output_type": "stream",
     "text": [
      "1\n",
      "4\n",
      "9\n",
      "16\n",
      "25\n",
      "36\n",
      "49\n",
      "64\n",
      "81\n"
     ]
    }
   ],
   "source": [
    "for i in range(1,10):\n",
    "    i = i**2\n",
    "    print(i)"
   ]
  },
  {
   "cell_type": "code",
   "execution_count": 6,
   "id": "959cd0d4",
   "metadata": {},
   "outputs": [
    {
     "name": "stdout",
     "output_type": "stream",
     "text": [
      "a\n",
      "6\n"
     ]
    }
   ],
   "source": [
    "s = 'write a program to count a perticular character in string'\n",
    "i = input('')\n",
    "print(s.count(i))"
   ]
  },
  {
   "cell_type": "code",
   "execution_count": 7,
   "id": "69d4919e",
   "metadata": {},
   "outputs": [
    {
     "name": "stdout",
     "output_type": "stream",
     "text": [
      "Counter({'e': 3, ' ': 3, 'a': 3, 't': 3, 's': 2, 'i': 2, 'w': 1, 'r': 1, 'd': 1, 'c': 1, 'n': 1})\n"
     ]
    }
   ],
   "source": [
    "from collections import Counter\n",
    "s = 'we are data scientist'\n",
    "count = Counter(s)\n",
    "print(count)"
   ]
  },
  {
   "cell_type": "code",
   "execution_count": 2,
   "id": "3f6798a6",
   "metadata": {},
   "outputs": [
    {
     "name": "stdout",
     "output_type": "stream",
     "text": [
      "2023-01-17 14:35:15\n"
     ]
    }
   ],
   "source": [
    "import datetime\n",
    "c = datetime.datetime.now()\n",
    "print(c.strftime(\"%Y-%m-%d %H:%M:%S\"))"
   ]
  },
  {
   "cell_type": "code",
   "execution_count": 9,
   "id": "4062d140",
   "metadata": {},
   "outputs": [
    {
     "name": "stdout",
     "output_type": "stream",
     "text": [
      "3.7994000000000008\n"
     ]
    }
   ],
   "source": [
    "r = 1.1\n",
    "f = 3.14 *(r**2)\n",
    "print(f)"
   ]
  },
  {
   "cell_type": "code",
   "execution_count": 11,
   "id": "9797b8a0",
   "metadata": {},
   "outputs": [
    {
     "name": "stdout",
     "output_type": "stream",
     "text": [
      "enter last name: Narkhede\n",
      "enter first name: Upasana\n",
      "Upasana Narkhede\n"
     ]
    }
   ],
   "source": [
    "a = input(\"enter last name: \")\n",
    "b = input(\"enter first name: \")\n",
    "print(b,a)"
   ]
  },
  {
   "cell_type": "code",
   "execution_count": 12,
   "id": "f641190c",
   "metadata": {},
   "outputs": [
    {
     "name": "stdout",
     "output_type": "stream",
     "text": [
      "['1', '2', '3', '4', '5']\n",
      "('1', '2', '3', '4', '5')\n"
     ]
    }
   ],
   "source": [
    "s = '1','2','3','4','5'\n",
    "print(list(s))\n",
    "\n",
    "print(tuple(s))"
   ]
  },
  {
   "cell_type": "code",
   "execution_count": 13,
   "id": "1f3e1944",
   "metadata": {},
   "outputs": [
    {
     "name": "stdout",
     "output_type": "stream",
     "text": [
      "enter file with ext: abc.java\n",
      "'java'\n"
     ]
    }
   ],
   "source": [
    "ip = input(\"enter file with ext: \")\n",
    "ext = ip.split(\".\")\n",
    "print(repr(ext[-1]))"
   ]
  },
  {
   "cell_type": "code",
   "execution_count": 6,
   "id": "8b81f4ba",
   "metadata": {},
   "outputs": [
    {
     "name": "stdout",
     "output_type": "stream",
     "text": [
      "my name is mayur\n"
     ]
    }
   ],
   "source": [
    "a = \"my name is mayur\"\n",
    "print(a)"
   ]
  },
  {
   "cell_type": "code",
   "execution_count": 14,
   "id": "777555c3",
   "metadata": {},
   "outputs": [
    {
     "name": "stdout",
     "output_type": "stream",
     "text": [
      "10 20 30\n"
     ]
    }
   ],
   "source": [
    "p, q, r = 10, 20 ,30\n",
    "print(p, q, r)"
   ]
  },
  {
   "cell_type": "code",
   "execution_count": 15,
   "id": "e4387b17",
   "metadata": {},
   "outputs": [
    {
     "name": "stdout",
     "output_type": "stream",
     "text": [
      "* \n",
      "\n",
      "* * \n",
      "\n",
      "* * * \n",
      "\n",
      "* * * * \n",
      "\n",
      "* * * * * \n",
      "\n"
     ]
    }
   ],
   "source": [
    "#n = int(input(\"Enter any number: \"))\n",
    "for i in range(0,5):\n",
    "    for j in range(0,i+1):\n",
    "        print(\"*\", end = ' ')\n",
    "    print('\\n')    \n"
   ]
  },
  {
   "cell_type": "code",
   "execution_count": 8,
   "id": "0a4949f8",
   "metadata": {},
   "outputs": [
    {
     "name": "stdout",
     "output_type": "stream",
     "text": [
      "Enter the value of n :5\n",
      "* \n",
      "* * \n",
      "* * * \n",
      "* * * * \n",
      "* * * * * \n"
     ]
    }
   ],
   "source": [
    "n = int(input(\"Enter the value of n :\"))\n",
    "for i in range(n):\n",
    "    print(('*' + ' ') * (i+1))"
   ]
  },
  {
   "cell_type": "code",
   "execution_count": 10,
   "id": "ff2fc37f",
   "metadata": {},
   "outputs": [
    {
     "name": "stdout",
     "output_type": "stream",
     "text": [
      "Enter the value of n : 5\n",
      "     *\n",
      "    **\n",
      "   ***\n",
      "  ****\n",
      " *****\n"
     ]
    }
   ],
   "source": [
    "n = int(input(\"Enter the value of n : \"))\n",
    "for i in range(n):\n",
    "    print((' ' * (n - i) + '*' * (i + 1)))"
   ]
  },
  {
   "cell_type": "code",
   "execution_count": 16,
   "id": "4711af1f",
   "metadata": {},
   "outputs": [
    {
     "name": "stdout",
     "output_type": "stream",
     "text": [
      "\n",
      "*\n",
      "**\n",
      "***\n",
      "****\n",
      "*****\n"
     ]
    }
   ],
   "source": [
    "l =[]\n",
    "for i in range(0,6):\n",
    "    l.append('*' * i)\n",
    "print(\"\\n\".join(l))"
   ]
  },
  {
   "cell_type": "code",
   "execution_count": 17,
   "id": "603e09ec",
   "metadata": {},
   "outputs": [
    {
     "name": "stdout",
     "output_type": "stream",
     "text": [
      "Counter({' ': 4, 'a': 4, 'i': 3, 'e': 3, 'n': 3, 'c': 2, 'm': 1, 'l': 1, 'r': 1, 'g': 1, 'd': 1, 't': 1, 's': 1})\n"
     ]
    }
   ],
   "source": [
    "from collections import Counter\n",
    "s = \"i am learning data science\"\n",
    "\n",
    "cnt = Counter(s) \n",
    "print(cnt)"
   ]
  },
  {
   "cell_type": "code",
   "execution_count": 18,
   "id": "0946f4d0",
   "metadata": {},
   "outputs": [
    {
     "name": "stdout",
     "output_type": "stream",
     "text": [
      "Enter the character: i\n",
      "3\n"
     ]
    }
   ],
   "source": [
    "s = \"i am learning data science\"\n",
    "ip = input(\"Enter the character: \")\n",
    "print(s.count(ip))"
   ]
  },
  {
   "cell_type": "code",
   "execution_count": 2,
   "id": "2e6f3ef7",
   "metadata": {},
   "outputs": [
    {
     "name": "stdout",
     "output_type": "stream",
     "text": [
      "     \n",
      "    *\n",
      "   **\n",
      "  ***\n",
      " ****\n",
      "*****\n"
     ]
    }
   ],
   "source": [
    "n = 5\n",
    "for i in range(0, n+1):\n",
    "    print(\" \" * (n-i) + \"*\" * i)"
   ]
  },
  {
   "cell_type": "code",
   "execution_count": 20,
   "id": "15b29249",
   "metadata": {},
   "outputs": [
    {
     "name": "stdout",
     "output_type": "stream",
     "text": [
      "    * \r\n",
      "   * * \r\n",
      "  * * * \r\n",
      " * * * * \r\n",
      "* * * * * \r\n"
     ]
    }
   ],
   "source": [
    "def triangle(n):\n",
    "    k = n - 1\n",
    "    for i in range(0, n):\n",
    "        for j in range(0, k):\n",
    "            print(end=\" \")\n",
    "        k = k - 1\n",
    "        for j in range(0, i+1):\n",
    "            print(\"* \", end=\"\")\n",
    "        print(\"\\r\")\n",
    " \n",
    "\n",
    "n = 5\n",
    "triangle(n)"
   ]
  },
  {
   "cell_type": "code",
   "execution_count": null,
   "id": "ed865841",
   "metadata": {},
   "outputs": [],
   "source": [
    "n = int(input(\"Enter the value of n : \"))\n",
    "for i in range(n):\n",
    "    print()"
   ]
  },
  {
   "cell_type": "code",
   "execution_count": 20,
   "id": "ad7fb15f",
   "metadata": {},
   "outputs": [
    {
     "name": "stdout",
     "output_type": "stream",
     "text": [
      "Enter the value of n : 5\n",
      "$ \n",
      "$ \n",
      "$ \n",
      "$ \n",
      "$ \n",
      " "
     ]
    }
   ],
   "source": [
    "n = int(input(\"Enter the value of n : \"))\n",
    "print('$ \\n' * n, end = \" \")"
   ]
  },
  {
   "cell_type": "code",
   "execution_count": 21,
   "id": "0bac0c2f",
   "metadata": {},
   "outputs": [
    {
     "name": "stdout",
     "output_type": "stream",
     "text": [
      "Enter the number: 5\n",
      "    * \n",
      "   * * \n",
      "  * * * \n",
      " * * * * \n",
      "* * * * * \n"
     ]
    }
   ],
   "source": [
    "n = int(input(\"Enter the number: \"))\n",
    "k = n-1\n",
    "for i in range(0, n):\n",
    "    for j in range(0 , k):\n",
    "        print(end= \" \")\n",
    "    k = k - 1\n",
    "    for j in range(0 ,i+1):\n",
    "        print(\"*\", end= \" \")\n",
    "    print(\"\\r\")"
   ]
  },
  {
   "cell_type": "code",
   "execution_count": 22,
   "id": "1e2d31c7",
   "metadata": {},
   "outputs": [],
   "source": [
    "#triangle(5)"
   ]
  },
  {
   "cell_type": "code",
   "execution_count": 23,
   "id": "6caa106a",
   "metadata": {},
   "outputs": [
    {
     "name": "stdout",
     "output_type": "stream",
     "text": [
      " 4\n",
      "$ $ $ $  \n",
      "$ $ $ $  \n",
      "$ $ $ $  \n",
      "$ $ $ $  \n"
     ]
    }
   ],
   "source": [
    "n = int(input(\" \"))\n",
    "for i in range(0 , n):\n",
    "    for j in range(0 , n):\n",
    "        print(\"$\", end = \" \")\n",
    "    print(\" \")\n",
    "    \n",
    "    "
   ]
  },
  {
   "cell_type": "code",
   "execution_count": 12,
   "id": "1bdc7800",
   "metadata": {},
   "outputs": [
    {
     "name": "stdout",
     "output_type": "stream",
     "text": [
      "Enter the value of n : 5\n",
      "$ $ $ $ $ \n",
      "$ $ $ $ $ \n",
      "$ $ $ $ $ \n",
      "$ $ $ $ $ \n",
      "$ $ $ $ $ \n"
     ]
    }
   ],
   "source": [
    "n = int(input(\"Enter the value of n : \"))\n",
    "for i in range(n):\n",
    "    print('$ ' * n, end = '\\n')"
   ]
  },
  {
   "cell_type": "code",
   "execution_count": 24,
   "id": "33ba77a9",
   "metadata": {},
   "outputs": [
    {
     "name": "stdout",
     "output_type": "stream",
     "text": [
      "\n",
      "i am a girl\n",
      "i am a girli am a girl\n"
     ]
    }
   ],
   "source": [
    "s = 'i am a girl'\n",
    "for i in range(0,3):\n",
    "    print(s *i)"
   ]
  },
  {
   "cell_type": "code",
   "execution_count": 25,
   "id": "e1f74319",
   "metadata": {},
   "outputs": [
    {
     "name": "stdout",
     "output_type": "stream",
     "text": [
      "i am a girl\n",
      "i am a girl\n",
      "i am a girl\n"
     ]
    }
   ],
   "source": [
    "for i in range(3):\n",
    "    print(\"i am a girl\")"
   ]
  },
  {
   "cell_type": "code",
   "execution_count": 26,
   "id": "12ebb677",
   "metadata": {},
   "outputs": [
    {
     "name": "stdout",
     "output_type": "stream",
     "text": [
      "$ Hi Harshita $\n",
      "$ Hi Harshita $\n",
      "$ Hi Harshita $\n",
      "$ Hi Harshita $\n"
     ]
    }
   ],
   "source": [
    "for i in range(4):\n",
    "    print(\"$ Hi Harshita $\")"
   ]
  },
  {
   "cell_type": "code",
   "execution_count": 27,
   "id": "e18d379d",
   "metadata": {},
   "outputs": [
    {
     "name": "stdout",
     "output_type": "stream",
     "text": [
      "How many times do u want to repeat the statement?: 3\n",
      "Hi!How are you doing?\n",
      "Hi!How are you doing?\n",
      "Hi!How are you doing?\n",
      "\n"
     ]
    }
   ],
   "source": [
    "n = int(input(\"How many times do u want to repeat the statement?: \"))\n",
    "print(\"Hi!How are you doing?\\n\" * n)"
   ]
  },
  {
   "cell_type": "code",
   "execution_count": 28,
   "id": "8887a520",
   "metadata": {},
   "outputs": [
    {
     "name": "stdout",
     "output_type": "stream",
     "text": [
      "Enter the number: 4\n",
      "1 \n",
      "1 2 \n",
      "1 2 3 \n",
      "1 2 3 4 \n"
     ]
    }
   ],
   "source": [
    "n = int(input(\"Enter the number: \"))\n",
    "\n",
    "for i in range(0 , n):\n",
    "    no = 1\n",
    "    for j in range(0,i+1):\n",
    "        print(no, end=\" \")\n",
    "        no += 1\n",
    "    print(\"\\r\")"
   ]
  },
  {
   "cell_type": "code",
   "execution_count": null,
   "id": "72c83eef",
   "metadata": {},
   "outputs": [],
   "source": []
  },
  {
   "cell_type": "code",
   "execution_count": 29,
   "id": "a18216ab",
   "metadata": {},
   "outputs": [
    {
     "name": "stdout",
     "output_type": "stream",
     "text": [
      "0 \r\n",
      "1 2 \r\n",
      "3 4 5 \r\n",
      "6 7 8 9 \r\n"
     ]
    }
   ],
   "source": [
    "def num(n):\n",
    "    no = 0\n",
    "    for i in range(0 , n):\n",
    "        for j in range(0 , i+1):\n",
    "            print(no , end=' ')\n",
    "            no+=1\n",
    "        print(\"\\r\")\n",
    "        \n",
    "num(4)"
   ]
  },
  {
   "cell_type": "code",
   "execution_count": 30,
   "id": "0f921041",
   "metadata": {},
   "outputs": [
    {
     "name": "stdout",
     "output_type": "stream",
     "text": [
      "Enter the no: 5\n",
      "A \n",
      "B B \n",
      "C C C \n",
      "D D D D \n",
      "E E E E E \n"
     ]
    }
   ],
   "source": [
    "n = int(input(\"Enter the no: \"))\n",
    "a = 65\n",
    "for i in range(0 , n):\n",
    "    for j in range(0 , i+1):\n",
    "        char = chr(a)\n",
    "        print(char , end=\" \")\n",
    "    a += 1\n",
    "    \n",
    "    print(\"\\r\")"
   ]
  },
  {
   "cell_type": "code",
   "execution_count": 31,
   "id": "5971c97f",
   "metadata": {},
   "outputs": [
    {
     "name": "stdout",
     "output_type": "stream",
     "text": [
      "Enter the no: 4\n",
      "A \n",
      "B C \n",
      "D E F \n",
      "G H I J \n"
     ]
    }
   ],
   "source": [
    "n = int(input(\"Enter the no: \"))\n",
    "a = 65\n",
    "for i in range(0 , n):\n",
    "    for j in range(0 , i+1):\n",
    "        char = chr(a)\n",
    "        print(char , end=\" \")\n",
    "        a += 1\n",
    "    \n",
    "    print(\"\\r\")"
   ]
  },
  {
   "cell_type": "code",
   "execution_count": 32,
   "id": "1a538681",
   "metadata": {},
   "outputs": [
    {
     "name": "stdout",
     "output_type": "stream",
     "text": [
      "Enter the no: 4\n",
      "A \n",
      "A B \n",
      "A B C \n",
      "A B C D \n"
     ]
    }
   ],
   "source": [
    "n = int(input(\"Enter the no: \"))\n",
    "\n",
    "for i in range(0 , n):\n",
    "    a = 65\n",
    "    for j in range(0 , i+1):\n",
    "        char = chr(a)\n",
    "        print(char , end=\" \")\n",
    "        a += 1\n",
    "    \n",
    "    print(\"\\r\")"
   ]
  },
  {
   "cell_type": "code",
   "execution_count": 33,
   "id": "68ac3ece",
   "metadata": {},
   "outputs": [
    {
     "name": "stdout",
     "output_type": "stream",
     "text": [
      "Enter the no of rows: 5\n",
      "1 1 1 1 1 \n",
      "2 2 2 2 \n",
      "3 3 3 \n",
      "4 4 \n",
      "5 \n"
     ]
    }
   ],
   "source": [
    "rows = int(input(\"Enter the no of rows: \"))\n",
    "n = 0\n",
    "for i in range(rows , 0 , -1):\n",
    "    n += 1\n",
    "    for j in range(1 , i+1):\n",
    "        print(n , end=\" \")\n",
    "    print(\"\\r\")\n"
   ]
  },
  {
   "cell_type": "code",
   "execution_count": 34,
   "id": "0708bc9c",
   "metadata": {},
   "outputs": [
    {
     "name": "stdout",
     "output_type": "stream",
     "text": [
      "Enter the no of rows: 4\n",
      "0 1 2 3 4 \n",
      "0 1 2 3 \n",
      "0 1 2 \n",
      "0 1 \n"
     ]
    }
   ],
   "source": [
    "rows = int(input(\"Enter the no of rows: \"))\n",
    "#n = 0\n",
    "for i in range(rows , 0 , -1):\n",
    "    for j in range(0 , i+1):\n",
    "        print(j , end=\" \")\n",
    "    print(\"\\r\")"
   ]
  },
  {
   "cell_type": "code",
   "execution_count": 35,
   "id": "9c38ff4e",
   "metadata": {},
   "outputs": [
    {
     "name": "stdout",
     "output_type": "stream",
     "text": [
      "Enter the no of rows: 4\n",
      "4 4 4 4 \n",
      "3 3 3 \n",
      "2 2 \n",
      "1 \n"
     ]
    }
   ],
   "source": [
    "rows = int(input(\"Enter the no of rows: \"))\n",
    "n = rows + 1\n",
    "for i in range(rows , 0 , -1):\n",
    "    n -= 1\n",
    "    for j in range(1 , i+1):\n",
    "        print(n , end=\" \")\n",
    "    print(\"\\r\")\n"
   ]
  },
  {
   "cell_type": "code",
   "execution_count": 36,
   "id": "9b7a9ce2",
   "metadata": {},
   "outputs": [
    {
     "name": "stdout",
     "output_type": "stream",
     "text": [
      " 5\n",
      "The output is-->\n",
      "      1 \n",
      "     1 1 \n",
      "    1 2 1 \n",
      "   1 3 3 1 \n",
      "  1 4 6 4 1 \n"
     ]
    }
   ],
   "source": [
    "# Pascal triangle:\n",
    "from math import factorial\n",
    "n = int(input(\" \"))   \n",
    "print(\"The output is-->\")\n",
    "for i in range(n):\n",
    "    for j in range(n-i+1):\n",
    "        print(end=\" \")\n",
    "    for j in range(i+1):\n",
    "        print((factorial(i))//(factorial(j)*factorial(i-j)), end=\" \")\n",
    "    print()"
   ]
  },
  {
   "cell_type": "code",
   "execution_count": 37,
   "id": "09ad65e1",
   "metadata": {},
   "outputs": [
    {
     "name": "stdout",
     "output_type": "stream",
     "text": [
      "        1 \n",
      "       1 1 \n",
      "      1 2 1 \n",
      "     1 3 3 1 \n",
      "    1 4 6 4 1 \n",
      "   1 5 10 10 5 1 \n",
      "  1 6 15 20 15 6 1 \n"
     ]
    }
   ],
   "source": [
    "# Pascal triangle:\n",
    "from math import factorial\n",
    "def pascal(n):  \n",
    "    for i in range(n):\n",
    "        for j in range(n-i+1):\n",
    "            print(end=\" \")\n",
    "        for j in range(i+1):\n",
    "            print((factorial(i))//(factorial(j)*factorial(i-j)), end=\" \")\n",
    "        print()\n",
    "        \n",
    "pascal(7)"
   ]
  },
  {
   "cell_type": "code",
   "execution_count": 54,
   "id": "5ace3bd3",
   "metadata": {},
   "outputs": [
    {
     "name": "stdout",
     "output_type": "stream",
     "text": [
      "1505,1540,1575,1610,1645,1680,1715,1750,1785,1820,1855,1890,1925,1960,1995,2030,2065,2100,2135,2170,2205,2240,2275,2310,2345,2380,2415,2450,2485,2520,2555,2590,2625,2660,2695\n"
     ]
    }
   ],
   "source": [
    "l =[]\n",
    "for i in range(1500,2701):\n",
    "    if (i%7==0) and (i%5==0):\n",
    "        l.append(str(i))\n",
    "print(\",\".join(l))"
   ]
  },
  {
   "cell_type": "code",
   "execution_count": 55,
   "id": "40b40f70",
   "metadata": {},
   "outputs": [
    {
     "name": "stdout",
     "output_type": "stream",
     "text": [
      "1,4,9,16,25,36\n"
     ]
    }
   ],
   "source": [
    "l =[1,2,3,4,5,6]\n",
    "\n",
    "j =[]\n",
    "for i in l:\n",
    "    i = i**2\n",
    "    j.append(str(i))\n",
    "print(\",\".join(j))"
   ]
  },
  {
   "cell_type": "code",
   "execution_count": 22,
   "id": "e49987b2",
   "metadata": {},
   "outputs": [
    {
     "name": "stdout",
     "output_type": "stream",
     "text": [
      "Enter temperature with convention: 12 C\n",
      "the temperature is 54 F\n"
     ]
    }
   ],
   "source": [
    "ip = input(\"Enter temperature with convention: \")\n",
    "temp = int(ip[:-1])\n",
    "conv_ip = ip[-1]\n",
    "\n",
    "if conv_ip == 'C':\n",
    "    res = (round(temp * 9/5)+32)\n",
    "    conv_op = \"F\"\n",
    "    \n",
    "elif conv_ip == 'F':\n",
    "    res = (round(temp - 32)*(5/9))\n",
    "    conv_op = 'C'\n",
    "else:\n",
    "    print(\"Please give proper input\")\n",
    "    \n",
    "    quit()\n",
    "    \n",
    "print(\"the temperature is {} {}\".format(res,conv_op))\n",
    "    "
   ]
  },
  {
   "cell_type": "code",
   "execution_count": 10,
   "id": "a6b779b4",
   "metadata": {},
   "outputs": [
    {
     "name": "stdout",
     "output_type": "stream",
     "text": [
      "Enter value: 5\n",
      "\n",
      "* \n",
      "* * \n",
      "* * * \n",
      "* * * * \n",
      "* * * * *  \n",
      "* * * *  \n",
      "* * *  \n",
      "* *  \n",
      "*  \n"
     ]
    }
   ],
   "source": [
    "n =int(input(\"Enter value: \")) \n",
    "for i in range(n):\n",
    "    for j in range(i):\n",
    "        print(\"*\",end = \" \")\n",
    "    print(\"\")\n",
    "\n",
    "for i in range(n,0,-1):\n",
    "    for j in range(i):\n",
    "         print(\"*\",end = \" \")\n",
    "    print(\" \")\n",
    "    \n"
   ]
  },
  {
   "cell_type": "code",
   "execution_count": 34,
   "id": "ac54396c",
   "metadata": {},
   "outputs": [
    {
     "name": "stdout",
     "output_type": "stream",
     "text": [
      "Enter the word: mayur\n",
      "ruyam\n"
     ]
    }
   ],
   "source": [
    "word = input(\"Enter the word: \")\n",
    "for ch in range((len(word))-1,-1,-1):\n",
    "    print(word[ch], end=\"\")\n",
    "#print(\" \")\n",
    "#word = word[::-1]\n",
    "#print(word)"
   ]
  },
  {
   "cell_type": "code",
   "execution_count": 15,
   "id": "e5af92f9",
   "metadata": {},
   "outputs": [
    {
     "data": {
      "text/plain": [
       "'emoclew'"
      ]
     },
     "execution_count": 15,
     "metadata": {},
     "output_type": "execute_result"
    }
   ],
   "source": [
    "a = \"welcome\"\n",
    "a[-1: :-1]"
   ]
  },
  {
   "cell_type": "code",
   "execution_count": 38,
   "id": "c39a6882",
   "metadata": {},
   "outputs": [
    {
     "name": "stdout",
     "output_type": "stream",
     "text": [
      "Enter the number: 5\n",
      "Count of even numbers: 3\n",
      "Count of odd numbers: 2\n"
     ]
    }
   ],
   "source": [
    "n = int(input(\"Enter the number: \"))\n",
    "\n",
    "even = 0\n",
    "odd = 0\n",
    "for i in range(0, n):\n",
    "        if(i%2 == 0):\n",
    "            even += 1\n",
    "            \n",
    "        else:\n",
    "            odd += 1\n",
    "            \n",
    "print(\"Count of even numbers:\",even)           \n",
    "print(\"Count of odd numbers:\",odd)   "
   ]
  },
  {
   "cell_type": "code",
   "execution_count": 39,
   "id": "6a450b6c",
   "metadata": {},
   "outputs": [
    {
     "name": "stdout",
     "output_type": "stream",
     "text": [
      "Count of even numbers: 5\n",
      "Count of odd numbers: 3\n"
     ]
    }
   ],
   "source": [
    "n = [1,23,12,4,5,8,98,90]\n",
    "even = 0\n",
    "odd = 0\n",
    "for i in n:\n",
    "        if(i%2 == 0):\n",
    "            even += 1\n",
    "            \n",
    "        else:\n",
    "            odd += 1\n",
    "            \n",
    "print(\"Count of even numbers:\",even)           \n",
    "print(\"Count of odd numbers:\",odd) "
   ]
  },
  {
   "cell_type": "code",
   "execution_count": 32,
   "id": "46f40353",
   "metadata": {},
   "outputs": [
    {
     "name": "stdout",
     "output_type": "stream",
     "text": [
      "The type of  1452 : <class 'int'>\n",
      "The type of  11.23 : <class 'float'>\n",
      "The type of  (1+2j) : <class 'complex'>\n",
      "The type of  True : <class 'bool'>\n",
      "The type of  w3resource : <class 'str'>\n",
      "The type of  (0, -1) : <class 'tuple'>\n",
      "The type of  [5, 12] : <class 'list'>\n",
      "The type of  {'class': 'V', 'section': 'A'} : <class 'dict'>\n"
     ]
    }
   ],
   "source": [
    "l = [1452, 11.23, 1+2j, True, 'w3resource', (0, -1), [5, 12], {\"class\":'V', \"section\":'A'}]\n",
    "for i in l:\n",
    "        print(\"The type of \",i ,\":\",type(i))"
   ]
  },
  {
   "cell_type": "code",
   "execution_count": 33,
   "id": "e49b3358",
   "metadata": {},
   "outputs": [
    {
     "name": "stdout",
     "output_type": "stream",
     "text": [
      "0 1 2 4 5 "
     ]
    }
   ],
   "source": [
    "for i in range(0,6):\n",
    "    if(i ==3 or i == 6):\n",
    "        continue\n",
    "    print(i, end=\" \")"
   ]
  },
  {
   "cell_type": "code",
   "execution_count": 34,
   "id": "ce2ed245",
   "metadata": {},
   "outputs": [
    {
     "name": "stdout",
     "output_type": "stream",
     "text": [
      "enter the alphanumeric string: upasana2797\n",
      "no.of digits: 4\n",
      "no.of letters: 7\n"
     ]
    }
   ],
   "source": [
    "a = input(\"enter the alphanumeric string: \")\n",
    "d = 0\n",
    "l = 0\n",
    "\n",
    "for i in a:\n",
    "    if i.isdigit():\n",
    "        d += 1\n",
    "    elif i.isalpha():\n",
    "        l += 1\n",
    "print(\"no.of digits:\",d)\n",
    "print(\"no.of letters:\" ,l)\n",
    "        "
   ]
  },
  {
   "cell_type": "code",
   "execution_count": 51,
   "id": "ed08ca80",
   "metadata": {},
   "outputs": [
    {
     "name": "stdout",
     "output_type": "stream",
     "text": [
      "no.of digits: 2\n",
      "no.of letters: 2\n"
     ]
    }
   ],
   "source": [
    "a = ['n','p','2','3']\n",
    "\n",
    "d = 0\n",
    "l = 0\n",
    "\n",
    "for i in a:\n",
    "    if i.isdigit():\n",
    "        d += 1\n",
    "    elif i.isalpha():\n",
    "        l += 1\n",
    "print(\"no.of digits:\",d)\n",
    "print(\"no.of letters:\" ,l)"
   ]
  },
  {
   "cell_type": "code",
   "execution_count": 46,
   "id": "2d58bd9a",
   "metadata": {},
   "outputs": [
    {
     "name": "stdout",
     "output_type": "stream",
     "text": [
      "Enter no. of units: 201\n",
      "Total amount to pay:  2010\n"
     ]
    }
   ],
   "source": [
    "total = 0\n",
    "unit = int(input(\"Enter no. of units: \"))\n",
    "if unit >200:\n",
    "    total = unit *10\n",
    "elif unit <=200:\n",
    "    total = unit*5\n",
    "elif unit <=100:\n",
    "    total = 0\n",
    "print(\"Total amount to pay: \",total)"
   ]
  },
  {
   "cell_type": "code",
   "execution_count": 22,
   "id": "39b6ff1c",
   "metadata": {},
   "outputs": [
    {
     "name": "stdout",
     "output_type": "stream",
     "text": [
      "Duplicate elements in given array: \n",
      "1\n",
      "2\n"
     ]
    }
   ],
   "source": [
    "# print the duplicate elements\n",
    "lst = [1,2,2,1,3,4,5,6,7,8]\n",
    "print(\"Duplicate elements in given list: \");    \n",
    "#Searches for duplicate element    \n",
    "for i in range(0, len(lst)):    \n",
    "    for j in range(i+1, len(lst)):    \n",
    "        if(arr[i] == arr[j]):    \n",
    "            print(arr[j]); "
   ]
  },
  {
   "cell_type": "code",
   "execution_count": 28,
   "id": "94bcc7c7",
   "metadata": {},
   "outputs": [
    {
     "name": "stdout",
     "output_type": "stream",
     "text": [
      "Number of words: 4\n",
      "['mayur', 'is', 'name', 'my']\n"
     ]
    }
   ],
   "source": [
    "# word count\n",
    "s = 'my name is mayur'\n",
    "words = len(s.split())\n",
    "print(\"Number of words:\", words)\n",
    "\n",
    "word = s.split()\n",
    "print(word[::-1])"
   ]
  },
  {
   "cell_type": "code",
   "execution_count": null,
   "id": "214e62e8",
   "metadata": {},
   "outputs": [],
   "source": []
  }
 ],
 "metadata": {
  "kernelspec": {
   "display_name": "Python 3 (ipykernel)",
   "language": "python",
   "name": "python3"
  },
  "language_info": {
   "codemirror_mode": {
    "name": "ipython",
    "version": 3
   },
   "file_extension": ".py",
   "mimetype": "text/x-python",
   "name": "python",
   "nbconvert_exporter": "python",
   "pygments_lexer": "ipython3",
   "version": "3.8.8"
  }
 },
 "nbformat": 4,
 "nbformat_minor": 5
}
