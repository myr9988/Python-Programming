{
 "cells": [
  {
   "cell_type": "markdown",
   "id": "ee16877c",
   "metadata": {},
   "source": [
    "1. Write a Python program to print the following string in a specific format (see the output).\n",
    "Sample String : \"Twinkle, twinkle, little star, How I wonder what you are! Up above the world so high, Like a diamond in the sky. Twinkle, twinkle, little star, How I wonder what you are\" Output :\n",
    "\n",
    "Twinkle, twinkle, little star,\n",
    "\tHow I wonder what you are! \n",
    "\t\tUp above the world so high,   \t\t\n",
    "\t\tLike a diamond in the sky. \n",
    "Twinkle, twinkle, little star, \n",
    "\tHow I wonder what you are"
   ]
  },
  {
   "cell_type": "code",
   "execution_count": 1,
   "id": "beee5321",
   "metadata": {
    "scrolled": true
   },
   "outputs": [
    {
     "name": "stdout",
     "output_type": "stream",
     "text": [
      "Twinkle, twinkle, little star, \n",
      "\t How I wonder what you are! \n",
      "\t\tUp above the world so high, \n",
      "\t\tLike a diamond in the sky. \n",
      "Twinkle, twinkle, little star, \n",
      "\tHow I wonder what you are!\n"
     ]
    }
   ],
   "source": [
    "print(\"Twinkle, twinkle, little star, \\n\\t How I wonder what you are! \\n\\t\\tUp above the world so high, \\n\\t\\tLike a diamond in the sky. \\nTwinkle, twinkle, little star, \\n\\tHow I wonder what you are!\")\n"
   ]
  },
  {
   "cell_type": "markdown",
   "id": "4503ddd1",
   "metadata": {},
   "source": [
    "2. Write a Python program to get the Python version you are using"
   ]
  },
  {
   "cell_type": "code",
   "execution_count": 2,
   "id": "f1f07eef",
   "metadata": {
    "scrolled": true
   },
   "outputs": [
    {
     "name": "stdout",
     "output_type": "stream",
     "text": [
      "Python version\n",
      "3.9.12 (main, Apr  4 2022, 05:22:27) [MSC v.1916 64 bit (AMD64)]\n",
      "Version info.\n",
      "sys.version_info(major=3, minor=9, micro=12, releaselevel='final', serial=0)\n"
     ]
    }
   ],
   "source": [
    "import sys\n",
    "print(\"Python version\")\n",
    "print (sys.version)\n",
    "print(\"Version info.\")\n",
    "print (sys.version_info)"
   ]
  },
  {
   "cell_type": "code",
   "execution_count": null,
   "id": "1355ebf2",
   "metadata": {},
   "outputs": [],
   "source": [
    "!python --version"
   ]
  },
  {
   "cell_type": "markdown",
   "id": "1fcd00e8",
   "metadata": {},
   "source": [
    "3. Write a Python program to display the current date and time."
   ]
  },
  {
   "cell_type": "code",
   "execution_count": 3,
   "id": "6a559392",
   "metadata": {
    "scrolled": true
   },
   "outputs": [
    {
     "name": "stdout",
     "output_type": "stream",
     "text": [
      "Current date and time :  2022-08-26 11:41:09.737084\n"
     ]
    }
   ],
   "source": [
    "import datetime\n",
    "now = datetime.datetime.now()\n",
    "print (\"Current date and time : \",now)"
   ]
  },
  {
   "cell_type": "markdown",
   "id": "013c969a",
   "metadata": {},
   "source": [
    "4. Write a Python program which accepts the radius of a circle from the user and compute the area"
   ]
  },
  {
   "cell_type": "code",
   "execution_count": 7,
   "id": "7ec346b7",
   "metadata": {},
   "outputs": [],
   "source": [
    "import numpy as np\n",
    "def areaofcircle(radius):\n",
    "    radius=float(input('Enter the radius of Circle:'))\n",
    "    area=np.pi *radius*radius\n",
    "    return area   "
   ]
  },
  {
   "cell_type": "code",
   "execution_count": 8,
   "id": "c176d625",
   "metadata": {
    "scrolled": true
   },
   "outputs": [
    {
     "name": "stdout",
     "output_type": "stream",
     "text": [
      "Enter the radius of Circle:5\n"
     ]
    },
    {
     "data": {
      "text/plain": [
       "78.53981633974483"
      ]
     },
     "execution_count": 8,
     "metadata": {},
     "output_type": "execute_result"
    }
   ],
   "source": [
    "areaofcircle(1.5)"
   ]
  },
  {
   "cell_type": "markdown",
   "id": "83236de7",
   "metadata": {},
   "source": [
    "5. Write a Python program which accepts the user's first and last name and print them in reverse order with a space between them."
   ]
  },
  {
   "cell_type": "code",
   "execution_count": 13,
   "id": "6a75763e",
   "metadata": {},
   "outputs": [],
   "source": [
    "def reversethestring():\n",
    "    first_name=input('Enter your first name :')\n",
    "    last_name=input('Enter your last name :')\n",
    "    return last_name[::-1],first_name[::-1]"
   ]
  },
  {
   "cell_type": "code",
   "execution_count": 12,
   "id": "e64a224d",
   "metadata": {
    "scrolled": true
   },
   "outputs": [
    {
     "name": "stdout",
     "output_type": "stream",
     "text": [
      "Enter your first name :Mayur\n",
      "Enter your last name :Korde\n"
     ]
    },
    {
     "data": {
      "text/plain": [
       "('edroK', 'ruyaM')"
      ]
     },
     "execution_count": 12,
     "metadata": {},
     "output_type": "execute_result"
    }
   ],
   "source": [
    "reversethestring()"
   ]
  },
  {
   "cell_type": "code",
   "execution_count": 4,
   "id": "65438925",
   "metadata": {
    "scrolled": true
   },
   "outputs": [
    {
     "name": "stdout",
     "output_type": "stream",
     "text": [
      "Input your First Name : kajal\n",
      "Input your Last Name : rahate\n",
      "Hello  rahate kajal\n"
     ]
    }
   ],
   "source": [
    "## Another way \n",
    "f_name = input(\"Input your First Name : \")\n",
    "l_name = input(\"Input your Last Name : \")\n",
    "print (\"Hello  \" + l_name + \" \" + f_name)"
   ]
  },
  {
   "cell_type": "markdown",
   "id": "9797d92e",
   "metadata": {},
   "source": [
    "6. Write a Python program which accepts a sequence of comma-separated numbers from user and generate a list  with those numbers"
   ]
  },
  {
   "cell_type": "code",
   "execution_count": 15,
   "id": "41e8bc0a",
   "metadata": {},
   "outputs": [
    {
     "name": "stdout",
     "output_type": "stream",
     "text": [
      "Input some comma seprated numbers : 5,5,6\n",
      "['5', '5', '6']\n"
     ]
    }
   ],
   "source": [
    "values = input(\"Input some comma seprated numbers : \")\n",
    "list1 = values.split(\",\")\n",
    "print(list1)"
   ]
  },
  {
   "cell_type": "markdown",
   "id": "1a81d4a3",
   "metadata": {},
   "source": [
    "7. Write a Python program to accept a filename from the user and print the extension of that"
   ]
  },
  {
   "cell_type": "code",
   "execution_count": 17,
   "id": "2c9ceb75",
   "metadata": {},
   "outputs": [
    {
     "name": "stdout",
     "output_type": "stream",
     "text": [
      "Enter the name of file :abc.data\n",
      "data\n"
     ]
    }
   ],
   "source": [
    "file_name=input('Enter the name of file :')\n",
    "a=file_name.split('.')\n",
    "print(a[1])"
   ]
  },
  {
   "cell_type": "markdown",
   "id": "9a94ddfe",
   "metadata": {},
   "source": [
    "8. Write a Python program to display the first and last colors from the following list\n",
    "color_list = [\"yellow\",\"Green\",\"grey\" ,\"orange\"]"
   ]
  },
  {
   "cell_type": "code",
   "execution_count": 18,
   "id": "dd389d3f",
   "metadata": {
    "scrolled": true
   },
   "outputs": [
    {
     "name": "stdout",
     "output_type": "stream",
     "text": [
      "yellow\n",
      "orange\n"
     ]
    }
   ],
   "source": [
    "color_list = [\"yellow\",\"Green\",\"grey\" ,\"orange\"]\n",
    "print(color_list[0])\n",
    "print(color_list[-1])"
   ]
  },
  {
   "cell_type": "markdown",
   "id": "065f9a7d",
   "metadata": {},
   "source": [
    "9. Write a Python program that accepts an integer (n) and computes the value of n+nn+nnn"
   ]
  },
  {
   "cell_type": "code",
   "execution_count": 21,
   "id": "c2a0fc7f",
   "metadata": {},
   "outputs": [
    {
     "name": "stdout",
     "output_type": "stream",
     "text": [
      "Input an integer : 4\n",
      "4\n",
      "44\n",
      "444\n",
      "492\n"
     ]
    }
   ],
   "source": [
    "x = int(input(\"Input an integer : \"))\n",
    "n1 = int( \"%s\" % x )\n",
    "n2 = int( \"%s%s\" % (x,x) )\n",
    "n3 = int( \"%s%s%s\" % (x,x,x) )\n",
    "print(n1)\n",
    "print(n2)\n",
    "print(n3)\n",
    "print (n1+n2+n3)"
   ]
  },
  {
   "cell_type": "markdown",
   "id": "d46166ba",
   "metadata": {},
   "source": [
    "10.Write a program to demonstrate different number data types in Python."
   ]
  },
  {
   "cell_type": "code",
   "execution_count": 26,
   "id": "9bbf3b1f",
   "metadata": {
    "scrolled": true
   },
   "outputs": [
    {
     "name": "stdout",
     "output_type": "stream",
     "text": [
      "The datatype of a is  <class 'bool'>\n",
      "The datatype of b is  <class 'int'>\n",
      "The datatype of c is  <class 'float'>\n",
      "The datatype of d is  <class 'str'>\n"
     ]
    }
   ],
   "source": [
    "a=True\n",
    "b=12\n",
    "c=34.56\n",
    "d='Data sciience'\n",
    "print('The datatype of a is ',type(a))\n",
    "print('The datatype of b is ',type(b))\n",
    "print('The datatype of c is ',type(c))\n",
    "print('The datatype of d is ',type(d))\n"
   ]
  },
  {
   "cell_type": "markdown",
   "id": "93f3b3f9",
   "metadata": {},
   "source": [
    "11. Python Program to find sum of array"
   ]
  },
  {
   "cell_type": "code",
   "execution_count": 13,
   "id": "c9e01aa5",
   "metadata": {},
   "outputs": [],
   "source": [
    "import numpy as np"
   ]
  },
  {
   "cell_type": "code",
   "execution_count": 31,
   "id": "46d738eb",
   "metadata": {},
   "outputs": [],
   "source": [
    "def sumofarray(b):\n",
    "    add=0\n",
    "    for i in b:\n",
    "        add=add+i\n",
    "    return add"
   ]
  },
  {
   "cell_type": "code",
   "execution_count": 32,
   "id": "7cbf9757",
   "metadata": {},
   "outputs": [
    {
     "data": {
      "text/plain": [
       "6"
      ]
     },
     "execution_count": 32,
     "metadata": {},
     "output_type": "execute_result"
    }
   ],
   "source": [
    "sumofarray(([1,2,3]))"
   ]
  },
  {
   "cell_type": "code",
   "execution_count": 33,
   "id": "eb16b931",
   "metadata": {},
   "outputs": [],
   "source": [
    "array=np.array([1,2,3])\n",
    "def sum_array():\n",
    "    return sum(array)"
   ]
  },
  {
   "cell_type": "code",
   "execution_count": 34,
   "id": "ebe67e27",
   "metadata": {},
   "outputs": [
    {
     "data": {
      "text/plain": [
       "6"
      ]
     },
     "execution_count": 34,
     "metadata": {},
     "output_type": "execute_result"
    }
   ],
   "source": [
    "sum(array)"
   ]
  },
  {
   "cell_type": "markdown",
   "id": "5f6ae7db",
   "metadata": {},
   "source": [
    "12.Write a program to create, concatenate and print a string and\n",
    " accessing sub-string from a given string"
   ]
  },
  {
   "cell_type": "code",
   "execution_count": 36,
   "id": "bc9c925b",
   "metadata": {
    "scrolled": true
   },
   "outputs": [
    {
     "name": "stdout",
     "output_type": "stream",
     "text": [
      "Enter the first stringmayur\n",
      "Enter the second stringkorde\n",
      "The first string entered is mayur\n",
      "The second string entered is  korde\n",
      "concatenation of two entered string mayurkorde\n",
      "Substring of s1 ay\n",
      "substring of s2 r\n"
     ]
    }
   ],
   "source": [
    "s1=input('Enter the first string')\n",
    "s2=input('Enter the second string')\n",
    "print('The first string entered is',s1)\n",
    "print('The second string entered is ',s2)\n",
    "print('concatenation of two entered string',s1+s2)\n",
    "print('Substring of s1',s1[1:3])\n",
    "print('substring of s2',s2[2:3])"
   ]
  },
  {
   "cell_type": "markdown",
   "id": "aaa0e325",
   "metadata": {},
   "source": [
    "13.Create and explain the working of  tuple."
   ]
  },
  {
   "cell_type": "markdown",
   "id": "04688902",
   "metadata": {},
   "source": [
    "14.Write a python program to find largest of three numbers."
   ]
  },
  {
   "cell_type": "code",
   "execution_count": 37,
   "id": "8b11ecf4",
   "metadata": {},
   "outputs": [
    {
     "name": "stdout",
     "output_type": "stream",
     "text": [
      "Enter first number1\n",
      "Enter second number2\n",
      "Enter third number3\n",
      "The higest number is  3.0\n"
     ]
    }
   ],
   "source": [
    "num1=float(input('Enter first number'))\n",
    "num2=float(input('Enter second number'))\n",
    "num3=float(input('Enter third number'))\n",
    "\n",
    "if (num1>=num2) and (num1>=num3):\n",
    "    print('The highest number is',num1)\n",
    "elif (num2>=num1) and (num2>=num3):\n",
    "    print('The highest number is ',num2)\n",
    "else:\n",
    "    print('The higest number is ',num3)"
   ]
  },
  {
   "cell_type": "markdown",
   "id": "7ba0036e",
   "metadata": {},
   "source": [
    "15.Write a Python program to convert temperatures to and from Celsius,\n",
    " Fahrenheit. [ Formula: c = (f-32)(5/9)]"
   ]
  },
  {
   "cell_type": "code",
   "execution_count": 38,
   "id": "3d30fc52",
   "metadata": {
    "scrolled": true
   },
   "outputs": [
    {
     "name": "stdout",
     "output_type": "stream",
     "text": [
      "Enter temprature45\n",
      "Enter unitc\n",
      "Temprature in ferenhite is 113.0\n"
     ]
    }
   ],
   "source": [
    "temp=float(input('Enter temprature'))\n",
    "unit=input('Enter unit')\n",
    "\n",
    "if unit=='C' or unit=='c':\n",
    "    newtemp=9/5*temp+32\n",
    "    print('Temprature in ferenhite is',newtemp)\n",
    "elif unit=='F' or unit=='f':\n",
    "    newtemp=5/9*(temp-32)\n",
    "    print('Temparture is celsius is',newtemp)\n",
    "else:\n",
    "    print('unknown unit passed')"
   ]
  },
  {
   "cell_type": "markdown",
   "id": "50956180",
   "metadata": {},
   "source": [
    "    16. Write a Python program to construct the following pattern, using a\n",
    "     nested for loop"
   ]
  },
  {
   "cell_type": "markdown",
   "id": "bde3ca51",
   "metadata": {},
   "source": [
    "*\n",
    "* *\n",
    "* * *\n",
    "* * * *\n",
    "* * * * *\n",
    "* * * *\n",
    "* * *\n",
    "* *\n",
    "*"
   ]
  },
  {
   "cell_type": "code",
   "execution_count": 43,
   "id": "46d239b9",
   "metadata": {},
   "outputs": [
    {
     "name": "stdout",
     "output_type": "stream",
     "text": [
      "Enter the number :5\n",
      "\n",
      "* \n",
      "* * \n",
      "* * * \n",
      "* * * * \n",
      "* * * * * \n",
      "* * * * \n",
      "* * * \n",
      "* * \n",
      "* \n"
     ]
    }
   ],
   "source": [
    "max = int(input(\"Enter the number :\"))\n",
    "for i in range(0,max):\n",
    "    print(\"* \"*i)\n",
    "for i in range(max,0,-1):\n",
    "    print(\"* \"*i)"
   ]
  },
  {
   "cell_type": "markdown",
   "id": "5ec8bdf3",
   "metadata": {},
   "source": [
    "17.Write a program that accepts the lengths of three sides of a triangle\n",
    "as inputs. The program output should indicate whether or not the triangle\n",
    "is a right triangle (Recall from the Pythagorean Theorem that in a right\n",
    "triangle, the square of one side equals the sum of the squares of the\n",
    "other two sides)."
   ]
  },
  {
   "cell_type": "code",
   "execution_count": 45,
   "id": "d8fc89ec",
   "metadata": {
    "scrolled": true
   },
   "outputs": [
    {
     "name": "stdout",
     "output_type": "stream",
     "text": [
      "Enter the base of triangle:4\n",
      "Enter the height of triangle:4\n",
      "Enter the hypo of triangle:4\n",
      "The trianle is not right angled triganle\n"
     ]
    }
   ],
   "source": [
    "base=float(input('Enter the base of triangle:'))\n",
    "height=float(input('Enter the height of triangle:'))\n",
    "hypo=float(input('Enter the hypo of triangle:'))\n",
    "if hypo**2==((base**2)+(height**2)):\n",
    "    print('Entered dimensions of right angle triangle')\n",
    "else:\n",
    "    print('The trianle is not right angled triganle')\n"
   ]
  },
  {
   "cell_type": "markdown",
   "id": "669a2189",
   "metadata": {},
   "source": [
    "18. Given a range of the first 10 numbers, Iterate from the start number to the end number, and In each iteration print the sum of the current number and previous number"
   ]
  },
  {
   "cell_type": "code",
   "execution_count": 16,
   "id": "33618b16",
   "metadata": {},
   "outputs": [],
   "source": [
    "def sumofnum(num):\n",
    "    previousnum=0\n",
    "    for i in range(num):\n",
    "        sum=previousnum+i\n",
    "        print('The current number is:',i ,'Previous numbers:',previousnum,'Sum is:',sum)\n",
    "        previousnum=i"
   ]
  },
  {
   "cell_type": "code",
   "execution_count": 17,
   "id": "fde4e846",
   "metadata": {},
   "outputs": [
    {
     "name": "stdout",
     "output_type": "stream",
     "text": [
      "The current number is: 0 Previous numbers: 0 Sum is: 0\n",
      "The current number is: 1 Previous numbers: 0 Sum is: 1\n",
      "The current number is: 2 Previous numbers: 1 Sum is: 3\n",
      "The current number is: 3 Previous numbers: 2 Sum is: 5\n",
      "The current number is: 4 Previous numbers: 3 Sum is: 7\n",
      "The current number is: 5 Previous numbers: 4 Sum is: 9\n",
      "The current number is: 6 Previous numbers: 5 Sum is: 11\n",
      "The current number is: 7 Previous numbers: 6 Sum is: 13\n",
      "The current number is: 8 Previous numbers: 7 Sum is: 15\n",
      "The current number is: 9 Previous numbers: 8 Sum is: 17\n",
      "The current number is: 10 Previous numbers: 9 Sum is: 19\n",
      "The current number is: 11 Previous numbers: 10 Sum is: 21\n",
      "The current number is: 12 Previous numbers: 11 Sum is: 23\n",
      "The current number is: 13 Previous numbers: 12 Sum is: 25\n",
      "The current number is: 14 Previous numbers: 13 Sum is: 27\n",
      "The current number is: 15 Previous numbers: 14 Sum is: 29\n",
      "The current number is: 16 Previous numbers: 15 Sum is: 31\n",
      "The current number is: 17 Previous numbers: 16 Sum is: 33\n",
      "The current number is: 18 Previous numbers: 17 Sum is: 35\n",
      "The current number is: 19 Previous numbers: 18 Sum is: 37\n"
     ]
    }
   ],
   "source": [
    "sumofnum(20)"
   ]
  },
  {
   "cell_type": "markdown",
   "id": "c6f22b10",
   "metadata": {},
   "source": [
    "19.Given a string, display only those characters which are present at an even index number."
   ]
  },
  {
   "cell_type": "code",
   "execution_count": 48,
   "id": "d600ae28",
   "metadata": {
    "scrolled": true
   },
   "outputs": [
    {
     "name": "stdout",
     "output_type": "stream",
     "text": [
      "Orginal String is  shubhangi\n",
      "Printing only even index chars\n",
      "index[ 0 ] s\n",
      "index[ 2 ] u\n",
      "index[ 4 ] h\n",
      "index[ 6 ] n\n",
      "index[ 8 ] i\n"
     ]
    }
   ],
   "source": [
    "def printEveIndexChar(str):\n",
    "    for i in range(0, len(str), 2):\n",
    "        print(\"index[\",i,\"]\", str[i] )\n",
    "\n",
    "inputStr = \"shubhangi\" \n",
    "print(\"Orginal String is \", inputStr)\n",
    "\n",
    "print(\"Printing only even index chars\")\n",
    "printEveIndexChar(inputStr)"
   ]
  },
  {
   "cell_type": "markdown",
   "id": "78774097",
   "metadata": {},
   "source": [
    "20.Return the count of sub-string “Shubhangi” appears in the given string"
   ]
  },
  {
   "cell_type": "code",
   "execution_count": null,
   "id": "c7e6c87e",
   "metadata": {},
   "outputs": [],
   "source": [
    "str = \"Shubhangi is good developer. Shubhangi is a Data Scientist\""
   ]
  },
  {
   "cell_type": "code",
   "execution_count": null,
   "id": "98225fb7",
   "metadata": {},
   "outputs": [],
   "source": [
    "cnt = str.count(\"Shubhangi\")\n",
    "print(cnt)"
   ]
  },
  {
   "cell_type": "markdown",
   "id": "b5932365",
   "metadata": {},
   "source": [
    "21.Write a program (function!) that takes a list and returns a new list that contains all the elements of the first list minus all the duplicates."
   ]
  },
  {
   "cell_type": "code",
   "execution_count": 19,
   "id": "53b95d6e",
   "metadata": {},
   "outputs": [],
   "source": [
    "## Function to remove duplicates from given list\n",
    "def listduplicate(x):\n",
    "    y = []\n",
    "    for i in x:\n",
    "        if i not in y:\n",
    "            y.append(i)\n",
    "    return y\n",
    "\n"
   ]
  },
  {
   "cell_type": "code",
   "execution_count": 56,
   "id": "1cedda80",
   "metadata": {},
   "outputs": [
    {
     "name": "stdout",
     "output_type": "stream",
     "text": [
      "[1, 2, 3, 44]\n"
     ]
    }
   ],
   "source": [
    "y = []\n",
    "x = [1,1,2,3,3,44,44]\n",
    "for i in x:\n",
    "    if i not in y:\n",
    "        y.append(i)\n",
    "print(y)     "
   ]
  },
  {
   "cell_type": "code",
   "execution_count": 20,
   "id": "c22da75c",
   "metadata": {},
   "outputs": [
    {
     "data": {
      "text/plain": [
       "[1, 2, 3, 4]"
      ]
     },
     "execution_count": 20,
     "metadata": {},
     "output_type": "execute_result"
    }
   ],
   "source": [
    "listduplicate([1,1,2,3,4,4])"
   ]
  },
  {
   "cell_type": "code",
   "execution_count": 21,
   "id": "bd4d0f76",
   "metadata": {},
   "outputs": [],
   "source": [
    "#this one uses sets\n",
    "def v2(x):\n",
    "    return list(set(x))\n",
    "\n"
   ]
  },
  {
   "cell_type": "code",
   "execution_count": 22,
   "id": "2d32fb20",
   "metadata": {
    "scrolled": true
   },
   "outputs": [
    {
     "data": {
      "text/plain": [
       "[1, 2]"
      ]
     },
     "execution_count": 22,
     "metadata": {},
     "output_type": "execute_result"
    }
   ],
   "source": [
    "v2([1,1,2])"
   ]
  },
  {
   "cell_type": "markdown",
   "id": "ff7036db",
   "metadata": {},
   "source": [
    "22.Print multiplication table of 12 using recursion"
   ]
  },
  {
   "cell_type": "code",
   "execution_count": 23,
   "id": "6bcbb2b4",
   "metadata": {},
   "outputs": [],
   "source": [
    "def table(n,i):\n",
    "    print(n*i)\n",
    "    i=i+1\n",
    "    if i<=10:\n",
    "        table(n,i)\n",
    "    "
   ]
  },
  {
   "cell_type": "code",
   "execution_count": 24,
   "id": "6714ec54",
   "metadata": {},
   "outputs": [
    {
     "name": "stdout",
     "output_type": "stream",
     "text": [
      "20\n",
      "40\n",
      "60\n",
      "80\n",
      "100\n",
      "120\n",
      "140\n",
      "160\n",
      "180\n",
      "200\n"
     ]
    }
   ],
   "source": [
    "table(20,1)"
   ]
  },
  {
   "cell_type": "markdown",
   "id": "b60b7ab6",
   "metadata": {},
   "source": [
    "23. Write a function to calculate area and perimeter of a rectangle."
   ]
  },
  {
   "cell_type": "code",
   "execution_count": 57,
   "id": "b135fa3a",
   "metadata": {},
   "outputs": [],
   "source": [
    "def rectangle(a,b):\n",
    "    print('The area of given rectangle is:' ,a*b)\n",
    "    print('The perimeter of given rectangle is:',2*(a+b))"
   ]
  },
  {
   "cell_type": "code",
   "execution_count": 58,
   "id": "f70af80f",
   "metadata": {
    "scrolled": true
   },
   "outputs": [
    {
     "name": "stdout",
     "output_type": "stream",
     "text": [
      "The area of given rectangle is: 24\n",
      "The perimeter of given rectangle is: 28\n"
     ]
    }
   ],
   "source": [
    "rectangle(12,2)"
   ]
  },
  {
   "cell_type": "markdown",
   "id": "d6aae8e2",
   "metadata": {},
   "source": [
    "24.Write a function to calculate area and circumference of a circle"
   ]
  },
  {
   "cell_type": "code",
   "execution_count": 61,
   "id": "0d8b0777",
   "metadata": {},
   "outputs": [],
   "source": [
    "def circle():\n",
    "    import numpy as np\n",
    "    radius=float(input('Enter the radius of circle'))\n",
    "    area=np.pi*radius*radius\n",
    "    cir = 2 * np.pi*radius\n",
    "    return area, cir"
   ]
  },
  {
   "cell_type": "code",
   "execution_count": 62,
   "id": "aae0e7a5",
   "metadata": {},
   "outputs": [
    {
     "name": "stdout",
     "output_type": "stream",
     "text": [
      "Enter the radius of circle5\n"
     ]
    },
    {
     "data": {
      "text/plain": [
       "(78.53981633974483, 31.41592653589793)"
      ]
     },
     "execution_count": 62,
     "metadata": {},
     "output_type": "execute_result"
    }
   ],
   "source": [
    "circle()"
   ]
  },
  {
   "cell_type": "markdown",
   "id": "5b5eeed9",
   "metadata": {},
   "source": [
    "25.Write a function to calculate power of a number raised to other"
   ]
  },
  {
   "cell_type": "code",
   "execution_count": 63,
   "id": "408cf437",
   "metadata": {},
   "outputs": [],
   "source": [
    "def powerof(n,p):\n",
    "    power=n**p\n",
    "    return power"
   ]
  },
  {
   "cell_type": "code",
   "execution_count": 64,
   "id": "d686b969",
   "metadata": {},
   "outputs": [
    {
     "data": {
      "text/plain": [
       "8"
      ]
     },
     "execution_count": 64,
     "metadata": {},
     "output_type": "execute_result"
    }
   ],
   "source": [
    "powerof(2,3)"
   ]
  },
  {
   "cell_type": "markdown",
   "id": "daa9d8c8",
   "metadata": {},
   "source": [
    "26.Write a function to tell user if he/she is able to vote or not."
   ]
  },
  {
   "cell_type": "code",
   "execution_count": 65,
   "id": "cdd10782",
   "metadata": {
    "scrolled": true
   },
   "outputs": [
    {
     "name": "stdout",
     "output_type": "stream",
     "text": [
      "Enter your age20\n",
      "You are eligible to vote\n"
     ]
    }
   ],
   "source": [
    "age=float(input('Enter your age'))\n",
    "if age >=18:\n",
    "    print('You are eligible to vote')\n",
    "else:\n",
    "    print('Not eligible to vote')"
   ]
  },
  {
   "cell_type": "markdown",
   "id": "6700bf06",
   "metadata": {},
   "source": [
    "27.Write a function “perfect()” that determines if parameter number is a perfect number. Use this function in a program that determines and prints all the perfect numbers between 1 and 1000.\n",
    "[An integer number is said to be “perfect number” if its factors, including 1(but not the number itself), sum to the number. E.g., 6 is a perfect number because 6=1+2+3]."
   ]
  },
  {
   "cell_type": "markdown",
   "id": "3274aba6",
   "metadata": {},
   "source": [
    "#### "
   ]
  },
  {
   "cell_type": "code",
   "execution_count": 34,
   "id": "299985fc",
   "metadata": {},
   "outputs": [
    {
     "data": {
      "text/plain": [
       "1"
      ]
     },
     "execution_count": 34,
     "metadata": {},
     "output_type": "execute_result"
    }
   ],
   "source": [
    "4 //3"
   ]
  },
  {
   "cell_type": "code",
   "execution_count": 69,
   "id": "2a686b99",
   "metadata": {},
   "outputs": [],
   "source": [
    "\n",
    "def find_factors(num):\n",
    "    if num//2 > 2:\n",
    "        added = False\n",
    "        for i in range(2,num//2,1):\n",
    "            if num % i != 0:\n",
    "                continue\n",
    "            factors.append(i)\n",
    "            added = True\n",
    "            break\n",
    "        if(added):\n",
    "            find_factors(int(num//i))\n",
    "        else:\n",
    "            factors.append(num)\n",
    "    else:\n",
    "        factors.append(num)\n",
    "    "
   ]
  },
  {
   "cell_type": "code",
   "execution_count": 82,
   "id": "b4f9f91a",
   "metadata": {},
   "outputs": [],
   "source": [
    "def find_perfect(num):\n",
    "    factorials = []\n",
    "    for i in range(1,num//2+1):\n",
    "        if num%i == 0:\n",
    "            factorials.append(i)\n",
    "    if sum(factorials) == num:\n",
    "        return(True)\n",
    "    else:\n",
    "        return(False)"
   ]
  },
  {
   "cell_type": "code",
   "execution_count": 102,
   "id": "7743cc85",
   "metadata": {},
   "outputs": [
    {
     "data": {
      "text/plain": [
       "1"
      ]
     },
     "execution_count": 102,
     "metadata": {},
     "output_type": "execute_result"
    }
   ],
   "source": [
    "5//3"
   ]
  },
  {
   "cell_type": "code",
   "execution_count": 83,
   "id": "0f8f1e3f",
   "metadata": {},
   "outputs": [
    {
     "data": {
      "text/plain": [
       "False"
      ]
     },
     "execution_count": 83,
     "metadata": {},
     "output_type": "execute_result"
    }
   ],
   "source": [
    "find_perfect(6)"
   ]
  },
  {
   "cell_type": "code",
   "execution_count": 68,
   "id": "c78aaf33",
   "metadata": {},
   "outputs": [
    {
     "name": "stdout",
     "output_type": "stream",
     "text": [
      "Enter number :5\n",
      "Not Perfect no\n"
     ]
    }
   ],
   "source": [
    "n = int(input('Enter number :'))\n",
    "add = 0\n",
    "for i in range(1, n):\n",
    "    if n % i == 0:\n",
    "        add = add + i\n",
    "if add == n:\n",
    "    print('Perfect no')\n",
    "else:\n",
    "    print(\"Not Perfect no\")"
   ]
  },
  {
   "cell_type": "code",
   "execution_count": 36,
   "id": "a27170d7",
   "metadata": {},
   "outputs": [
    {
     "name": "stdout",
     "output_type": "stream",
     "text": [
      "6\n",
      "28\n",
      "496\n",
      "8128\n"
     ]
    }
   ],
   "source": [
    "for i in range(1,10000):\n",
    "    if find_perfect(i):\n",
    "        print(i)"
   ]
  },
  {
   "cell_type": "code",
   "execution_count": 32,
   "id": "2a8ab830",
   "metadata": {},
   "outputs": [
    {
     "name": "stdout",
     "output_type": "stream",
     "text": [
      "6\n"
     ]
    }
   ],
   "source": [
    "for i in range(1000):\n",
    "    factors = [1]\n",
    "    find_factors(i)\n",
    "    if sum(factors) == i:\n",
    "        print(i)\n",
    "    \n",
    "    "
   ]
  },
  {
   "cell_type": "code",
   "execution_count": null,
   "id": "502a3693",
   "metadata": {},
   "outputs": [],
   "source": [
    "\n",
    "fi(28)\n"
   ]
  },
  {
   "cell_type": "code",
   "execution_count": null,
   "id": "61c2f30d",
   "metadata": {},
   "outputs": [],
   "source": [
    "num = mainNum\n",
    "factors = []\n",
    "\n",
    "    \n",
    "    "
   ]
  },
  {
   "cell_type": "code",
   "execution_count": 39,
   "id": "29d715d3",
   "metadata": {},
   "outputs": [],
   "source": [
    "def perfect(n):\n",
    "    sum=0\n",
    "    for i in range(n,1):\n",
    "        if n%i == 0:\n",
    "            sum=sum+i\n",
    "    if sum==n:\n",
    "        return True\n",
    "    else:\n",
    "        return False"
   ]
  },
  {
   "cell_type": "code",
   "execution_count": 40,
   "id": "3b2cf129",
   "metadata": {},
   "outputs": [],
   "source": [
    "for i in range(1,1001):\n",
    "    if perfect(i):\n",
    "        print(i)"
   ]
  },
  {
   "cell_type": "markdown",
   "id": "aa791f42",
   "metadata": {},
   "source": [
    "28.Write a function to check if a number is even or not."
   ]
  },
  {
   "cell_type": "code",
   "execution_count": null,
   "id": "7e879e2c",
   "metadata": {},
   "outputs": [],
   "source": [
    "def even():\n",
    "    n=int(input('Enter the number'))\n",
    "    if n%2 == 0:\n",
    "        print('The given number is even')\n",
    "    else:\n",
    "        print('Odd number')"
   ]
  },
  {
   "cell_type": "code",
   "execution_count": null,
   "id": "cbea8379",
   "metadata": {
    "scrolled": true
   },
   "outputs": [],
   "source": [
    "even()"
   ]
  },
  {
   "cell_type": "markdown",
   "id": "c2ba6b6a",
   "metadata": {},
   "source": [
    "29.Write a function to check if a number is prime or not"
   ]
  },
  {
   "cell_type": "code",
   "execution_count": null,
   "id": "994d415c",
   "metadata": {},
   "outputs": [],
   "source": [
    "def odd():\n",
    "    n=int(input('Enter the number'))\n",
    "    if n%2 != 0:\n",
    "        print('The given number is odd')\n",
    "    else:\n",
    "        print('Even number')"
   ]
  },
  {
   "cell_type": "code",
   "execution_count": null,
   "id": "3a7b5bee",
   "metadata": {},
   "outputs": [],
   "source": [
    "odd()"
   ]
  },
  {
   "cell_type": "markdown",
   "id": "769d4dbe",
   "metadata": {},
   "source": [
    "30.Given a list of numbers, return True if first and last number of a list is same"
   ]
  },
  {
   "cell_type": "code",
   "execution_count": 103,
   "id": "f9375a2d",
   "metadata": {},
   "outputs": [
    {
     "name": "stdout",
     "output_type": "stream",
     "text": [
      "Given list is  [10, 20, 30, 40, 10]\n",
      "result is True\n"
     ]
    }
   ],
   "source": [
    "def isFirst_And_Last_Same(numberList):\n",
    "    print(\"Given list is \", numberList)\n",
    "    firstElement = numberList[0]\n",
    "    lastElement = numberList[-1]\n",
    "    if (firstElement == lastElement):\n",
    "        return True\n",
    "    else:\n",
    "        return False\n",
    "\n",
    "numList = [10, 20, 30, 40, 10]\n",
    "print(\"result is\", isFirst_And_Last_Same(numList))"
   ]
  },
  {
   "cell_type": "markdown",
   "id": "69e644f0",
   "metadata": {},
   "source": [
    "31. Write a program to check if each word in a string begins with a capital letter?\n"
   ]
  },
  {
   "cell_type": "code",
   "execution_count": 41,
   "id": "00962ef7",
   "metadata": {},
   "outputs": [
    {
     "name": "stdout",
     "output_type": "stream",
     "text": [
      "True\n",
      "False\n",
      "False\n"
     ]
    }
   ],
   "source": [
    "print( 'The Hilton'.istitle() ) \n",
    "print( 'The dog'.istitle() ) \n",
    "print( 'sticky rice'.istitle() ) "
   ]
  },
  {
   "cell_type": "markdown",
   "id": "e4e32aad",
   "metadata": {},
   "source": [
    "32. Write a program to Check if a string contains a specific substring"
   ]
  },
  {
   "cell_type": "code",
   "execution_count": 104,
   "id": "4158c02f",
   "metadata": {},
   "outputs": [
    {
     "name": "stdout",
     "output_type": "stream",
     "text": [
      "True\n",
      "False\n"
     ]
    }
   ],
   "source": [
    "print( 'plane' in 'The worlds fastest plane' ) #=> True\n",
    "print( 'car' in 'The worlds fastest plane' ) #=> False"
   ]
  },
  {
   "cell_type": "markdown",
   "id": "4945cf2d",
   "metadata": {},
   "source": [
    "33. Capitalize the first character of a string"
   ]
  },
  {
   "cell_type": "code",
   "execution_count": 105,
   "id": "c7fcb60e",
   "metadata": {},
   "outputs": [
    {
     "data": {
      "text/plain": [
       "'Florida dolphins'"
      ]
     },
     "execution_count": 105,
     "metadata": {},
     "output_type": "execute_result"
    }
   ],
   "source": [
    "'florida dolphins'.capitalize()"
   ]
  },
  {
   "cell_type": "markdown",
   "id": "483909e5",
   "metadata": {},
   "source": [
    "34. Reverse the string “hello world”"
   ]
  },
  {
   "cell_type": "code",
   "execution_count": 42,
   "id": "8a0828ee",
   "metadata": {
    "scrolled": true
   },
   "outputs": [
    {
     "data": {
      "text/plain": [
       "'dlrow olleh'"
      ]
     },
     "execution_count": 42,
     "metadata": {},
     "output_type": "execute_result"
    }
   ],
   "source": [
    "''.join(reversed(\"hello world\"))"
   ]
  },
  {
   "cell_type": "code",
   "execution_count": 107,
   "id": "8b7fd42b",
   "metadata": {},
   "outputs": [
    {
     "data": {
      "text/plain": [
       "'dlrow olleh'"
      ]
     },
     "execution_count": 107,
     "metadata": {},
     "output_type": "execute_result"
    }
   ],
   "source": [
    "(\"hello world\")[::-1]"
   ]
  },
  {
   "cell_type": "markdown",
   "id": "13a1242b",
   "metadata": {},
   "source": [
    "35. Remove vowels from a string"
   ]
  },
  {
   "cell_type": "code",
   "execution_count": 43,
   "id": "096a384e",
   "metadata": {},
   "outputs": [
    {
     "data": {
      "text/plain": [
       "'Hll 1 Wrld 2'"
      ]
     },
     "execution_count": 43,
     "metadata": {},
     "output_type": "execute_result"
    }
   ],
   "source": [
    "string = 'Hello 1 World 2'\n",
    "vowels = ('a','e','i','o','u')\n",
    "''.join([c for c in string if c not in vowels])\n"
   ]
  },
  {
   "cell_type": "code",
   "execution_count": 114,
   "id": "2719faa8",
   "metadata": {},
   "outputs": [
    {
     "data": {
      "text/plain": [
       "['H', 'l', 'l', ' ', 'W', 'r', 'l', 'd']"
      ]
     },
     "execution_count": 114,
     "metadata": {},
     "output_type": "execute_result"
    }
   ],
   "source": [
    "import re\n",
    "v = re.findall('[^aeiou,]', 'Hello World')\n",
    "v"
   ]
  },
  {
   "cell_type": "code",
   "execution_count": 116,
   "id": "ce302ba7",
   "metadata": {},
   "outputs": [
    {
     "name": "stdout",
     "output_type": "stream",
     "text": [
      "prpnst\n"
     ]
    }
   ],
   "source": [
    "string= 'prepinsta'\n",
    "vowel=['a','e','i','o','u']\n",
    "result=''\n",
    "for i in range(len(string)):\n",
    "    if string[i] not in vowel:\n",
    "        result=result+string[i]\n",
    "print(result)"
   ]
  },
  {
   "cell_type": "markdown",
   "id": "76de8495",
   "metadata": {},
   "source": [
    "36. Iterate through a string Using for Loop."
   ]
  },
  {
   "cell_type": "code",
   "execution_count": 110,
   "id": "2e8fe647",
   "metadata": {},
   "outputs": [
    {
     "name": "stdout",
     "output_type": "stream",
     "text": [
      "['s', 'h', 'u', 'b', 'h', 'a', 'n', 'g', 'i']\n"
     ]
    }
   ],
   "source": [
    "h_letters = []\n",
    "\n",
    "for letter in 'shubhangi':\n",
    "    h_letters.append(letter)\n",
    "\n",
    "print(h_letters)"
   ]
  },
  {
   "cell_type": "markdown",
   "id": "79e554dd",
   "metadata": {},
   "source": [
    "37. Iterate through a string Using List Comprehension"
   ]
  },
  {
   "cell_type": "code",
   "execution_count": 44,
   "id": "41513cfc",
   "metadata": {
    "scrolled": true
   },
   "outputs": [
    {
     "name": "stdout",
     "output_type": "stream",
     "text": [
      "['s', 'h', 'u', 'b', 'h', 'a', 'n', 'g', 'i']\n"
     ]
    }
   ],
   "source": [
    "h_letters = [ letter for letter in 'shubhangi' ]\n",
    "print( h_letters)"
   ]
  },
  {
   "cell_type": "markdown",
   "id": "27a39258",
   "metadata": {},
   "source": [
    "38. Transpose of Matrix using Nested Loops"
   ]
  },
  {
   "cell_type": "code",
   "execution_count": 48,
   "id": "97cbe30b",
   "metadata": {},
   "outputs": [
    {
     "name": "stdout",
     "output_type": "stream",
     "text": [
      "[[1, 4], [2, 5], [3, 6], [4, 8]]\n"
     ]
    }
   ],
   "source": [
    "transposed = []\n",
    "matrix = [[1, 2, 3, 4], [4, 5, 6, 8]]\n",
    "\n",
    "for i in range(len(matrix[0])):\n",
    "    transposed_row = []\n",
    "\n",
    "    for row in matrix:\n",
    "        transposed_row.append(row[i])\n",
    "    transposed.append(transposed_row)\n",
    "\n",
    "print(transposed)"
   ]
  },
  {
   "cell_type": "markdown",
   "id": "2cb307e5",
   "metadata": {},
   "source": [
    "39. Write a program to check whether a number is divisible by 7 or not."
   ]
  },
  {
   "cell_type": "code",
   "execution_count": 111,
   "id": "c3416092",
   "metadata": {},
   "outputs": [
    {
     "name": "stdout",
     "output_type": "stream",
     "text": [
      "Enter your age6\n",
      "Number is not divisible\n"
     ]
    }
   ],
   "source": [
    "num=int(input(\"Enter your age\"))\n",
    "if num%7==0:\n",
    "   print(\"Number is divisible\")\n",
    "else:\n",
    "   print(\"Number is not divisible\")"
   ]
  },
  {
   "cell_type": "markdown",
   "id": "78e82d60",
   "metadata": {},
   "source": [
    "40. Write a program to calculate the electricity bill (accept number of unit from user) according to the following criteria :\n",
    "             Unit                                                     Price  \n",
    "First 100 units                                               no charge\n",
    "Next 100 units                                              Rs 5 per unit\n",
    "After 200 units                                             Rs 10 per unit\n",
    "(For example if input unit is 350 than total bill amount is Rs2000)"
   ]
  },
  {
   "cell_type": "code",
   "execution_count": null,
   "id": "5b48be81",
   "metadata": {},
   "outputs": [],
   "source": [
    "amt=0\n",
    "nu=int(input(\"Enter number of electric unit\"))\n",
    "if nu<=100:\n",
    "     amt=0\n",
    "if nu>100 and nu<=200:\n",
    "     amt=(nu-100)*5\n",
    "if nu>200:\n",
    "     amt=500+(nu-200)*10\n",
    "print(\"Amount to pay :\",amt)"
   ]
  },
  {
   "cell_type": "code",
   "execution_count": null,
   "id": "854a9dd7",
   "metadata": {},
   "outputs": [],
   "source": [
    "unit=int(input(\"enter unit\"))\n",
    "if 0<unit<=100:\n",
    "    print(\"input unit is\",unit,\"then total bill amount is chargless\")\n",
    "if 100<unit<=200:\n",
    "    unit1=(unit-100)*5\n",
    "    print(\"input unit is\",unit,\"then total bill amount is\",unit1)\n",
    "if unit>200:\n",
    "    unit2=500+(unit-200)*10\n",
    "    print(\"input unit is\",unit,\"then total bill amount is\",unit2)\n"
   ]
  },
  {
   "cell_type": "markdown",
   "id": "12423f16",
   "metadata": {},
   "source": [
    "41. Write a program to display the last digit of a number.\n",
    "(hint : any number % 10 will return the last digit)"
   ]
  },
  {
   "cell_type": "code",
   "execution_count": 121,
   "id": "a727b9a1",
   "metadata": {},
   "outputs": [
    {
     "name": "stdout",
     "output_type": "stream",
     "text": [
      "Enter any number :67\n",
      "Last digit of number is  7\n"
     ]
    }
   ],
   "source": [
    "num=int(input(\"Enter any number :\"))\n",
    "print(\"Last digit of number is \",num%10)"
   ]
  },
  {
   "cell_type": "markdown",
   "id": "9536a531",
   "metadata": {},
   "source": [
    "42. Write a program to check whether an years is leap year or not."
   ]
  },
  {
   "cell_type": "code",
   "execution_count": 123,
   "id": "36d9a3a4",
   "metadata": {},
   "outputs": [
    {
     "name": "stdout",
     "output_type": "stream",
     "text": [
      "Enter the year:1993\n",
      "Entered year is not a leap year\n"
     ]
    }
   ],
   "source": [
    "yr=int(input(\"Enter the year:\"))\n",
    "if yr%100==0:\n",
    "    if yr%400==0:\n",
    "          print(\"Entered year is leap year\")\n",
    "    else:\n",
    "          print(\"Entered year is not a leap year\")\n",
    "else:\n",
    "    if yr%4==0:\n",
    "         print(\"Entered year is leap year\")  \n",
    "    else:\n",
    "        print(\"Entered year is not a leap year\")"
   ]
  },
  {
   "cell_type": "markdown",
   "id": "e4947bb5",
   "metadata": {},
   "source": [
    "43. Write a program to accept a number from 1 to 7 and display the name of the day like 1 for Sunday , 2 for Monday and so on."
   ]
  },
  {
   "cell_type": "code",
   "execution_count": 125,
   "id": "9fe99bc5",
   "metadata": {},
   "outputs": [
    {
     "name": "stdout",
     "output_type": "stream",
     "text": [
      "Enter any number between 1 to 7 : 7\n",
      "Saturday\n"
     ]
    }
   ],
   "source": [
    "num=int(input(\"Enter any number between 1 to 7 : \"))\n",
    "if num==1:\n",
    "    print(\"Sunday\")\n",
    "elif num==2:\n",
    "    print(\"Monday\")\n",
    "elif num==3:\n",
    "    print(\"Tuesday\")\n",
    "elif num==4:\n",
    "    print(\"Wednesday\")\n",
    "elif num==5:\n",
    "    print(\"Thursday\")\n",
    "elif num==6:\n",
    "    print(\"Friday\")\n",
    "elif num==7:\n",
    "    print(\"Saturday\")\n",
    "else:\n",
    "    print(\"Please enter number between 1 to 7\")"
   ]
  },
  {
   "cell_type": "markdown",
   "id": "bd7b9f98",
   "metadata": {},
   "source": [
    "44. Write a program to check whether a number entered is three digit number or not."
   ]
  },
  {
   "cell_type": "code",
   "execution_count": 131,
   "id": "58fbcee3",
   "metadata": {},
   "outputs": [
    {
     "name": "stdout",
     "output_type": "stream",
     "text": [
      "Enter any number :456\n",
      "Entered number is 3 digit and Middle digit is  5\n"
     ]
    }
   ],
   "source": [
    "num1 = (input(\"Enter any number :\"))\n",
    "l=len(num1)\n",
    "if l != 3:\n",
    "     print(\"Entered number is not 3 digit\")\n",
    "else:\n",
    "     print(\"Entered number is 3 digit and Middle digit is \", (int(num1)%100//10))"
   ]
  },
  {
   "cell_type": "code",
   "execution_count": 134,
   "id": "d53f2d00",
   "metadata": {},
   "outputs": [
    {
     "data": {
      "text/plain": [
       "5"
      ]
     },
     "execution_count": 134,
     "metadata": {},
     "output_type": "execute_result"
    }
   ],
   "source": [
    "(552)%100//10"
   ]
  },
  {
   "cell_type": "code",
   "execution_count": 49,
   "id": "a95d2134",
   "metadata": {},
   "outputs": [
    {
     "name": "stdout",
     "output_type": "stream",
     "text": [
      "enter any number100\n",
      "Entered number is of three digit\n"
     ]
    }
   ],
   "source": [
    "num=int(input(\"enter any number\"))\n",
    "if 99<num<=999:\n",
    "    print(\"Entered number is of three digit\")\n",
    "else:\n",
    "    print(\"entered number is not 3 digit\")"
   ]
  },
  {
   "cell_type": "markdown",
   "id": "b5b995b9",
   "metadata": {},
   "source": [
    "45. Write a program to check whether a number (accepted from user) is positive or negative.."
   ]
  },
  {
   "cell_type": "code",
   "execution_count": 135,
   "id": "0bce38a3",
   "metadata": {},
   "outputs": [
    {
     "name": "stdout",
     "output_type": "stream",
     "text": [
      "Enter first number5\n",
      "Number is positive\n"
     ]
    }
   ],
   "source": [
    "num1 = int(input(\"Enter first number\"))\n",
    "if num1 > 0 :\n",
    "    print(\"Number is positive\")\n",
    "else:\n",
    "    print(\"Number is negative\")"
   ]
  },
  {
   "cell_type": "markdown",
   "id": "82a2ee28",
   "metadata": {},
   "source": [
    "46. Write a program to whether a number (accepted from user) is divisible by 2 and 3 both."
   ]
  },
  {
   "cell_type": "code",
   "execution_count": 136,
   "id": "f2500a95",
   "metadata": {
    "scrolled": true
   },
   "outputs": [
    {
     "name": "stdout",
     "output_type": "stream",
     "text": [
      "Enter first number8\n",
      "Number is not divisible by both 2 and 3\n"
     ]
    }
   ],
   "source": [
    "num1 = int(input(\"Enter first number\"))\n",
    "if num1%2==0 and num1%3==0:\n",
    "      print(\"Number is divisible by 2 and 3 both\")\n",
    "else:\n",
    "      print(\"Number is not divisible by both 2 and 3\")"
   ]
  },
  {
   "cell_type": "markdown",
   "id": "1205f36e",
   "metadata": {},
   "source": [
    "47. Write a Python program to check the validity of a password (input from users).\n",
    "\n",
    "Validation :\n",
    "\n",
    "At least 1 letter between [a-z] and 1 letter between [A-Z].\n",
    "At least 1 number between [0-9].\n",
    "At least 1 character from [$#@].\n",
    "Minimum length 6 characters.\n",
    "Maximum length 16 characters."
   ]
  },
  {
   "cell_type": "code",
   "execution_count": 137,
   "id": "317bb1ed",
   "metadata": {},
   "outputs": [
    {
     "name": "stdout",
     "output_type": "stream",
     "text": [
      "Input your passwordmyr9988@#\n",
      "Not a Valid Password\n"
     ]
    }
   ],
   "source": [
    "import re\n",
    "p= input(\"Input your password\")\n",
    "x = True\n",
    "while x:  \n",
    "    if (len(p)<6 or len(p)>16):\n",
    "        break\n",
    "    elif not re.search(\"[a-z]\",p):\n",
    "        break\n",
    "    elif not re.search(\"[0-9]\",p):\n",
    "        break\n",
    "    elif not re.search(\"[A-Z]\",p):\n",
    "        break\n",
    "    elif not re.search(\"[$#@]\",p):\n",
    "        break\n",
    "    elif re.search(\"\\s\",p):\n",
    "        break\n",
    "    else:\n",
    "        print(\"Valid Password\")\n",
    "        x=False\n",
    "        break\n",
    "\n",
    "if x:\n",
    "    print(\"Not a Valid Password\")\n"
   ]
  },
  {
   "cell_type": "code",
   "execution_count": null,
   "id": "cb28de35",
   "metadata": {},
   "outputs": [],
   "source": [
    "p=input(\"input password :\")\n",
    "x=True\n",
    "while x:\n",
    "    if 6<len(p)<16:\n",
    "        continue\n",
    "    elif re.search(\"[a-z]\",p):\n",
    "        continue\n",
    "    elif re.search(\"[A-Z]\",p):\n",
    "        continue\n",
    "    elif re.search(\"[0-9]\",p):\n",
    "        continue\n",
    "    elif re.search(\"[$#@]\",p):\n",
    "        print(\"valid password\")\n",
    "        break\n",
    "if x :\n",
    "    print(\"invalid\")"
   ]
  },
  {
   "cell_type": "markdown",
   "id": "5ef025dc",
   "metadata": {},
   "source": [
    "48. Write a Python program to print alphabet pattern 'A'. "
   ]
  },
  {
   "cell_type": "markdown",
   "id": "7c3a4306",
   "metadata": {},
   "source": [
    "  ***                                                                   \n",
    " *   *                                                                  \n",
    " *   *                                                                  \n",
    " *****                                                                  \n",
    " *   *                                                                  \n",
    " *   *                                                                  \n",
    " *   *\n"
   ]
  },
  {
   "cell_type": "code",
   "execution_count": 2,
   "id": "6058af9a",
   "metadata": {
    "scrolled": true
   },
   "outputs": [
    {
     "name": "stdout",
     "output_type": "stream",
     "text": [
      "  ***  \n",
      " *   * \n",
      " *   * \n",
      " ***** \n",
      " *   * \n",
      " *   * \n",
      " *   * \n",
      "\n"
     ]
    }
   ],
   "source": [
    "result_str=\"\";    \n",
    "for row in range(0,7):    \n",
    "    for column in range(0,7):     \n",
    "        if (((column == 1 or column == 5) and row != 0) or ((row == 0 or row == 3) and (column > 1 and column < 5))):    \n",
    "            result_str=result_str+\"*\"    \n",
    "        else:      \n",
    "            result_str=result_str+\" \"    \n",
    "    result_str=result_str+\"\\n\"    \n",
    "print(result_str)"
   ]
  },
  {
   "cell_type": "markdown",
   "id": "f2c4a877",
   "metadata": {},
   "source": [
    "49. Write a Python program to print alphabet pattern 'G'."
   ]
  },
  {
   "cell_type": "code",
   "execution_count": 3,
   "id": "f0037066",
   "metadata": {
    "scrolled": true
   },
   "outputs": [
    {
     "name": "stdout",
     "output_type": "stream",
     "text": [
      "  ***  \n",
      " *   * \n",
      " *     \n",
      " * *** \n",
      " *   * \n",
      " *   * \n",
      "  ***  \n",
      "\n"
     ]
    }
   ],
   "source": [
    "result_str=\"\";    \n",
    "for row in range(0,7):    \n",
    "    for column in range(0,7):     \n",
    "        if ((column == 1 and row != 0 and row != 6) or ((row == 0 or row == 6) and column > 1 and column < 5) or (row == 3 and column > 2 and column < 6) or (column == 5 and row != 0 and row != 2 and row != 6)):  \n",
    "            result_str=result_str+\"*\"    \n",
    "        else:      \n",
    "            result_str=result_str+\" \"    \n",
    "    result_str=result_str+\"\\n\"    \n",
    "print(result_str);"
   ]
  },
  {
   "cell_type": "markdown",
   "id": "151b54d1",
   "metadata": {},
   "source": [
    "50. Write a Python program to calculate a dog's age in dog's years. Go to the editor\n",
    "Note: For the first two years, a dog year is equal to 10.5 human years. After that, each dog year equals 4 human years.\n",
    "Expected Output:\n",
    "\n",
    "Input a dog's age in human years: 15                                    \n",
    "The dog's age in dog's years is 73"
   ]
  },
  {
   "cell_type": "code",
   "execution_count": 143,
   "id": "3779350f",
   "metadata": {},
   "outputs": [
    {
     "name": "stdout",
     "output_type": "stream",
     "text": [
      "Input a dog's age in human years: 12\n",
      "The dog's age in dog's years is 61\n"
     ]
    }
   ],
   "source": [
    "h_age = int(input(\"Input a dog's age in human years: \"))\n",
    "\n",
    "if h_age < 0:\n",
    "    print(\"Age must be positive number.\")\n",
    "    exit()\n",
    "elif h_age <= 2:\n",
    "    d_age = h_age * 10.5\n",
    "else:\n",
    "    d_age = 21 + (h_age - 2)*4\n",
    "\n",
    "print(\"The dog's age in dog's years is\", d_age)"
   ]
  },
  {
   "cell_type": "code",
   "execution_count": 160,
   "id": "f892ce2a",
   "metadata": {},
   "outputs": [
    {
     "name": "stdout",
     "output_type": "stream",
     "text": [
      "Enter the number :5\n",
      "* * * * * \n",
      "* * * * \n",
      "* * * \n",
      "* * \n",
      "* \n"
     ]
    }
   ],
   "source": [
    "n = int(input(\"Enter the number :\"))\n",
    "for i in range(n):\n",
    "    print(('*' + ' ')*(n-i))"
   ]
  },
  {
   "cell_type": "code",
   "execution_count": 192,
   "id": "e8f478bc",
   "metadata": {},
   "outputs": [
    {
     "name": "stdout",
     "output_type": "stream",
     "text": [
      "Enter the number :5\n",
      "*****\n",
      " ****\n",
      "  ***\n",
      "   **\n",
      "    *\n"
     ]
    }
   ],
   "source": [
    "n = int(input(\"Enter the number :\"))\n",
    "for i in range(n):\n",
    "    print((' ')*(i)+('*')*(n-i))"
   ]
  },
  {
   "cell_type": "code",
   "execution_count": 161,
   "id": "a7e5e0a7",
   "metadata": {},
   "outputs": [
    {
     "name": "stdout",
     "output_type": "stream",
     "text": [
      "Enter the number :5\n",
      "* \n",
      "* * \n",
      "* * * \n",
      "* * * * \n",
      "* * * * * \n"
     ]
    }
   ],
   "source": [
    "n = int(input(\"Enter the number :\"))\n",
    "for i in range(n):\n",
    "    print(('*' + ' ')*(i + 1))"
   ]
  },
  {
   "cell_type": "code",
   "execution_count": 302,
   "id": "58264536",
   "metadata": {},
   "outputs": [
    {
     "name": "stdout",
     "output_type": "stream",
     "text": [
      "Enter the number :5\n",
      "1 \n",
      "2 2 \n",
      "3 3 3 \n",
      "4 4 4 4 \n",
      "5 5 5 5 5 \n"
     ]
    }
   ],
   "source": [
    "n = int(input(\"Enter the number :\"))\n",
    "for i in range(n):\n",
    "    print((str(1 + i) + ' ')*(i + 1))"
   ]
  },
  {
   "cell_type": "code",
   "execution_count": 164,
   "id": "a497427e",
   "metadata": {},
   "outputs": [
    {
     "name": "stdout",
     "output_type": "stream",
     "text": [
      "Enter the number of rows5\n",
      "        * \n",
      "      * * \n",
      "    * * * \n",
      "  * * * * \n",
      "* * * * * \n"
     ]
    }
   ],
   "source": [
    "#Program to print Right Half Pyramid\n",
    "num_rows = int(input(\"Enter the number of rows\"));\n",
    "k = 8\n",
    "for i in range(0, num_rows):\n",
    "    for j in range(0, k):\n",
    "        print(end=\" \")\n",
    "    k = k - 2\n",
    "    for j in range(0, i+1):\n",
    "        print(\"* \", end=\"\")\n",
    "    print()   "
   ]
  },
  {
   "cell_type": "code",
   "execution_count": 237,
   "id": "455c6a11",
   "metadata": {},
   "outputs": [
    {
     "name": "stdout",
     "output_type": "stream",
     "text": [
      "Enter the number :5\n",
      "E E E E E \n",
      "D D D D \n",
      "C C C \n",
      "B B \n",
      "A \n"
     ]
    }
   ],
   "source": [
    "n = int(input(\"Enter the number :\"))\n",
    "for i in range(n):\n",
    "    print((chr(69-i) + ' ')*(n - i))"
   ]
  },
  {
   "cell_type": "code",
   "execution_count": 193,
   "id": "06210772",
   "metadata": {},
   "outputs": [
    {
     "name": "stdout",
     "output_type": "stream",
     "text": [
      "Full Pyramid Pattern of Stars (*): \n",
      "      * \n",
      "     * * \n",
      "    * * * \n",
      "   * * * * \n",
      "  * * * * * \n"
     ]
    }
   ],
   "source": [
    "print(\"Full Pyramid Pattern of Stars (*): \")\n",
    "for i in range(5):\n",
    "    for s in range(-6, -i):\n",
    "        print(\" \", end=\"\")\n",
    "    for j in range(i+1):\n",
    "        print(\"* \", end=\"\")\n",
    "    print()"
   ]
  },
  {
   "cell_type": "code",
   "execution_count": 204,
   "id": "c6f41dfd",
   "metadata": {},
   "outputs": [
    {
     "name": "stdout",
     "output_type": "stream",
     "text": [
      "Enter the number :5\n",
      "    * \n",
      "   * * \n",
      "  * * * \n",
      " * * * * \n",
      "* * * * * \n"
     ]
    }
   ],
   "source": [
    "# pyramid star pattern\n",
    "n = int(input(\"Enter the number :\"))\n",
    "for i in range(n):\n",
    "    print(' ' * (n - 1 - i) + ('*' + ' ') * (i+1))"
   ]
  },
  {
   "cell_type": "code",
   "execution_count": 206,
   "id": "85662fe6",
   "metadata": {},
   "outputs": [
    {
     "name": "stdout",
     "output_type": "stream",
     "text": [
      "Enter the number :5\n",
      "* * * * * \n",
      " * * * * \n",
      "  * * * \n",
      "   * * \n",
      "    * \n"
     ]
    }
   ],
   "source": [
    "# pyramid star pattern\n",
    "n = int(input(\"Enter the number :\"))\n",
    "for i in range(n):\n",
    "    print(' ' * (i) + ('*' + ' ') * (n-i))"
   ]
  },
  {
   "cell_type": "code",
   "execution_count": 207,
   "id": "28949bad",
   "metadata": {},
   "outputs": [
    {
     "name": "stdout",
     "output_type": "stream",
     "text": [
      "Please Enter the Total Number of Rows  : 5\n",
      "Please Enter any Character  : A\n",
      "Right Angled Triangle Star Pattern\n",
      "A  \n",
      "A  A  \n",
      "A  A  A  \n",
      "A  A  A  A  \n",
      "A  A  A  A  A  \n"
     ]
    }
   ],
   "source": [
    "rows = int(input(\"Please Enter the Total Number of Rows  : \"))\n",
    "ch = input(\"Please Enter any Character  : \")\n",
    "\n",
    "print(\"Right Angled Triangle Star Pattern\") \n",
    "for i in range(1, rows + 1):\n",
    "    for j in range(1, i + 1):\n",
    "        print('%c' %ch, end = '  ')\n",
    "    print()"
   ]
  },
  {
   "cell_type": "code",
   "execution_count": 217,
   "id": "7eb08b6c",
   "metadata": {},
   "outputs": [
    {
     "name": "stdout",
     "output_type": "stream",
     "text": [
      "Enter the number :5\n",
      "A \n",
      "B B \n",
      "C C C \n",
      "D D D D \n",
      "E E E E E \n"
     ]
    }
   ],
   "source": [
    "n = int(input(\"Enter the number :\"))\n",
    "for i in range(n):\n",
    "    print((chr(65+i) + ' ')*(i + 1))"
   ]
  },
  {
   "cell_type": "code",
   "execution_count": 235,
   "id": "8a0fbe29",
   "metadata": {},
   "outputs": [
    {
     "name": "stdout",
     "output_type": "stream",
     "text": [
      "Enter the number :5\n",
      "E E E E E \n",
      "D D D D \n",
      "C C C \n",
      "B B \n",
      "A \n"
     ]
    }
   ],
   "source": [
    "n = int(input(\"Enter the number :\"))\n",
    "for i in range(n):\n",
    "    print((chr(69-i) + ' ')*(n - i))"
   ]
  },
  {
   "cell_type": "code",
   "execution_count": 236,
   "id": "0b85130a",
   "metadata": {},
   "outputs": [
    {
     "name": "stdout",
     "output_type": "stream",
     "text": [
      "Enter the number :5\n",
      "E E E E E \n",
      "D D D D \n",
      "C C C \n",
      "B B \n",
      "A \n"
     ]
    }
   ],
   "source": [
    "n = int(input(\"Enter the number :\"))\n",
    "for i in range(n):\n",
    "    print((chr(64 + n - i) + ' ')*(n - i))"
   ]
  },
  {
   "cell_type": "code",
   "execution_count": null,
   "id": "863fdada",
   "metadata": {},
   "outputs": [],
   "source": [
    "n = int(input(\"Enter the number :\"))\n",
    "for i in range(n):\n",
    "    print((chr(65+i) + ' ')*(i + 1))"
   ]
  },
  {
   "cell_type": "code",
   "execution_count": 218,
   "id": "16e2e6af",
   "metadata": {},
   "outputs": [
    {
     "name": "stdout",
     "output_type": "stream",
     "text": [
      "Enter the number :6\n",
      "A \n",
      "A A \n",
      "A A A \n",
      "A A A A \n",
      "A A A A A \n",
      "A A A A A A \n"
     ]
    }
   ],
   "source": [
    "n = int(input(\"Enter the number :\"))\n",
    "for i in range(n):\n",
    "    print((chr(65) + ' ')*(i + 1))"
   ]
  },
  {
   "cell_type": "code",
   "execution_count": 219,
   "id": "0d199fe0",
   "metadata": {},
   "outputs": [
    {
     "name": "stdout",
     "output_type": "stream",
     "text": [
      "A \n",
      "B B \n",
      "C C C \n",
      "D D D D \n",
      "E E E E E \n",
      "F F F F F F \n",
      "G G G G G G G \n",
      "H H H H H H H H \n"
     ]
    }
   ],
   "source": [
    "# Number of rows\n",
    "rows = 8\n",
    "\n",
    "# Outer loop to handle the rows\n",
    "for i in range(rows):\n",
    "    \n",
    "    # Inner loop to handle the columns\n",
    "    for j in range(i + 1):\n",
    "        ch = chr(65+i)\n",
    "        # Printing the pattern\n",
    "        print(ch, end=' ')\n",
    "    \n",
    "    # Next Line\n",
    "    print()"
   ]
  },
  {
   "cell_type": "code",
   "execution_count": 227,
   "id": "929bc967",
   "metadata": {},
   "outputs": [
    {
     "name": "stdout",
     "output_type": "stream",
     "text": [
      "Enter the number :5\n",
      "     A\n",
      "    BB\n",
      "   CCC\n",
      "  DDDD\n",
      " EEEEE\n"
     ]
    }
   ],
   "source": [
    "n = int(input(\"Enter the number :\"))\n",
    "for i in range(n):\n",
    "    print((' ')*(n-i) + (chr(65+i))*(i+1))"
   ]
  },
  {
   "cell_type": "code",
   "execution_count": 256,
   "id": "4489ee3d",
   "metadata": {},
   "outputs": [
    {
     "name": "stdout",
     "output_type": "stream",
     "text": [
      "Enter the number :5\n",
      " * * * * * * \n",
      "  * * * * * \n",
      "   * * * * \n",
      "    * * * \n",
      "     * * \n"
     ]
    }
   ],
   "source": [
    "n = int(input(\"Enter the number :\"))\n",
    "for i in range(n):\n",
    "    print(((' ') * (i + 1) + ('*' + ' ') * (n-i)))"
   ]
  },
  {
   "cell_type": "code",
   "execution_count": 294,
   "id": "13340865",
   "metadata": {},
   "outputs": [
    {
     "name": "stdout",
     "output_type": "stream",
     "text": [
      "Enter number of rows: 5\n",
      " * * * * *\n",
      "   * * * *\n",
      "     * * *\n",
      "       * *\n",
      "         *\n"
     ]
    }
   ],
   "source": [
    "n=int(input(\"Enter number of rows: \"))\n",
    "for i in range (n):\n",
    "    print((' ' * (i * 2)) + (' *' * (n - i)))"
   ]
  },
  {
   "cell_type": "code",
   "execution_count": null,
   "id": "eb2782c4",
   "metadata": {},
   "outputs": [],
   "source": []
  }
 ],
 "metadata": {
  "kernelspec": {
   "display_name": "Python 3 (ipykernel)",
   "language": "python",
   "name": "python3"
  },
  "language_info": {
   "codemirror_mode": {
    "name": "ipython",
    "version": 3
   },
   "file_extension": ".py",
   "mimetype": "text/x-python",
   "name": "python",
   "nbconvert_exporter": "python",
   "pygments_lexer": "ipython3",
   "version": "3.8.8"
  }
 },
 "nbformat": 4,
 "nbformat_minor": 5
}
