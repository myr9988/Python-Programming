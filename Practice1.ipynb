{
 "cells": [
  {
   "cell_type": "code",
   "execution_count": null,
   "metadata": {
    "colab": {
     "base_uri": "https://localhost:8080/"
    },
    "id": "HYMvTlfUkTHR",
    "outputId": "898ae2ad-b2e1-4328-9a9a-89b9d4fa7d10"
   },
   "outputs": [
    {
     "name": "stdout",
     "output_type": "stream",
     "text": [
      "Sum of 5.5214 and 7.9531 is 13.474499999999999\n",
      "13.47\n",
      "Enter 1st side: 12\n",
      "Enter 2nd side: 15.5\n",
      "Enter 3rd side: 13.5\n",
      "78.09449404407458\n",
      "The area of the triangle is 78.09\n"
     ]
    }
   ],
   "source": [
    "n1=5.5214\n",
    "n2=7.9531\n",
    "sum=n1+n2\n",
    "nsqrt=':.2f'.format()\n",
    "print(\"Sum of {0} and {1} is {2}\".format(n1,n2,sum))\n",
    "print(round(sum,2))\n",
    "\n",
    "a=float(input(\"Enter 1st side: \"))\n",
    "b=float(input(\"Enter 2nd side: \"))\n",
    "c=float(input(\"Enter 3rd side: \"))\n",
    "#semiperimeter\n",
    "s=(a+b+c)/2\n",
    "sa=(s*(s-a)*(s-b)*(s-c))**0.5\n",
    "print(sa)\n",
    "print(\"The area of the triangle is %0.2f\"%sa)"
   ]
  },
  {
   "cell_type": "code",
   "execution_count": null,
   "metadata": {
    "colab": {
     "base_uri": "https://localhost:8080/"
    },
    "id": "iXT9PTNfCU05",
    "outputId": "884a1b8d-61d0-4c01-f451-6d6956c04159"
   },
   "outputs": [
    {
     "name": "stdout",
     "output_type": "stream",
     "text": [
      "Enter value of x: 10\n",
      "Enter value of y: 5\n",
      "Value of x after swapping: 5\n",
      "Value of y after swapping: 10\n"
     ]
    }
   ],
   "source": [
    "x=int(input(\"Enter value of x: \"))\n",
    "y=int(input(\"Enter value of y: \"))\n",
    "temp=x\n",
    "x=y\n",
    "y=temp\n",
    "print(\"Value of x after swapping: {}\".format(x))\n",
    "print(\"Value of y after swapping: {}\".format(y))"
   ]
  },
  {
   "cell_type": "code",
   "execution_count": null,
   "metadata": {
    "colab": {
     "base_uri": "https://localhost:8080/"
    },
    "id": "12qdh-KlmB0F",
    "outputId": "703c3c45-ba92-49bd-ab08-8626a1f4be21"
   },
   "outputs": [
    {
     "name": "stdout",
     "output_type": "stream",
     "text": [
      "18\n",
      "Enter kilometers value: 50.5\n",
      "50.50 of kilometers is equal to 31.38 of miles\n"
     ]
    }
   ],
   "source": [
    "import random\n",
    "print(random.randint(10,19))\n",
    "\n",
    "km=float(input(\"Enter kilometers value: \"))\n",
    "conversion_factor=0.621371\n",
    "miles=km*conversion_factor\n",
    "print(\"%0.2f of kilometers is equal to %0.2f of miles\"%(km,miles))"
   ]
  },
  {
   "cell_type": "code",
   "execution_count": null,
   "metadata": {
    "colab": {
     "base_uri": "https://localhost:8080/"
    },
    "id": "2XxDLhJoE5ZJ",
    "outputId": "a7752376-3c65-4266-e65b-2d63d650a54f"
   },
   "outputs": [
    {
     "name": "stdout",
     "output_type": "stream",
     "text": [
      "Enter the temperature in Celsius: 35.8\n",
      "35.80 degree celcius is equals to 96.44 degree Fahrenheit\n"
     ]
    }
   ],
   "source": [
    "celsius=float(input(\"Enter the temperature in Celsius: \"))\n",
    "fahrenheit=celsius*(9/5)+32\n",
    "print('%0.2f degree celcius is equals to %0.2f degree Fahrenheit'%(celsius,fahrenheit))"
   ]
  },
  {
   "cell_type": "code",
   "execution_count": null,
   "metadata": {
    "colab": {
     "base_uri": "https://localhost:8080/"
    },
    "id": "e8QzyD1_JUU7",
    "outputId": "5a6ae2a1-2295-4442-e2de-1c22823e48de"
   },
   "outputs": [
    {
     "name": "stdout",
     "output_type": "stream",
     "text": [
      "Enter a number: 20\n",
      "20 is even\n"
     ]
    }
   ],
   "source": [
    "num=int(input(\"Enter a number: \"))\n",
    "if num%2!=0:\n",
    "  print(num,\"is odd number\")\n",
    "else:\n",
    "  print(\"{0} is even\".format(num))"
   ]
  },
  {
   "cell_type": "code",
   "execution_count": null,
   "metadata": {
    "colab": {
     "base_uri": "https://localhost:8080/"
    },
    "id": "5o822Av-O3Of",
    "outputId": "45e3c855-8354-4d4c-fe25-b673d30a8352"
   },
   "outputs": [
    {
     "name": "stdout",
     "output_type": "stream",
     "text": [
      "Enter a year: 2000\n",
      "2000 is a leap year\n"
     ]
    }
   ],
   "source": [
    "year=int(input(\"Enter a year: \"))\n",
    "if year%400==0 and year%100==0:\n",
    "  print(\"{0} is a leap year\".format(year))\n",
    "elif year%4==0 and year%100!=0:\n",
    "  print(\"{0} is a leap year\".format(year))\n",
    "else:\n",
    "  print(\"{0} is not a leap year\".format(year))"
   ]
  },
  {
   "cell_type": "code",
   "execution_count": null,
   "metadata": {
    "colab": {
     "base_uri": "https://localhost:8080/"
    },
    "id": "-jCdAxct0tVr",
    "outputId": "0a34b152-cd7c-4aae-f9d7-385b7420d7c8"
   },
   "outputs": [
    {
     "name": "stdout",
     "output_type": "stream",
     "text": [
      "Enter a number: 12\n",
      "Enter a number: 13\n",
      "Enter a number: 15\n",
      "15 is the largest\n"
     ]
    }
   ],
   "source": [
    "n1=int(input(\"Enter a number: \"))\n",
    "n2=int(input(\"Enter a number: \"))\n",
    "n3=int(input(\"Enter a number: \"))\n",
    "if n1>=n2 and n1>=n3:\n",
    "  print(\"{0} is the largest\".format(n1))\n",
    "elif n2>=n3 and n2>=n3:\n",
    "  print(\"{0} is the largest\".format(n2))\n",
    "else:\n",
    "  print(\"{0} is the largest\".format(n3))"
   ]
  },
  {
   "cell_type": "code",
   "execution_count": null,
   "metadata": {
    "colab": {
     "base_uri": "https://localhost:8080/"
    },
    "id": "4b7c7I9S4-4q",
    "outputId": "ba4ea4a9-d655-4c2a-d731-c7309a2d73d5"
   },
   "outputs": [
    {
     "name": "stdout",
     "output_type": "stream",
     "text": [
      "Enter a number: 6\n",
      "6 is not a prime number\n"
     ]
    }
   ],
   "source": [
    "num=int(input(\"Enter a number: \"))\n",
    "flag = False\n",
    "if num>1:\n",
    "  for i in range(2,num):\n",
    "    if (num%i==0):\n",
    "      flag=True\n",
    "      break\n",
    "if flag:\n",
    "  print(\"{0} is not a prime number\".format(num))\n",
    "else:\n",
    "  print(\"{0} is a prime number\".format(num))"
   ]
  },
  {
   "cell_type": "code",
   "execution_count": null,
   "metadata": {
    "colab": {
     "base_uri": "https://localhost:8080/"
    },
    "id": "W39PQ6zajKjl",
    "outputId": "f57b0ea5-a7a1-41da-e59d-a8b140a7eb3c"
   },
   "outputs": [
    {
     "name": "stdout",
     "output_type": "stream",
     "text": [
      "Enter lower value: 0\n",
      "Enter upper value: 20\n",
      "2\n",
      "3\n",
      "5\n",
      "7\n",
      "11\n",
      "13\n",
      "17\n",
      "19\n"
     ]
    }
   ],
   "source": [
    "#Program for prime numbers\n",
    "l=int(input(\"Enter lower value: \"))\n",
    "u=int(input(\"Enter upper value: \"))\n",
    "for n in range(l,u+1):\n",
    "  if n>1:\n",
    "    for i in range(2,n):\n",
    "      if n%i==0:\n",
    "        break\n",
    "    else:\n",
    "      print(n)"
   ]
  },
  {
   "cell_type": "code",
   "execution_count": null,
   "metadata": {
    "colab": {
     "base_uri": "https://localhost:8080/"
    },
    "id": "W5QhBB8Dk_Hh",
    "outputId": "eb80462b-7e07-455b-9a00-157ced35dab0"
   },
   "outputs": [
    {
     "name": "stdout",
     "output_type": "stream",
     "text": [
      "Enter a number to get its factorial: 4\n",
      "Factorial of 4 is 24\n"
     ]
    }
   ],
   "source": [
    "#Factorial of a number\n",
    "n=int(input(\"Enter a number to get its factorial: \"))\n",
    "factorial=1\n",
    "if n<0:\n",
    "  print(\"Negative numbers don't have factorials\")\n",
    "elif n==0:\n",
    "  print(\"Factorial of 0 is 1\")\n",
    "else:\n",
    "  for i in range(1,n+1):\n",
    "    factorial=factorial*i\n",
    "  print(\"Factorial of\",n,\"is\",factorial)"
   ]
  },
  {
   "cell_type": "code",
   "execution_count": null,
   "metadata": {
    "colab": {
     "base_uri": "https://localhost:8080/"
    },
    "id": "xPAtQ7hfmWM9",
    "outputId": "05358fbe-52ac-4693-aa7e-29ae4a5b6353"
   },
   "outputs": [
    {
     "name": "stdout",
     "output_type": "stream",
     "text": [
      "Enter a number: 12\n",
      "12\n",
      "24\n",
      "36\n",
      "48\n",
      "60\n",
      "72\n",
      "84\n",
      "96\n",
      "108\n",
      "120\n"
     ]
    }
   ],
   "source": [
    "#Multiplication Table\n",
    "n=int(input(\"Enter a number: \"))\n",
    "for i in range(1,11):\n",
    "  print(n*i)"
   ]
  },
  {
   "cell_type": "code",
   "execution_count": null,
   "metadata": {
    "colab": {
     "base_uri": "https://localhost:8080/"
    },
    "id": "9AWCA6Ges_2X",
    "outputId": "ae09e53e-6644-4d0c-9c0e-be90ac8fef2d"
   },
   "outputs": [
    {
     "name": "stdout",
     "output_type": "stream",
     "text": [
      "Enter a number: 10\n",
      "Fibonacci Series of 10 terms is\n",
      "0 1 1 2 3 5 8 13 21 34 "
     ]
    }
   ],
   "source": [
    "#Fibonacci Series\n",
    "n=int(input(\"Enter a number: \"))\n",
    "n1=0\n",
    "n2=1\n",
    "count=0\n",
    "if n<=0:\n",
    "  print(\"Sorry, negative digits doesn't have Fibonacci series\")\n",
    "elif n==1:\n",
    "  print(\"Fibonacci Series of 1 is: \",n1)\n",
    "else:\n",
    "  print(\"Fibonacci Series of {0} terms is\".format(n))\n",
    "  while count<n:\n",
    "    print(n1,end=\" \")\n",
    "    nth=n1+n2\n",
    "    n1=n2\n",
    "    n2=nth\n",
    "    count+=1"
   ]
  },
  {
   "cell_type": "code",
   "execution_count": null,
   "metadata": {
    "colab": {
     "base_uri": "https://localhost:8080/"
    },
    "id": "nvz00vkfLvRF",
    "outputId": "06020fcd-6d70-480d-8e11-1838b7dbfb71"
   },
   "outputs": [
    {
     "name": "stdout",
     "output_type": "stream",
     "text": [
      "Enter a number: 153\n",
      "153 is an Armstrong Number\n"
     ]
    }
   ],
   "source": [
    "#Armstrong Number\n",
    "n=int(input(\"Enter a number: \"))\n",
    "sum=0\n",
    "temp=n\n",
    "while temp>0:\n",
    "  digit=temp%10\n",
    "  sum+=digit**3\n",
    "  temp//=10\n",
    "if n==sum:\n",
    "  print(\"{0} is an Armstrong Number\".format(n))\n",
    "else:\n",
    "  print(\"{0} is not an Armstrong Number\".format(n))"
   ]
  },
  {
   "cell_type": "code",
   "execution_count": null,
   "metadata": {
    "colab": {
     "base_uri": "https://localhost:8080/"
    },
    "id": "XjVMhnSDdKNP",
    "outputId": "3ddcf9bd-7ebb-4dd7-ee29-0b133df65ce4"
   },
   "outputs": [
    {
     "name": "stdout",
     "output_type": "stream",
     "text": [
      "153\n",
      "370\n",
      "371\n",
      "407\n",
      "1634\n"
     ]
    }
   ],
   "source": [
    "#Armstrong Number for an interval\n",
    "l=100\n",
    "u=2000\n",
    "for num in range(l,u+1):\n",
    "  order=len(str(num))\n",
    "  sum=0\n",
    "  temp=num\n",
    "  while temp>0:\n",
    "    digit=temp%10\n",
    "    sum+=digit**order\n",
    "    temp//=10\n",
    "  if num==sum:\n",
    "    print(num)"
   ]
  },
  {
   "cell_type": "code",
   "execution_count": null,
   "metadata": {
    "colab": {
     "base_uri": "https://localhost:8080/"
    },
    "id": "x0conTBKeJfv",
    "outputId": "b20ed46d-8ea5-4ae9-a8d8-94edb684da93"
   },
   "outputs": [
    {
     "name": "stdout",
     "output_type": "stream",
     "text": [
      "Enter a number: 100\n",
      "Sum of natural numbers is 5050\n"
     ]
    }
   ],
   "source": [
    "#sum of first n natural number\n",
    "n=int(input(\"Enter a number: \"))\n",
    "if n<0:\n",
    "  print(\"Negative numbers are not natural numbers\")\n",
    "else:\n",
    "  sum=0\n",
    "  while n>0:\n",
    "    sum=sum+n\n",
    "    n=n-1\n",
    "  print(\"Sum of natural numbers is\",sum)"
   ]
  },
  {
   "cell_type": "code",
   "execution_count": null,
   "metadata": {
    "colab": {
     "base_uri": "https://localhost:8080/"
    },
    "id": "TknvdhVayqPZ",
    "outputId": "78012b8e-69e5-4878-906f-90d2686b2571"
   },
   "outputs": [
    {
     "name": "stdout",
     "output_type": "stream",
     "text": [
      "Total terms are:  10\n",
      "2 raise to power 0 is 1\n",
      "2 raise to power 1 is 2\n",
      "2 raise to power 2 is 4\n",
      "2 raise to power 3 is 8\n",
      "2 raise to power 4 is 16\n",
      "2 raise to power 5 is 32\n",
      "2 raise to power 6 is 64\n",
      "2 raise to power 7 is 128\n",
      "2 raise to power 8 is 256\n",
      "2 raise to power 9 is 512\n"
     ]
    }
   ],
   "source": [
    "terms=10\n",
    "result=list(map(lambda x: 2**x, range(terms)))\n",
    "print(\"Total terms are: \",terms)\n",
    "for i in range(terms):\n",
    "  print(\"2 raise to power\",i,\"is\",result[i])"
   ]
  },
  {
   "cell_type": "code",
   "execution_count": null,
   "metadata": {
    "colab": {
     "base_uri": "https://localhost:8080/"
    },
    "id": "ktujZUMY3aFx",
    "outputId": "fb634f47-8e31-4021-a1ed-7c38071c6599"
   },
   "outputs": [
    {
     "name": "stdout",
     "output_type": "stream",
     "text": [
      "30\n"
     ]
    }
   ],
   "source": [
    "x = lambda a, b : a * b\n",
    "print(x(5, 6))"
   ]
  },
  {
   "cell_type": "markdown",
   "metadata": {
    "id": "SHUw0MeU-gFX"
   },
   "source": [
    "Q1. Write a python program to create a Queue1 of size 8 with the combination of –ve and +ve elements. Find –ve elements in the Queue1 and insert it to another Queue2 after converting it to +ve value."
   ]
  },
  {
   "cell_type": "code",
   "execution_count": null,
   "metadata": {
    "colab": {
     "base_uri": "https://localhost:8080/"
    },
    "id": "MEnzwGwHS87M",
    "outputId": "53458da6-a2b2-4e59-c5ba-b44e5aededc2"
   },
   "outputs": [
    {
     "name": "stdout",
     "output_type": "stream",
     "text": [
      "Enter Element:3\n",
      "Enter Element:-2\n",
      "Enter Element:6\n",
      "Enter Element:-1\n",
      "Enter Element:-7\n",
      "Enter Element:4\n",
      "Enter Element:8\n",
      "Enter Element:2\n",
      "[3, -2, 6, -1, -7, 4, 8, 2]\n",
      "[2, 1, 7]\n"
     ]
    }
   ],
   "source": [
    "def enque(queue,val):\n",
    "    if val not in queue:\n",
    "        queue.append(val)\n",
    "        return True\n",
    "    return False\n",
    "\n",
    "def deque(queue):\n",
    "    if len(queue)>0:\n",
    "        return queue.pop(0)\n",
    "    return print(\"Queue is Empty\")\n",
    "\n",
    "def size(queue):\n",
    "    return len(queue)\n",
    "\n",
    "queue1=[]\n",
    "for i in range(8,0,-1):\n",
    "    element=int(input(\"Enter Element:\"))\n",
    "    enque(queue1,element)\n",
    "print(queue1)\n",
    "\n",
    "queue2=[]\n",
    "def neg2pos(queue1,queue2):\n",
    "    front=queue1[0]\n",
    "    if front<0:\n",
    "        front=0-front\n",
    "        enque(queue2,front)\n",
    "        deque(queue1)\n",
    "    else:\n",
    "        deque(queue1)\n",
    "    return queue2\n",
    "\n",
    "while len(queue1)>0:\n",
    "    neg2pos(queue1,queue2)\n",
    "print(queue2)"
   ]
  },
  {
   "cell_type": "markdown",
   "metadata": {
    "id": "bzxitY92D_Fn"
   },
   "source": [
    "Q2. Write  a  python  program to  take  create  a  stack. Display  the  even  numbers present in the stack."
   ]
  },
  {
   "cell_type": "code",
   "execution_count": null,
   "metadata": {
    "colab": {
     "base_uri": "https://localhost:8080/"
    },
    "id": "SE2dgrZQMJQ6",
    "outputId": "8ced2eca-5fa9-4ceb-8698-ed95b84bbda1"
   },
   "outputs": [
    {
     "name": "stdout",
     "output_type": "stream",
     "text": [
      "enter len of stack: 5\n",
      "enter number: 8\n",
      "push 2 in stack\n",
      "[8]\n",
      "enter number: 23\n",
      "push 2 in stack\n",
      "[8, 23]\n",
      "enter number: 5\n",
      "push 2 in stack\n",
      "[8, 23, 5]\n",
      "enter number: 7\n",
      "push 2 in stack\n",
      "[8, 23, 5, 7]\n",
      "enter number: 1\n",
      "push 2 in stack\n",
      "[8, 23, 5, 7, 1]\n",
      "8 stack is empty\n"
     ]
    }
   ],
   "source": [
    "def push(stack, x):\n",
    "    stack.append(x)\n",
    "    print(\"push {} in stack\".format(element))\n",
    "def pop(stack):\n",
    "    if len(stack)>0:\n",
    "        return stack.pop()\n",
    "    else:\n",
    "        return print(\"stack is empty\")\n",
    "def isempty(stack):\n",
    "    return len(stack) == 0\n",
    "def top(stack):\n",
    "    if(isempty(stack)):\n",
    "        print(\"empty\")\n",
    "    return stack[len(stack)-1]\n",
    "\n",
    "stack =[]\n",
    "len1 = int(input(\"enter len of stack: \"))\n",
    "for i in range(len1, 0, -1):\n",
    "    x = int(input(\"enter number: \"))\n",
    "    push(stack, x)\n",
    "    print(stack)\n",
    "def even(stack):\n",
    "    t= top(stack)\n",
    "    if t == -1:\n",
    "        print(\"stack is empty\")\n",
    "    if t%2 ==0:\n",
    "        print(t, end =\" \")\n",
    "        pop(stack)\n",
    "    pop(stack)\n",
    "while len(stack)!=0:\n",
    "    even(stack)"
   ]
  },
  {
   "cell_type": "code",
   "execution_count": null,
   "metadata": {
    "colab": {
     "base_uri": "https://localhost:8080/"
    },
    "id": "J92ROU2YfnOB",
    "outputId": "693e08e0-59fa-4c53-dd16-80b1815f3999"
   },
   "outputs": [
    {
     "name": "stdout",
     "output_type": "stream",
     "text": [
      "A\n",
      "65\n",
      "2021-12-15 14:51:45.675222\n",
      "Enter your name: chinu\n",
      "Hello chinu !!\n",
      "Enter a character: I\n",
      "ASCII Value for I is {73}\n",
      "Enter a value: 75\n",
      "Character for ASCII Value 75 is K\n"
     ]
    }
   ],
   "source": [
    "print(chr(65))\n",
    "print(ord('A'))\n",
    "\n",
    "from datetime import datetime\n",
    "print(datetime.now())\n",
    "\n",
    "a=(\"python by me\")\n",
    "a.upper()\n",
    "\n",
    "n=input(\"Enter your name: \")\n",
    "print('Hello',n,'!!')\n",
    "\n",
    "m=input(\"Enter a character: \")\n",
    "print(\"ASCII Value for\",m,\"is\",{ord(m)})\n",
    "\n",
    "n=int(input(\"Enter a value: \"))\n",
    "print(\"Character for ASCII Value\",n,'is',chr(n))"
   ]
  },
  {
   "cell_type": "code",
   "execution_count": null,
   "metadata": {
    "colab": {
     "base_uri": "https://localhost:8080/"
    },
    "id": "MRN_nI5EkVO3",
    "outputId": "ce437dc7-22fb-4e77-de19-1c82f6564d08"
   },
   "outputs": [
    {
     "name": "stdout",
     "output_type": "stream",
     "text": [
      "Enter your name: Pratibha\n",
      "Prati\n",
      "Paih\n",
      "ahbitarP\n"
     ]
    }
   ],
   "source": [
    "s=input(\"Enter your name: \")\n",
    "print(s[:5]) #To get first 4 characters\n",
    "print(s[::2]) #To get full string with jump of 1 character\n",
    "print(s[::-1]) #To get full string in reverse order"
   ]
  },
  {
   "cell_type": "code",
   "execution_count": null,
   "metadata": {
    "colab": {
     "base_uri": "https://localhost:8080/"
    },
    "id": "wkAu-T7ZnweI",
    "outputId": "1677c8e3-eba9-4109-f172-165bc9d14bb1"
   },
   "outputs": [
    {
     "name": "stdout",
     "output_type": "stream",
     "text": [
      "Enter Comma separated city names: Delhi,Mumbai,Kota,Ambala,Srinagar\n",
      "['Ambala', 'Delhi', 'Kota', 'Mumbai', 'Srinagar']\n"
     ]
    }
   ],
   "source": [
    "city_name=input(\"Enter Comma separated city names: \")\n",
    "l=list(city_name.split(\",\"))\n",
    "print(sorted(l))"
   ]
  },
  {
   "cell_type": "code",
   "execution_count": null,
   "metadata": {
    "colab": {
     "base_uri": "https://localhost:8080/"
    },
    "id": "3N5Gnr2RrtJz",
    "outputId": "f6ca00ac-9ab0-4bf9-99a1-5ca646af7e23"
   },
   "outputs": [
    {
     "name": "stdout",
     "output_type": "stream",
     "text": [
      "Enter names: ram,priya,anuj,amy,ram\n",
      "['amy', 'anuj', 'priya', 'ram']\n"
     ]
    }
   ],
   "source": [
    "names=input(\"Enter names: \")\n",
    "nl=set(names.split(\",\"))\n",
    "print(sorted(nl))"
   ]
  },
  {
   "cell_type": "code",
   "execution_count": null,
   "metadata": {
    "colab": {
     "base_uri": "https://localhost:8080/"
    },
    "id": "Rp3OTJITtB3v",
    "outputId": "effe052d-74fb-4877-8400-43ec5a4e1f65"
   },
   "outputs": [
    {
     "name": "stdout",
     "output_type": "stream",
     "text": [
      "Enter 1st No.: 27\n",
      "Enter 2nd No.: 45\n",
      "Enter 3rd No.: 16\n",
      "45\n",
      "16\n",
      "29.333333333333332\n"
     ]
    }
   ],
   "source": [
    "a=int(input(\"Enter 1st No.: \"))\n",
    "b=int(input(\"Enter 2nd No.: \"))\n",
    "c=int(input(\"Enter 3rd No.: \"))\n",
    "print(max(a,b,c))\n",
    "print(min(a,b,c))\n",
    "print((a+b+c)/3)"
   ]
  },
  {
   "cell_type": "code",
   "execution_count": null,
   "metadata": {
    "colab": {
     "base_uri": "https://localhost:8080/"
    },
    "id": "PMUZOfu1-r2r",
    "outputId": "ac60c88f-bc1d-464d-fe82-2de056bc13b4"
   },
   "outputs": [
    {
     "name": "stdout",
     "output_type": "stream",
     "text": [
      "Enter a number: 5\n",
      "Enter power value: 2\n",
      "25\n"
     ]
    }
   ],
   "source": [
    "x=int(input(\"Enter a number: \"))\n",
    "n=int(input(\"Enter power value: \"))\n",
    "a=x**n\n",
    "print(a)"
   ]
  },
  {
   "cell_type": "code",
   "execution_count": null,
   "metadata": {
    "colab": {
     "base_uri": "https://localhost:8080/"
    },
    "id": "5rVb4vUt_F0j",
    "outputId": "59938354-389e-4f25-de78-1a6a90a63b7f"
   },
   "outputs": [
    {
     "name": "stdout",
     "output_type": "stream",
     "text": [
      "Enter a number: 5.7878787878\n",
      "5.79\n"
     ]
    }
   ],
   "source": [
    "f=float(input(\"Enter a number: \"))\n",
    "print(round(f,2))"
   ]
  },
  {
   "cell_type": "code",
   "execution_count": null,
   "metadata": {
    "colab": {
     "base_uri": "https://localhost:8080/"
    },
    "id": "gzmWT-Z-GDZx",
    "outputId": "bdbe1cca-fb47-4c2e-d4ef-edce0d6eece8"
   },
   "outputs": [
    {
     "name": "stdout",
     "output_type": "stream",
     "text": [
      "Enter perpendicular: 5\n",
      "Enter base: 4\n",
      "Hypotenuous is:  6.4\n"
     ]
    }
   ],
   "source": [
    "import math\n",
    "p=int(input(\"Enter perpendicular: \"))\n",
    "b=int(input(\"Enter base: \"))\n",
    "h=math.sqrt(p**2+b**2)\n",
    "hy=round(h,2)\n",
    "print(\"Hypotenuous is: \",hy)"
   ]
  },
  {
   "cell_type": "code",
   "execution_count": null,
   "metadata": {
    "colab": {
     "base_uri": "https://localhost:8080/"
    },
    "id": "o-zmeHj3H2Kz",
    "outputId": "61018d4a-4d79-42dc-f4b3-3c32595d9fd4"
   },
   "outputs": [
    {
     "name": "stdout",
     "output_type": "stream",
     "text": [
      "Enter Fahrenheit temperature: 54\n",
      "Celcius temperature is:  12.22\n"
     ]
    }
   ],
   "source": [
    "f=int(input(\"Enter Fahrenheit temperature: \"))\n",
    "c=round((f-32)*(5/9),2)\n",
    "print(\"Celcius temperature is: \",c)"
   ]
  },
  {
   "cell_type": "code",
   "execution_count": null,
   "metadata": {
    "colab": {
     "base_uri": "https://localhost:8080/"
    },
    "id": "7kx457CHKVuU",
    "outputId": "ca930b5e-3a31-4f09-d463-9936fb13223a"
   },
   "outputs": [
    {
     "name": "stdout",
     "output_type": "stream",
     "text": [
      "Enter a string: onion\n",
      "Valid Input\n",
      "Enter string: momiom\n",
      "Valid\n"
     ]
    }
   ],
   "source": [
    "s=input(\"Enter a string: \")\n",
    "vowel='aeiouAEIOU'\n",
    "if s[0] in vowel:\n",
    "  print(\"Valid Input\")\n",
    "else:\n",
    "  print(\"Invalid\")\n",
    "\n",
    "q=input(\"Enter string: \")\n",
    "if q[0]==q[-1]:\n",
    "  print(\"Valid\")\n",
    "else:\n",
    "  print(\"Invalid\")"
   ]
  },
  {
   "cell_type": "code",
   "execution_count": null,
   "metadata": {
    "colab": {
     "base_uri": "https://localhost:8080/"
    },
    "id": "Ekin0ui-PRZ9",
    "outputId": "b421e2f4-372b-4540-b1f5-0176da827308"
   },
   "outputs": [
    {
     "name": "stdout",
     "output_type": "stream",
     "text": [
      "Enter length: 7\n",
      "Enter breadth: 8\n",
      "It's a rectangle\n"
     ]
    }
   ],
   "source": [
    "l=int(input(\"Enter length: \"))\n",
    "b=int(input(\"Enter breadth: \"))\n",
    "if l==b:\n",
    "  print(\"It's a Square\")\n",
    "else:\n",
    "  print(\"It's a rectangle\")"
   ]
  },
  {
   "cell_type": "code",
   "execution_count": null,
   "metadata": {
    "colab": {
     "base_uri": "https://localhost:8080/"
    },
    "id": "fFwxuiPuP6Cj",
    "outputId": "d6e75453-a463-44dd-8ae9-3b3eb050ea3e"
   },
   "outputs": [
    {
     "name": "stdout",
     "output_type": "stream",
     "text": [
      "Enter a number: 9\n",
      "Odd number\n"
     ]
    }
   ],
   "source": [
    "n=int(input(\"Enter a number: \"))\n",
    "if n%2==0:\n",
    "  print(\"It's Even\")\n",
    "else:\n",
    "  print(\"Odd number\")"
   ]
  },
  {
   "cell_type": "code",
   "execution_count": null,
   "metadata": {
    "colab": {
     "base_uri": "https://localhost:8080/"
    },
    "id": "xW4hqq43Qcr4",
    "outputId": "eba6e187-35fb-4f49-9dad-1be3141f768d"
   },
   "outputs": [
    {
     "name": "stdout",
     "output_type": "stream",
     "text": [
      "Enter 1st angle: 75\n",
      "Enter 2nd angle: 25\n",
      "Enter 3rd angle: 80\n",
      "Forms a Triangle\n"
     ]
    }
   ],
   "source": [
    "a1=int(input(\"Enter 1st angle: \"))\n",
    "a2=int(input(\"Enter 2nd angle: \"))\n",
    "a3=int(input(\"Enter 3rd angle: \"))\n",
    "if (a1+a2+a3)==180:\n",
    "  print(\"Forms a Triangle\")\n",
    "else:\n",
    "  print(\"Not a triangle\")"
   ]
  },
  {
   "cell_type": "code",
   "execution_count": null,
   "metadata": {
    "colab": {
     "base_uri": "https://localhost:8080/"
    },
    "id": "n8LBrbx43Cu6",
    "outputId": "a411f0c8-89fe-42b2-d89b-f0972a5830fb"
   },
   "outputs": [
    {
     "name": "stdout",
     "output_type": "stream",
     "text": [
      "Enter salary: 750000\n",
      "Tax on the mentioned salary is:  62500.0\n"
     ]
    }
   ],
   "source": [
    "ann_sal=int(input(\"Enter salary: \"))\n",
    "if ann_sal<250000:\n",
    "  tax=0\n",
    "elif ann_sal<500000:\n",
    "  tax=ann_sal*(5/100)\n",
    "elif ann_sal<1000000:\n",
    "  tax=12500+((ann_sal-500000)*20/100)\n",
    "else:\n",
    "  tax=112500+((ann_sal-1000000)*30/100)\n",
    "print(\"Tax on the mentioned salary is: \",tax)"
   ]
  },
  {
   "cell_type": "code",
   "execution_count": null,
   "metadata": {
    "colab": {
     "base_uri": "https://localhost:8080/"
    },
    "id": "cSv6z2VD6Vdx",
    "outputId": "0f7e7ce7-4bb2-4a17-b26c-207952cbf555"
   },
   "outputs": [
    {
     "name": "stdout",
     "output_type": "stream",
     "text": [
      "50\n",
      "50\n",
      "80\n",
      "isoceles\n"
     ]
    }
   ],
   "source": [
    "a,b,c=int(input()),int(input()),int(input())\n",
    "if a+b+c!=180:\n",
    "  print(\"Angles doen't form a triangle\")\n",
    "else:\n",
    "  if a>90 or b>90 or c>90:\n",
    "    print(\"It's an Obtuse angled triangle\")\n",
    "  elif a==b==c==60:\n",
    "    print(\"equilateral triangle\")\n",
    "  elif a==b or b==c or a==c:\n",
    "    print(\"isoceles\")\n",
    "  else:\n",
    "    print(\"Pass\")\n"
   ]
  },
  {
   "cell_type": "code",
   "execution_count": null,
   "metadata": {
    "colab": {
     "base_uri": "https://localhost:8080/"
    },
    "id": "eYBjlDej7y7n",
    "outputId": "2a9551a2-1bd5-494c-8dd2-1fe0f6cbc56e"
   },
   "outputs": [
    {
     "name": "stdout",
     "output_type": "stream",
     "text": [
      "<class 'int'>\n",
      "<class 'float'>\n",
      "<class 'complex'>\n",
      "<class 'int'>\n",
      "<class 'str'>\n",
      "<class 'int'>\n"
     ]
    }
   ],
   "source": [
    "l=[1,4.5,5j,99,'Amy',15451546847685168768516874]\n",
    "for i in l:\n",
    "  print(type(i))"
   ]
  },
  {
   "cell_type": "code",
   "execution_count": null,
   "metadata": {
    "colab": {
     "base_uri": "https://localhost:8080/"
    },
    "id": "xhdQbcq_8Vrt",
    "outputId": "f2d0cfbb-1155-4281-bb52-7fb9888a964d"
   },
   "outputs": [
    {
     "name": "stdout",
     "output_type": "stream",
     "text": [
      "Sum of list is:  150\n",
      "Average of list is:  30.0\n"
     ]
    }
   ],
   "source": [
    "l=[10,20,30,40,50]\n",
    "sum=0\n",
    "for i in l:\n",
    "  sum=sum+i\n",
    "print(\"Sum of list is: \",sum)\n",
    "print(\"Average of list is: \",sum/len(l))"
   ]
  },
  {
   "cell_type": "code",
   "execution_count": null,
   "metadata": {
    "colab": {
     "base_uri": "https://localhost:8080/"
    },
    "id": "T_lrGnzp9Cgl",
    "outputId": "49b309ef-2822-49f4-f7d3-690b8d2347c7"
   },
   "outputs": [
    {
     "name": "stdout",
     "output_type": "stream",
     "text": [
      "Result is:  [21, 37, 35, 23, 26]\n"
     ]
    }
   ],
   "source": [
    "l=[21,37,55,46,75,99,35,23,26]\n",
    "l1=[]\n",
    "for i in l:\n",
    "  if i<40:\n",
    "    l1.append(i)\n",
    "print(\"Result is: \",l1)"
   ]
  },
  {
   "cell_type": "code",
   "execution_count": null,
   "metadata": {
    "colab": {
     "base_uri": "https://localhost:8080/"
    },
    "id": "OUtgdJH_MVrp",
    "outputId": "d51a0e23-90c3-4e2e-dae1-c0014ffc1599"
   },
   "outputs": [
    {
     "name": "stdout",
     "output_type": "stream",
     "text": [
      "Strings are:  ['go', 'SARC', 'VITAP']\n"
     ]
    }
   ],
   "source": [
    "l=[2,'go',8,'SARC',10,'VITAP',41,0.5]\n",
    "l1=[]\n",
    "for i in l:\n",
    "  if isinstance(i,str):\n",
    "    l1.append(i)\n",
    "print(\"Strings are: \", l1)"
   ]
  },
  {
   "cell_type": "code",
   "execution_count": null,
   "metadata": {
    "colab": {
     "base_uri": "https://localhost:8080/"
    },
    "id": "HdeJmdrpNvYY",
    "outputId": "e6791ed8-b080-43c9-d08f-c9fd4b35c322"
   },
   "outputs": [
    {
     "name": "stdout",
     "output_type": "stream",
     "text": [
      "go, - ,og\n",
      "mom - mom\n",
      "nike - ekin\n",
      "adi - ida\n",
      "jio - oij\n",
      "idea - aedi\n",
      "voda - adov\n",
      "mine - enim\n",
      "10\n",
      "8\n",
      "6\n",
      "4\n",
      "2\n"
     ]
    }
   ],
   "source": [
    "l=['go,','mom','nike','adi','jio','idea','voda','mine']\n",
    "for i in l:\n",
    "  print(i,'-',i[::-1])\n",
    "\n",
    "m=[2,4,6,8,10]\n",
    "for j in reversed(m): #it will NOT reverse the list permanently\n",
    "  print(j)\n",
    "\n",
    "m.reverse() #it will reverse the list permanently"
   ]
  },
  {
   "cell_type": "code",
   "execution_count": null,
   "metadata": {
    "colab": {
     "base_uri": "https://localhost:8080/"
    },
    "id": "h4-ZQR5z52g_",
    "outputId": "6193485e-d718-4dce-82db-7194baca778c"
   },
   "outputs": [
    {
     "name": "stdout",
     "output_type": "stream",
     "text": [
      "550 250 78 61 45 41 13 9 7 2 \n",
      " [1, 2, 3, 8, 9, 14, 6, 5, 10, 3]\n"
     ]
    }
   ],
   "source": [
    "l=[2,45,78,9,61,41,7,13,550,250]\n",
    "#Changes permanentaly\n",
    "#l.sort()\n",
    "#l.reverse()\n",
    "#print(l)\n",
    "\n",
    "for i in reversed(sorted(l)):\n",
    "  print(i,end=' ')\n",
    "\n",
    "m=[1,2,3,7,8,7,9,7,14,6,5,10,3]\n",
    "for i in m:\n",
    "  if i==7:\n",
    "    m.remove(7)\n",
    "print('\\n',m)"
   ]
  },
  {
   "cell_type": "code",
   "execution_count": null,
   "metadata": {
    "colab": {
     "base_uri": "https://localhost:8080/"
    },
    "id": "Gj_PoXcF89yv",
    "outputId": "883dadb0-fdd0-4245-de97-de79adb6d8b5"
   },
   "outputs": [
    {
     "name": "stdout",
     "output_type": "stream",
     "text": [
      "1 - 1\n",
      "2 - 4\n",
      "3 - 9\n",
      "7 - 49\n",
      "8 - 64\n",
      "7 - 49\n",
      "9 - 81\n",
      "7 - 49\n",
      "14 - 196\n",
      "6 - 36\n",
      "5 - 25\n",
      "10 - 100\n",
      "3 - 9\n"
     ]
    }
   ],
   "source": [
    "m=[1,2,3,7,8,7,9,7,14,6,5,10,3]\n",
    "for i in m:\n",
    "  print(i,'-',i**2)"
   ]
  },
  {
   "cell_type": "code",
   "execution_count": null,
   "metadata": {
    "colab": {
     "base_uri": "https://localhost:8080/"
    },
    "id": "32W7XbJn7U8G",
    "outputId": "1b99069d-cc37-46d7-9c8c-1f4de149449e"
   },
   "outputs": [
    {
     "name": "stdout",
     "output_type": "stream",
     "text": [
      "Enter a string: Indian\n",
      "{'a': 1, 'e': 0, 'i': 1, 'o': 0, 'u': 0, 'A': 0, 'E': 0, 'I': 1, 'O': 0, 'U': 0}\n"
     ]
    }
   ],
   "source": [
    "d={i:0 for i in 'aeiouAEIOU'}\n",
    "s=input(\"Enter a string: \")\n",
    "for i in s:\n",
    "  if i in d:\n",
    "    d[i]=d[i]+1\n",
    "print(d)"
   ]
  },
  {
   "cell_type": "code",
   "execution_count": null,
   "metadata": {
    "colab": {
     "base_uri": "https://localhost:8080/"
    },
    "id": "8oBisfz9aHeP",
    "outputId": "afe3f94b-bf81-4139-d486-b63caa4b4036"
   },
   "outputs": [
    {
     "name": "stdout",
     "output_type": "stream",
     "text": [
      "{'python': 3, 'html': 2, 'css': 2, 'java': 3, 'jsQuery': 2, 'pandas': 2, 'numpy': 2}\n"
     ]
    }
   ],
   "source": [
    "l=['python','html','css','java','java','jsQuery','pandas','numpy','python','html','css','java','python','jsQuery','pandas','numpy']\n",
    "d={}\n",
    "for i in l:\n",
    "  if i in d:\n",
    "    d[i]=d[i]+1\n",
    "  else:\n",
    "    d[i]=1\n",
    "print(d)"
   ]
  },
  {
   "cell_type": "code",
   "execution_count": null,
   "metadata": {
    "colab": {
     "base_uri": "https://localhost:8080/"
    },
    "id": "-detMeGybT1s",
    "outputId": "973ac37b-7384-4993-dd7c-037a0a183e84"
   },
   "outputs": [
    {
     "name": "stdout",
     "output_type": "stream",
     "text": [
      "1 - 1\n",
      "2 - 4\n",
      "3 - 9\n",
      "4 - 16\n",
      "5 - 25\n",
      "6 - 36\n",
      "7 - 49\n",
      "8 - 64\n",
      "9 - 81\n",
      "10 - 100\n",
      "32 34 36 38 40 42 44 46 48 50 52 54 56 \n",
      " Sum of odd numbers between 1 to 20 is:  100\n"
     ]
    }
   ],
   "source": [
    "for i in range(1,11):\n",
    "  print(i,'-',i**2)\n",
    "\n",
    "for j in range(32,58):\n",
    "  if j%2==0:\n",
    "    print(j,end=' ')\n",
    "\n",
    "sum=0\n",
    "for k in range(1,20):\n",
    "  if k%2!=0:\n",
    "    sum=sum+k\n",
    "print('\\n',\"Sum of odd numbers between 1 to 20 is: \",sum)"
   ]
  },
  {
   "cell_type": "code",
   "execution_count": null,
   "metadata": {
    "colab": {
     "base_uri": "https://localhost:8080/"
    },
    "id": "74macgTEdVHy",
    "outputId": "3161da33-7edf-4bc4-99f9-11c08de1e873"
   },
   "outputs": [
    {
     "name": "stdout",
     "output_type": "stream",
     "text": [
      "Enter a number: 4\n",
      "4*1 = 4\n",
      "4*2 = 8\n",
      "4*3 = 12\n",
      "4*4 = 16\n",
      "4*5 = 20\n",
      "4*6 = 24\n",
      "4*7 = 28\n",
      "4*8 = 32\n",
      "4*9 = 36\n",
      "4*10 = 40\n"
     ]
    }
   ],
   "source": [
    "n=int(input(\"Enter a number: \"))\n",
    "for i in range(1,11):\n",
    "  print(f'{n}*{i} = {n*i}')"
   ]
  },
  {
   "cell_type": "code",
   "execution_count": null,
   "metadata": {
    "colab": {
     "base_uri": "https://localhost:8080/"
    },
    "id": "93csn8nIf-Zu",
    "outputId": "9fb187a7-56be-4440-bc6b-2b36c01a0eac"
   },
   "outputs": [
    {
     "name": "stdout",
     "output_type": "stream",
     "text": [
      "Enter a number: 10\n",
      "Factorial for given number 10 is 3628800\n"
     ]
    }
   ],
   "source": [
    "n=int(input(\"Enter a number: \"))\n",
    "f=1\n",
    "for i in range(1,n+1):\n",
    "  f=f*i\n",
    "print(f'Factorial for given number {n} is {f}')"
   ]
  },
  {
   "cell_type": "code",
   "execution_count": null,
   "metadata": {
    "colab": {
     "base_uri": "https://localhost:8080/"
    },
    "id": "2a5QgBabj9HT",
    "outputId": "c98f7c71-47eb-45e7-d85b-289d2a2b4a99"
   },
   "outputs": [
    {
     "name": "stdout",
     "output_type": "stream",
     "text": [
      "Enter a number to check if it's prime or not: 17\n",
      "17 is a prime number\n"
     ]
    }
   ],
   "source": [
    "n=int(input(\"Enter a number to check if it's prime or not: \"))\n",
    "f=True\n",
    "for i in range(2,n//2+1):\n",
    "  if n%i==0:\n",
    "    f=False\n",
    "    break\n",
    "if f:\n",
    "  print(f'{n} is a prime number')\n",
    "else:\n",
    "  print(f'{n} is not a prime number')"
   ]
  },
  {
   "cell_type": "code",
   "execution_count": null,
   "metadata": {
    "colab": {
     "base_uri": "https://localhost:8080/"
    },
    "id": "LhnVQ5SygCw2",
    "outputId": "dc87e54b-ee0e-4d71-857a-1b26f1a24d6b"
   },
   "outputs": [
    {
     "name": "stdout",
     "output_type": "stream",
     "text": [
      "Enter a number: 10\n",
      "0\n",
      "1\n",
      "1\n",
      "2\n",
      "3\n",
      "5\n",
      "8\n",
      "13\n",
      "21\n",
      "34\n"
     ]
    }
   ],
   "source": [
    "n=int(input(\"Enter a number: \"))\n",
    "f,l=0,1\n",
    "print(f)\n",
    "print(l)\n",
    "for i in range(2,n):\n",
    "  next=f+l\n",
    "  print(next)\n",
    "  f=l\n",
    "  l=next"
   ]
  },
  {
   "cell_type": "code",
   "execution_count": null,
   "metadata": {
    "colab": {
     "base_uri": "https://localhost:8080/"
    },
    "id": "ZHmkZ2vyo4NB",
    "outputId": "64bd4fa0-c3f6-4ddb-ffc3-7b0f1c06d7b7"
   },
   "outputs": [
    {
     "name": "stdout",
     "output_type": "stream",
     "text": [
      "Enter a number: 5\n",
      "*\n",
      "**\n",
      "***\n",
      "****\n",
      "*****\n"
     ]
    }
   ],
   "source": [
    "n=int(input(\"Enter a number: \"))\n",
    "for i in range(1,n+1):\n",
    "    print('*'*i)"
   ]
  },
  {
   "cell_type": "code",
   "execution_count": null,
   "metadata": {
    "colab": {
     "base_uri": "https://localhost:8080/"
    },
    "id": "WrQSpLtQqxVX",
    "outputId": "47c9ed94-123f-4df1-a865-05b02c7b5a32"
   },
   "outputs": [
    {
     "name": "stdout",
     "output_type": "stream",
     "text": [
      "Enter a number: 5\n",
      "*****\n",
      "****\n",
      "***\n",
      "**\n",
      "*\n"
     ]
    }
   ],
   "source": [
    "n=int(input(\"Enter a number: \"))\n",
    "for i in range(n,0,-1):\n",
    "  print('*'*i)"
   ]
  },
  {
   "cell_type": "code",
   "execution_count": null,
   "metadata": {
    "colab": {
     "base_uri": "https://localhost:8080/"
    },
    "id": "ajdXTRIhrZDt",
    "outputId": "338e52c8-b945-4923-c62f-094394df4e22"
   },
   "outputs": [
    {
     "name": "stdout",
     "output_type": "stream",
     "text": [
      " I\n",
      " In\n",
      " Ind\n",
      " Indi\n",
      " India\n"
     ]
    }
   ],
   "source": [
    "s=' '\n",
    "for i in 'India':\n",
    "  s=s+i\n",
    "  print(s)"
   ]
  },
  {
   "cell_type": "code",
   "execution_count": null,
   "metadata": {
    "colab": {
     "base_uri": "https://localhost:8080/"
    },
    "id": "sX2LepdWsp98",
    "outputId": "2c4d91cc-4d67-46a9-e7fb-384da278f69d"
   },
   "outputs": [
    {
     "name": "stdout",
     "output_type": "stream",
     "text": [
      "1 \n",
      "1 2 \n",
      "1 2 3 \n",
      "1 2 3 4 \n",
      "1 2 3 4 5 \n",
      "1 2 3 4 5 6 \n",
      "1 2 3 4 5 6 7 \n",
      "1 2 3 4 5 6 7 8 \n",
      "1 2 3 4 5 6 7 8 9 \n",
      "1 2 3 4 5 6 7 8 9 10 \n"
     ]
    }
   ],
   "source": [
    "for i in range(1,11):\n",
    "  for j in range(1,i+1):\n",
    "    print(j,end=' ')\n",
    "  print()"
   ]
  },
  {
   "cell_type": "code",
   "execution_count": null,
   "metadata": {
    "colab": {
     "base_uri": "https://localhost:8080/"
    },
    "id": "_S2NZixetTIs",
    "outputId": "d9584c45-01e7-4c9e-8d82-050d4f204ee9"
   },
   "outputs": [
    {
     "name": "stdout",
     "output_type": "stream",
     "text": [
      "1 \n",
      "2 2 \n",
      "3 3 3 \n",
      "4 4 4 4 \n",
      "5 5 5 5 5 \n",
      "6 6 6 6 6 6 \n",
      "7 7 7 7 7 7 7 \n",
      "8 8 8 8 8 8 8 8 \n",
      "9 9 9 9 9 9 9 9 9 \n"
     ]
    }
   ],
   "source": [
    "for i in range(1,10):\n",
    "  for j in range(1,i+1):\n",
    "    print(i,end=' ')\n",
    "  print()"
   ]
  },
  {
   "cell_type": "code",
   "execution_count": null,
   "metadata": {
    "colab": {
     "base_uri": "https://localhost:8080/"
    },
    "id": "tdeFxCEIttEu",
    "outputId": "31a9a6cf-69d3-433c-94a4-b3e62da1548d"
   },
   "outputs": [
    {
     "name": "stdout",
     "output_type": "stream",
     "text": [
      "[4, 9, 25, 49, 64, 100, 81]\n"
     ]
    }
   ],
   "source": [
    "def square(n):\n",
    "  return n**2\n",
    "l=[2,3,5,7,8,10,9]\n",
    "print(list(map(square,l)))"
   ]
  },
  {
   "cell_type": "code",
   "execution_count": null,
   "metadata": {
    "colab": {
     "base_uri": "https://localhost:8080/"
    },
    "id": "rytlBptDumM2",
    "outputId": "b4184e77-fae6-46bb-b209-1156d4fab4ed"
   },
   "outputs": [
    {
     "name": "stdout",
     "output_type": "stream",
     "text": [
      "['latipsoh', 'sisirc', '91divoc', 'emoh', 'apap']\n"
     ]
    }
   ],
   "source": [
    "def rev(s):\n",
    "  return s[::-1]\n",
    "l=['hospital','crisis','covid19','home','papa']\n",
    "print(list(map(rev,l)))"
   ]
  },
  {
   "cell_type": "code",
   "execution_count": null,
   "metadata": {
    "colab": {
     "base_uri": "https://localhost:8080/"
    },
    "id": "Ey6MSisMvsF0",
    "outputId": "16d14dc2-8c4e-404a-b6f6-7f11176ea89d"
   },
   "outputs": [
    {
     "name": "stdout",
     "output_type": "stream",
     "text": [
      "[255.0, 680.0, 850.0, 1360.0, 1700.0]\n"
     ]
    }
   ],
   "source": [
    "def simp_int(p,r,t):\n",
    "  return p*r*t/100\n",
    "P=[1000,2000,5000,8000,20000]\n",
    "R=[8.5]*5\n",
    "T=[3,4,2,2,1]\n",
    "print(list(map(simp_int,P,R,T)))"
   ]
  },
  {
   "cell_type": "code",
   "execution_count": null,
   "metadata": {
    "colab": {
     "base_uri": "https://localhost:8080/"
    },
    "id": "WL3hT_aZyylr",
    "outputId": "a3542f03-1766-41da-e298-5356bccc899d"
   },
   "outputs": [
    {
     "name": "stdout",
     "output_type": "stream",
     "text": [
      "['mahendra singh', 'virat kohli', 'rohit sharma', 'hardik pandya', 'harry potter', 'ron weasley']\n"
     ]
    }
   ],
   "source": [
    "def concatenate(x,y):\n",
    "  return x+' '+y\n",
    "fn=['mahendra','virat','rohit','hardik','harry','ron']\n",
    "ln=['singh','kohli','sharma','pandya','potter','weasley']\n",
    "print(list(map(concatenate,fn,ln)))"
   ]
  },
  {
   "cell_type": "code",
   "execution_count": null,
   "metadata": {
    "colab": {
     "base_uri": "https://localhost:8080/"
    },
    "id": "wSvFjocWYF-7",
    "outputId": "473565c3-6eb7-4f73-9d39-319220cc312d"
   },
   "outputs": [
    {
     "name": "stdout",
     "output_type": "stream",
     "text": [
      "[2, 4, 6, 8, 10, 12, 14, 16, 18, 20, 22, 24, 26, 28, 30]\n"
     ]
    }
   ],
   "source": [
    "l=range(1,31)\n",
    "def even(n):\n",
    "  if n%2==0:\n",
    "    return n\n",
    "print(list(filter(even,l)))"
   ]
  },
  {
   "cell_type": "code",
   "execution_count": null,
   "metadata": {
    "colab": {
     "base_uri": "https://localhost:8080/"
    },
    "id": "K-NqqJy5Zdxb",
    "outputId": "80e01482-c044-4e13-b3eb-f4521001540d"
   },
   "outputs": [
    {
     "name": "stdout",
     "output_type": "stream",
     "text": [
      "[1, 153, 370, 371, 407]\n"
     ]
    }
   ],
   "source": [
    "l=range(1,501)\n",
    "def armstrong(n):  #Armstrong no.: 153 (1^3+5^3+3^3=153)\n",
    "  sum=0\n",
    "  for i in str(n):\n",
    "    sum=sum+int(i)**3\n",
    "  if sum==n:\n",
    "    return n\n",
    "print(list(filter(armstrong,l)))"
   ]
  },
  {
   "cell_type": "code",
   "execution_count": null,
   "metadata": {
    "colab": {
     "base_uri": "https://localhost:8080/"
    },
    "id": "5il7-f1ya7Qp",
    "outputId": "eb531bfb-8ae4-42b0-d3ff-66b8634ddd06"
   },
   "outputs": [
    {
     "name": "stdout",
     "output_type": "stream",
     "text": [
      "['mom', 'dad', 'naman']\n"
     ]
    }
   ],
   "source": [
    "l=['mom','cook','dad','naman','ram']\n",
    "def palin(s):\n",
    "  if s==s[::-1]:\n",
    "    return s\n",
    "print(list(filter(palin,l)))"
   ]
  },
  {
   "cell_type": "code",
   "execution_count": null,
   "metadata": {
    "colab": {
     "base_uri": "https://localhost:8080/"
    },
    "id": "SDnfyTW4bc6i",
    "outputId": "1de2b953-d310-44c1-f7e1-e94fb7bf4362"
   },
   "outputs": [
    {
     "name": "stdout",
     "output_type": "stream",
     "text": [
      "['mom', 'dad', 'naman', 'liril']\n"
     ]
    }
   ],
   "source": [
    "l=['mom','cook','dad','naman','ram','mummy','avni','liril','pear']\n",
    "def end(s):\n",
    "  if s[0]==s[-1]:\n",
    "    return s\n",
    "print(list(filter(end,l)))"
   ]
  },
  {
   "cell_type": "markdown",
   "metadata": {
    "id": "SjPeVAudqoGk"
   },
   "source": [
    "Geeks for Geeks practice"
   ]
  },
  {
   "cell_type": "code",
   "execution_count": null,
   "metadata": {
    "colab": {
     "base_uri": "https://localhost:8080/"
    },
    "id": "Ex5bdH0Eqrvp",
    "outputId": "d0f650b1-7bae-49fa-f86d-81c3991df1bb"
   },
   "outputs": [
    {
     "name": "stdout",
     "output_type": "stream",
     "text": [
      "The result is:  600\n",
      "The result is:  70\n"
     ]
    }
   ],
   "source": [
    "def mul_sum(n1,n2):\n",
    "  prod=n1*n2\n",
    "  if prod<=1000:\n",
    "    return prod\n",
    "  else:\n",
    "    return n1+n2\n",
    "result=mul_sum(20,30)\n",
    "print(\"The result is: \", result)\n",
    "result=mul_sum(30,40)\n",
    "print(\"The result is: \", result)"
   ]
  },
  {
   "cell_type": "code",
   "execution_count": null,
   "metadata": {
    "colab": {
     "base_uri": "https://localhost:8080/"
    },
    "id": "zBcRM67Kmamv",
    "outputId": "4e0359be-679c-42a3-d55c-04d995a2c450"
   },
   "outputs": [
    {
     "name": "stdout",
     "output_type": "stream",
     "text": [
      "Printing current and previous number and their sum in a range(10)\n",
      "Current no.  1 previous no.  0 & Sum is:  1\n",
      "Current no.  2 previous no.  1 & Sum is:  3\n",
      "Current no.  3 previous no.  2 & Sum is:  5\n",
      "Current no.  4 previous no.  3 & Sum is:  7\n",
      "Current no.  5 previous no.  4 & Sum is:  9\n",
      "Current no.  6 previous no.  5 & Sum is:  11\n",
      "Current no.  7 previous no.  6 & Sum is:  13\n",
      "Current no.  8 previous no.  7 & Sum is:  15\n",
      "Current no.  9 previous no.  8 & Sum is:  17\n",
      "Current no.  10 previous no.  9 & Sum is:  19\n"
     ]
    }
   ],
   "source": [
    "print(\"Printing current and previous number and their sum in a range(10)\")\n",
    "n=0\n",
    "for i in range(1,11):\n",
    "  s=n+i\n",
    "  print(\"Current no. \",i,\"previous no. \",n,\"& Sum is: \",s)\n",
    "  n=i"
   ]
  },
  {
   "cell_type": "code",
   "execution_count": null,
   "metadata": {
    "colab": {
     "base_uri": "https://localhost:8080/"
    },
    "id": "LFTG3D1Spna_",
    "outputId": "6ce8da25-f0af-4a36-8ae3-c70299e5e628"
   },
   "outputs": [
    {
     "name": "stdout",
     "output_type": "stream",
     "text": [
      "Enter a String: pytnativr\n",
      "0 p\n",
      "2 t\n",
      "4 a\n",
      "6 i\n"
     ]
    }
   ],
   "source": [
    "s=input(\"Enter a String: \")\n",
    "size=len(s)\n",
    "for i in range(0,size-1,2):\n",
    "  print(i,s[i])"
   ]
  },
  {
   "cell_type": "code",
   "execution_count": null,
   "metadata": {
    "colab": {
     "base_uri": "https://localhost:8080/"
    },
    "id": "XElSJD3erRVK",
    "outputId": "8bbb45b6-b438-4551-f747-b8491286616c"
   },
   "outputs": [
    {
     "name": "stdout",
     "output_type": "stream",
     "text": [
      "Enter a string: Pratibha\n",
      "P\n",
      "a\n",
      "i\n",
      "h\n"
     ]
    }
   ],
   "source": [
    "s=input(\"Enter a string: \")\n",
    "x=list(s)\n",
    "for i in x[0::2]:\n",
    "  print(i)"
   ]
  },
  {
   "cell_type": "code",
   "execution_count": null,
   "metadata": {
    "colab": {
     "base_uri": "https://localhost:8080/"
    },
    "id": "Hm8gBl3HIC8y",
    "outputId": "ef42d476-4ca1-4a67-f2c8-563550d792e8"
   },
   "outputs": [
    {
     "name": "stdout",
     "output_type": "stream",
     "text": [
      "10\n",
      "11\n",
      "12\n",
      "13\n"
     ]
    }
   ],
   "source": [
    "for num in range(10, 14):\n",
    "   for i in range(2, num):\n",
    "       if num%i == 1:\n",
    "          print(num)\n",
    "          break"
   ]
  },
  {
   "cell_type": "code",
   "execution_count": null,
   "metadata": {
    "colab": {
     "base_uri": "https://localhost:8080/"
    },
    "id": "ZUTuUYoAA-Fn",
    "outputId": "3100de3e-96d2-47d3-d41a-889acf33ca10"
   },
   "outputs": [
    {
     "name": "stdout",
     "output_type": "stream",
     "text": [
      "1 2 3 4 5 \n",
      "2 4 6 8 10 \n",
      "3 6 9 12 15 \n",
      "4 8 12 16 20 \n",
      "5 10 15 20 25 \n"
     ]
    }
   ],
   "source": [
    "for i in range(1,6):\n",
    "  for j in range(1,6):\n",
    "    print(i*j,end=' ')\n",
    "  print()"
   ]
  },
  {
   "cell_type": "code",
   "execution_count": null,
   "metadata": {
    "colab": {
     "base_uri": "https://localhost:8080/"
    },
    "id": "gzhDG8_ns8ib",
    "outputId": "ee125425-e983-4569-9513-55a935cc4c10"
   },
   "outputs": [
    {
     "name": "stdout",
     "output_type": "stream",
     "text": [
      "Enter the code of the product: 2578\n",
      "Price of the product is:  560\n"
     ]
    }
   ],
   "source": [
    "n=int(input(\"Enter the code of the product: \"))\n",
    "mul=1\n",
    "while n>0:\n",
    "  rem=n%10\n",
    "  mul=mul*rem\n",
    "  n=n//10\n",
    "print(\"Price of the product is: \", mul)"
   ]
  },
  {
   "cell_type": "code",
   "execution_count": null,
   "metadata": {
    "colab": {
     "base_uri": "https://localhost:8080/"
    },
    "id": "riCjQJBvjsgi",
    "outputId": "9679deab-7e7e-48ee-f886-e44452eddbe6"
   },
   "outputs": [
    {
     "name": "stdout",
     "output_type": "stream",
     "text": [
      "Enter a number: 5\n",
      "7\n",
      "8\n",
      "0\n",
      "1\n",
      "2\n",
      "78120"
     ]
    }
   ],
   "source": [
    "n=int(input(\"Enter a number: \"))\n",
    "j=0\n",
    "L=[0 for i in range(n)]\n",
    "for i in range(n):\n",
    "  a=int(input())\n",
    "  if a!=0:\n",
    "    L[j]=a\n",
    "    j+=1\n",
    "\n",
    "for i in L:\n",
    "  print(i,end=\"\")"
   ]
  },
  {
   "cell_type": "code",
   "execution_count": null,
   "metadata": {
    "colab": {
     "base_uri": "https://localhost:8080/"
    },
    "id": "kV_lueIHmN_X",
    "outputId": "3e7b91cd-8386-4798-a318-b749aff9edfe"
   },
   "outputs": [
    {
     "name": "stdout",
     "output_type": "stream",
     "text": [
      "1010\n",
      "13\n"
     ]
    }
   ],
   "source": [
    "import math\n",
    "n=int(input())\n",
    "k=(1<<int(math.log2(n))+1)-1\n",
    "print(n^k)"
   ]
  },
  {
   "cell_type": "code",
   "execution_count": null,
   "metadata": {
    "colab": {
     "base_uri": "https://localhost:8080/"
    },
    "id": "FaH6pqnnnrlQ",
    "outputId": "45a01bc3-0d46-48a1-96db-fd92a650c36b"
   },
   "outputs": [
    {
     "name": "stdout",
     "output_type": "stream",
     "text": [
      "Enter number of items: 6\n"
     ]
    }
   ],
   "source": [
    "items=int(input(\"Enter number of items: \"))"
   ]
  },
  {
   "cell_type": "code",
   "execution_count": null,
   "metadata": {
    "colab": {
     "base_uri": "https://localhost:8080/"
    },
    "id": "qWtXml6vn1Kr",
    "outputId": "a7ae3d07-afca-4f24-b128-abfeb56009ec"
   },
   "outputs": [
    {
     "name": "stdout",
     "output_type": "stream",
     "text": [
      "87\n",
      "3\n",
      "7\n"
     ]
    }
   ],
   "source": [
    "price_lst=list(map(int, input().strip().split()))\n",
    "dist_lst=list(map(int, input().strip().split()))\n",
    "sku_lst=list(map(int, input().strip().split()))\n",
    "result=[]"
   ]
  },
  {
   "cell_type": "code",
   "execution_count": null,
   "metadata": {
    "colab": {
     "base_uri": "https://localhost:8080/"
    },
    "id": "T3aA4h5GopLu",
    "outputId": "fe6a30aa-eaa8-4eba-c32c-78d91e21c915"
   },
   "outputs": [
    {
     "name": "stdout",
     "output_type": "stream",
     "text": [
      "261\n"
     ]
    }
   ],
   "source": [
    "for i in range(0, len(sku_lst)):\n",
    "  if sku_lst[i]>0:\n",
    "    result.append(price_lst[i]*dist_lst[i])\n",
    "\n",
    "print(\" \".join(str(items) for items in result))"
   ]
  }
 ],
 "metadata": {
  "colab": {
   "provenance": []
  },
  "kernelspec": {
   "display_name": "Python 3 (ipykernel)",
   "language": "python",
   "name": "python3"
  },
  "language_info": {
   "codemirror_mode": {
    "name": "ipython",
    "version": 3
   },
   "file_extension": ".py",
   "mimetype": "text/x-python",
   "name": "python",
   "nbconvert_exporter": "python",
   "pygments_lexer": "ipython3",
   "version": "3.8.8"
  }
 },
 "nbformat": 4,
 "nbformat_minor": 1
}
