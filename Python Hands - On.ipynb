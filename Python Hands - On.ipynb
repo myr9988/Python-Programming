{
 "cells": [
  {
   "cell_type": "markdown",
   "id": "959e7094",
   "metadata": {},
   "source": [
    "#### In this quiz you're going to do some calculations for your bills. Your net expenditure for the past 5 months has been 1200, 2000, 800, 1500 and 1700. What is your average monthly expenditure."
   ]
  },
  {
   "cell_type": "code",
   "execution_count": 1,
   "id": "809ace14",
   "metadata": {},
   "outputs": [
    {
     "data": {
      "text/plain": [
       "1440.0"
      ]
     },
     "execution_count": 1,
     "metadata": {},
     "output_type": "execute_result"
    }
   ],
   "source": [
    "(1200+2000+800+1500+1700)/5"
   ]
  },
  {
   "cell_type": "markdown",
   "id": "7ea1f2ed",
   "metadata": {},
   "source": [
    "#### In this quiz you're going to do some calculations for a mason. Two rooms in a house needs to be filled. One room is 4 ft wide by 11 ft long, the other is 5 ft wide by 9 ft long.each tile is 1ftx1ft in size\n",
    "\n",
    "#### 1) How many tiles are needed?\n",
    "#### 2) You buy 17 packages each containing 6 tiles each. How many tiles will be left over?"
   ]
  },
  {
   "cell_type": "code",
   "execution_count": 2,
   "id": "be752465",
   "metadata": {},
   "outputs": [
    {
     "name": "stdout",
     "output_type": "stream",
     "text": [
      "89\n",
      "13\n"
     ]
    }
   ],
   "source": [
    "# write the code that calculates how many tiles are needed down below\n",
    "print((4 *11) + (5*9))\n",
    "# write the code that calculates how many tiles will be left over.\n",
    "print((17*6)-((4 *11) + (5*9)))"
   ]
  },
  {
   "cell_type": "markdown",
   "id": "01e93e07",
   "metadata": {},
   "source": [
    "#### Find the length of the vector with its start coordinates as the origin and the end coordinates as (4,5,6)."
   ]
  },
  {
   "cell_type": "markdown",
   "id": "ac401fd8",
   "metadata": {},
   "source": [
    "> *length = squareroot(x^2 + y^2 + z^2)*"
   ]
  },
  {
   "cell_type": "code",
   "execution_count": 3,
   "id": "ee85d490",
   "metadata": {},
   "outputs": [
    {
     "data": {
      "text/plain": [
       "8.774964387392123"
      ]
     },
     "execution_count": 3,
     "metadata": {},
     "output_type": "execute_result"
    }
   ],
   "source": [
    "# write your code \n",
    "import math\n",
    "math.sqrt((4**2)+(5**2)+(6**2))\n"
   ]
  },
  {
   "cell_type": "markdown",
   "id": "e3652a6c",
   "metadata": {},
   "source": [
    "#### You are managing your finances using python: \n",
    "\n",
    "* complete the tasks mentioned in the comments. and then print the amount left in your bank.\n",
    "\n",
    "> *Note that this code uses scientific notation to define large numbers. 1.2e6 is equal to        1.2 * 10 ** 6 which is equal to 1200000.*"
   ]
  },
  {
   "cell_type": "code",
   "execution_count": 4,
   "id": "7f6fa5a2",
   "metadata": {},
   "outputs": [
    {
     "data": {
      "text/plain": [
       "1805040.0"
      ]
     },
     "execution_count": 4,
     "metadata": {},
     "output_type": "execute_result"
    }
   ],
   "source": [
    "# the amount of money in your bank account is 1.2e6\n",
    "amt = 1200000\n",
    "\n",
    "# money recieved every year in form of salary\n",
    "\n",
    "salary = 9.3e5\n",
    "\n",
    "# decrease the salary by 30% as tax paid to the government.\n",
    "salary -= 0.3*salary\n",
    "\n",
    "\n",
    "# Add the salary to the bank account amt variable\n",
    "amt += salary\n",
    "# increase the amt by 4% that you recieved from the bank as intrest\n",
    "\n",
    "amt += 0.04*amt\n",
    "# substract 1.2e5 from amt as the rent paied\n",
    "amt -= 1.2e5\n",
    "# print the new value of the amt variable\n",
    "amt"
   ]
  },
  {
   "cell_type": "markdown",
   "id": "c2d03c2c",
   "metadata": {},
   "source": [
    "#### Is **Mumbai** more **dense** than Delhi?\n",
    "> *Print ***True*** if it is and ***False*** if it is not.*"
   ]
  },
  {
   "cell_type": "code",
   "execution_count": 5,
   "id": "09ce7835",
   "metadata": {},
   "outputs": [
    {
     "data": {
      "text/plain": [
       "False"
      ]
     },
     "execution_count": 5,
     "metadata": {},
     "output_type": "execute_result"
    }
   ],
   "source": [
    "mum_population, mum_area = 20411000, 4355\n",
    "del_population, del_area = 30291000, 1484\n",
    "\n",
    "mum = mum_population/mum_area\n",
    "delhi = del_population/del_area\n",
    "\n",
    "# Print True if Mumbai is denser than Delhi, and False otherwise\n",
    "mum>delhi"
   ]
  },
  {
   "cell_type": "markdown",
   "id": "0463af49",
   "metadata": {},
   "source": [
    "#### In this question you have to print the accuracy logs of a model in training."
   ]
  },
  {
   "cell_type": "code",
   "execution_count": 6,
   "id": "dccb987a",
   "metadata": {},
   "outputs": [
    {
     "name": "stdout",
     "output_type": "stream",
     "text": [
      "the accuracy of VGG16 model in 150th iteration is :67.98\n"
     ]
    }
   ],
   "source": [
    "model = \"VGG16\"\n",
    "iteration = \"150\"\n",
    "accuracy = \"67.98\"\n",
    "\n",
    "\n",
    "print(\"the accuracy of {x} model in {y}th iteration is :{z}\".format(y=iteration,z= accuracy,x = model))\n",
    "# TODO: print a log message using the variables above\n",
    "# This message should have the same format as this one:\n",
    "# \"the accuracy of ResNET50 model in 100th iteration is: 42.16%\""
   ]
  },
  {
   "cell_type": "code",
   "execution_count": 7,
   "id": "a5248727",
   "metadata": {},
   "outputs": [
    {
     "name": "stdout",
     "output_type": "stream",
     "text": [
      "Enter your name :5\n",
      "Team name:5\n",
      "Welcome 5, to the 5 team\n"
     ]
    }
   ],
   "source": [
    "name = input('Enter your name :')\n",
    "team = input('Team name:')\n",
    "print(\"Welcome {x}, to the {y} team\".format(y = team,x = name))"
   ]
  },
  {
   "cell_type": "markdown",
   "id": "5a83dad6",
   "metadata": {},
   "source": [
    "#### Use string concatination and len() function to fing the length of a persons complete name and store it in the variable name_length.\n",
    "\n",
    "#### As a business card designer find if the name can fit into a business card."
   ]
  },
  {
   "cell_type": "code",
   "execution_count": 8,
   "id": "d3237acf",
   "metadata": {},
   "outputs": [
    {
     "name": "stdout",
     "output_type": "stream",
     "text": [
      "20\n"
     ]
    },
    {
     "data": {
      "text/plain": [
       "True"
      ]
     },
     "execution_count": 8,
     "metadata": {},
     "output_type": "execute_result"
    }
   ],
   "source": [
    "given_name = \"Rahul\"\n",
    "middle_name = \"Shastri\"\n",
    "family_name = \"Mishra\"\n",
    "\n",
    "name_length = len(given_name + ' ' +middle_name + ' ' + family_name)\n",
    "\n",
    "# Now we check to make sure that the name fits within the driving license character limit 20\n",
    "# Nothing you need to do here\n",
    "print(name_length)\n",
    "name_length <= 20"
   ]
  },
  {
   "cell_type": "markdown",
   "id": "d5670974",
   "metadata": {},
   "source": [
    "#### In this quiz, you’ll need to change the types of the input and output data in order to get the result you want.\n",
    "\n",
    "Calculate and print the total sales for the week from the data provided. Print out a string of the form \"This week's total sales: xxx\", where xxx will be the actual total of all the numbers. You’ll need to change the type of the input data in order to calculate that total."
   ]
  },
  {
   "cell_type": "code",
   "execution_count": 9,
   "id": "16387f4c",
   "metadata": {},
   "outputs": [
    {
     "name": "stdout",
     "output_type": "stream",
     "text": [
      "This week's total sales 529\n"
     ]
    }
   ],
   "source": [
    "mon_sales = \"121\"\n",
    "tues_sales = \"105\"\n",
    "wed_sales = \"110\"\n",
    "thurs_sales = \"98\"\n",
    "fri_sales = \"95\"\n",
    "\n",
    "#TODO: Print a string with this format: This week's total sales: xxx\n",
    "# You will probably need to write some lines of code before the print statement.\n",
    "total_sales = int(mon_sales) + int(tues_sales) + int(wed_sales) + int(thurs_sales) + int(fri_sales)\n",
    "total_sales = str(total_sales)  #convert the type back!!\n",
    "\n",
    "print(\"This week\\'s total sales {}\".format(total_sales))"
   ]
  },
  {
   "cell_type": "markdown",
   "id": "cc2b4c39",
   "metadata": {},
   "source": [
    "#### using indexing you have to print this list like [1,2,3,4,5,6,7,8,9]\n",
    "lst = [9,8,7,6,5,4,3,2,1]"
   ]
  },
  {
   "cell_type": "code",
   "execution_count": null,
   "id": "7e335978",
   "metadata": {},
   "outputs": [],
   "source": []
  },
  {
   "cell_type": "markdown",
   "id": "ba596ce3",
   "metadata": {},
   "source": [
    "#### Define a dictionary named population that contains this data:\n",
    "\n",
    "Keys -> Values\n",
    "\n",
    "New York -> 17.8\n",
    "\n",
    "Spain -> 13.3\n",
    "\n",
    "Dhaka -> 13.0\n",
    "\n",
    "Mumbai -> 12.5"
   ]
  },
  {
   "cell_type": "code",
   "execution_count": 10,
   "id": "68b8518c",
   "metadata": {},
   "outputs": [],
   "source": [
    "population = {'Shanghai':17.8,'Istanbul':13.3,'Karachi':13.0,'Mumbai':12.5}"
   ]
  },
  {
   "cell_type": "code",
   "execution_count": 11,
   "id": "5bebaec7",
   "metadata": {},
   "outputs": [
    {
     "data": {
      "text/plain": [
       "{'Shanghai': 17.8, 'Istanbul': 13.3, 'Karachi': 13.0, 'Mumbai': 12.5}"
      ]
     },
     "execution_count": 11,
     "metadata": {},
     "output_type": "execute_result"
    }
   ],
   "source": [
    "population"
   ]
  },
  {
   "cell_type": "markdown",
   "id": "537e5fe5",
   "metadata": {},
   "source": [
    "#### Try your hand at working with nested dictionaries. Add another entry, *'is_noble_gas,'* to each dictionary in the *elements* dictionary. After inserting the new entries you should be able to perform these lookups:\n",
    "\n",
    "\n",
    "\n",
    "---\n",
    "\n",
    "> print(elements['hydrogen']['is_noble_gas'])<br>\n",
    "False\n",
    "\n",
    "> print(elements['helium']['is_noble_gas'])<br>\n",
    "True"
   ]
  },
  {
   "cell_type": "code",
   "execution_count": 12,
   "id": "31574d7d",
   "metadata": {},
   "outputs": [
    {
     "name": "stdout",
     "output_type": "stream",
     "text": [
      "False\n",
      "True\n"
     ]
    }
   ],
   "source": [
    "## Compound Data Structures\n",
    "\n",
    "elements = {'hydrogen': {'number': 1, 'weight': 1.00794, 'symbol': 'H'},\n",
    "            'helium': {'number': 2, 'weight': 4.002602, 'symbol': 'He'}}\n",
    "\n",
    "# todo: Add an 'is_noble_gas' entry to the hydrogen and helium dictionaries\n",
    "# hint: helium is a noble gas, hydrogen isn't\n",
    "\n",
    "elements['hydrogen']['is_noble_gas'] = False\n",
    "elements['helium']['is_noble_gas'] = True\n",
    "\n",
    "print(elements['hydrogen']['is_noble_gas'])\n",
    "print(elements['helium']['is_noble_gas'])"
   ]
  },
  {
   "cell_type": "markdown",
   "id": "345179dd",
   "metadata": {},
   "source": [
    "#### Write an if statement that lets a student know which of these grades they got based on the number they got in exams, which is stored in the integer variable *marks*.\n",
    "\n",
    "Marks -> Grade\n",
    "\n",
    "100-90 -> A+\n",
    "\n",
    "90-80 -> A\n",
    "\n",
    "80-70 -> B\n",
    "\n",
    "70-60 -> C\n",
    "\n",
    "60-50 -> D\n",
    "\n",
    "50-40 -> E\n",
    "\n",
    "<40 -> F\n",
    "\n",
    "> All of the lower and upper bounds here are inclusive, and marks can only take on positive integer values up to 100.\n",
    "\n",
    "In your if statement, assign the result variable to a string holding the appropriate message based on the value of marks.\n",
    "\n",
    "\"you have scored *[Grade]* Grade.\""
   ]
  },
  {
   "cell_type": "code",
   "execution_count": 13,
   "id": "f6de7792",
   "metadata": {},
   "outputs": [
    {
     "name": "stdout",
     "output_type": "stream",
     "text": [
      "enter your marks55\n",
      "you score D\n"
     ]
    }
   ],
   "source": [
    "marks=int(input(\"enter your marks\"))\n",
    "if(marks>90):\n",
    "    print(\"you score A+\")\n",
    "elif(marks<=90 and marks>80):\n",
    "    print(\"you score A\")\n",
    "elif(marks<80 and marks>=70):\n",
    "    print(\"you score B\")\n",
    "elif(marks<70 and marks>=60):\n",
    "    print(\"you score C\")\n",
    "elif(marks<60 and marks>=50):\n",
    "    print(\"you score D\")\n",
    "elif(marks<50 and marks>=40):\n",
    "    print(\"you score E\")\n",
    "else:\n",
    "    print(\"you score F\")\n"
   ]
  },
  {
   "cell_type": "code",
   "execution_count": 14,
   "id": "f8d9b9dd",
   "metadata": {},
   "outputs": [
    {
     "name": "stdout",
     "output_type": "stream",
     "text": [
      "74\n",
      "B\n"
     ]
    }
   ],
   "source": [
    "marks = int(input())  # use this input to make your submission\n",
    "\n",
    "# write your if statement here\n",
    "if marks>100:\n",
    "    print('enter a valid input')\n",
    "elif marks>90 and marks <100:\n",
    "    result = 'A+'\n",
    "elif marks>80and marks <90:\n",
    "    result = 'A'\n",
    "elif marks>70 and marks <80:\n",
    "    result = 'B'\n",
    "elif marks>60 and marks <70:\n",
    "    result = 'C'\n",
    "else:\n",
    "    result = 'fail'\n",
    "print(result)"
   ]
  },
  {
   "cell_type": "markdown",
   "id": "9ed400d6",
   "metadata": {},
   "source": [
    "#### Depending on where an individual is from we need to tax them appropriately. The states of CA, MN, and NY have taxes of 7.5%, 9.5%, and 8.9% respectively. Use this information to take the amount of a purchase and the corresponding state to assure that they are taxed by the right amount."
   ]
  },
  {
   "cell_type": "code",
   "execution_count": 15,
   "id": "08b7c0bd",
   "metadata": {},
   "outputs": [
    {
     "name": "stdout",
     "output_type": "stream",
     "text": [
      "4500\n"
     ]
    }
   ],
   "source": [
    "state = input()\n",
    "purchase_amount = 4500\n",
    "state = state.upper()\n",
    "\n",
    "if (state == 'CA'):\n",
    "    tax_amount = .075\n",
    "    total_cost = purchase_amount*(1+tax_amount)\n",
    "    result = \"Since you're from {}, your total cost is {}.\".format(state, total_cost)\n",
    "    print(result)\n",
    "elif (state == 'MN'):\n",
    "    tax_amount = .095\n",
    "    total_cost = purchase_amount*(1+tax_amount)\n",
    "    result = \"Since you're from {}, your total cost is {}.\".format(state, total_cost)\n",
    "    print(result)\n",
    "elif (state == 'NY'):\n",
    "    tax_amount = .089\n",
    "    total_cost = purchase_amount*(1+tax_amount)\n",
    "    result = \"Since you're from {}, your total cost is {}.\".format(state, total_cost)\n",
    "\n",
    "    print(result)\n"
   ]
  },
  {
   "cell_type": "markdown",
   "id": "cb38e6de",
   "metadata": {},
   "source": [
    "#### Imagine an air traffic control program that tracks three variables, *altitude*, *speed*, and *propulsion* which for a particular airplane have the values specified below.\n",
    "```\n",
    "altitude = 10000\n",
    "speed = 250\n",
    "propulsion = \"Propeller\"\n",
    "```\n",
    "For each of the following boolean expressions, work out whether it evaluates to True or False and match the correct value.\n",
    "\n",
    "-  altitude < 1000 and speed > 100\n",
    "- (propulsion == \"Jet\" or propulsion == \"Turboprop\") and speed < 300 and altitude > 20000\n",
    "- not (speed > 400 and propulsion == \"Propeller\")\n",
    "- (altitude > 500 and speed > 100) or not propulsion == \"Propeller\""
   ]
  },
  {
   "cell_type": "code",
   "execution_count": 16,
   "id": "7d695110",
   "metadata": {},
   "outputs": [],
   "source": [
    "altitude = 10000\n",
    "speed = 250\n",
    "propulsion = \"Propeller\""
   ]
  },
  {
   "cell_type": "code",
   "execution_count": 17,
   "id": "360e20d0",
   "metadata": {},
   "outputs": [
    {
     "name": "stdout",
     "output_type": "stream",
     "text": [
      "first is false\n",
      "second is false\n",
      "third is true\n",
      "fourth is true\n"
     ]
    }
   ],
   "source": [
    "if altitude < 1000 and speed > 100:\n",
    "    print('first is true')\n",
    "else:\n",
    "    print('first is false')\n",
    "if (propulsion == \"Jet\" or propulsion == \"Turboprop\") and speed < 300 and altitude > 20000:\n",
    "    print('second is true')\n",
    "else:\n",
    "    print('second is false')\n",
    "if not (speed > 400 and propulsion == \"Propeller\"):\n",
    "    print('third is true')\n",
    "else:\n",
    "    print('third is false')\n",
    "if (altitude > 500 and speed > 100) or not propulsion == \"Propeller\":\n",
    "    print('fourth is true')\n",
    "else:\n",
    "    print('fourth is false')"
   ]
  },
  {
   "cell_type": "markdown",
   "id": "5ad47de1",
   "metadata": {},
   "source": [
    "#### Take a number from the user and check if it is even then multiply it with 7 and the ouput of mutiplication will be devided by 4 and at last save the answer in result variable otherwise print not an even number"
   ]
  },
  {
   "cell_type": "code",
   "execution_count": 18,
   "id": "63a0a06f",
   "metadata": {},
   "outputs": [
    {
     "name": "stdout",
     "output_type": "stream",
     "text": [
      "4\n"
     ]
    }
   ],
   "source": [
    "a = int(input())\n",
    "if a%2==0:\n",
    "    result = (a*7)/4\n",
    "else:\n",
    "    print('not an even number')"
   ]
  },
  {
   "cell_type": "code",
   "execution_count": 19,
   "id": "1838bdbd",
   "metadata": {},
   "outputs": [
    {
     "name": "stdout",
     "output_type": "stream",
     "text": [
      "1\n",
      "2\n",
      "2\n",
      "4\n",
      "3\n",
      "6\n",
      "4\n",
      "8\n",
      "5\n",
      "10\n"
     ]
    }
   ],
   "source": [
    "lst = [1,2,3,4,5]\n",
    "for i in lst:\n",
    "    print(i)\n",
    "    print(i*2)"
   ]
  },
  {
   "cell_type": "code",
   "execution_count": 20,
   "id": "cfe0a79d",
   "metadata": {},
   "outputs": [
    {
     "name": "stdout",
     "output_type": "stream",
     "text": [
      "mountain view\n",
      "Done!\n"
     ]
    }
   ],
   "source": [
    "cities = ['new york city', 'mountain view', 'chicago', 'los angeles']\n",
    "for city in cities[1:2]:\n",
    "    print(city)\n",
    "    print(\"Done!\")"
   ]
  },
  {
   "cell_type": "markdown",
   "id": "637aa680",
   "metadata": {},
   "source": [
    "#### Write a for loop below that will print out every whole number that is a multiple of 5 and less than or equal to 30."
   ]
  },
  {
   "cell_type": "code",
   "execution_count": 21,
   "id": "54a86d43",
   "metadata": {},
   "outputs": [
    {
     "name": "stdout",
     "output_type": "stream",
     "text": [
      "5\n",
      "10\n",
      "15\n",
      "20\n",
      "25\n",
      "30\n"
     ]
    }
   ],
   "source": [
    "# Write a for loop using range() to print out multiples of 5 up to 35  not inclusive\n",
    "for i in range(5,35,5):\n",
    "    print(i)"
   ]
  },
  {
   "cell_type": "markdown",
   "id": "08bd3c8c",
   "metadata": {},
   "source": [
    "#### Write a for loop that iterates over the names list to create a usernames list. To create a username for each name, make everything lowercase and replace spaces with underscores. Running your for loop over the list:\n",
    "```\n",
    "names = [\"Joey Tribbiani\", \"Monica Geller\", \"Chandler Bing\", \"Phoebe Buffay\"]\n",
    "```\n",
    "should create the list:\n",
    "\n",
    "```\n",
    "usernames = [\"joey_tribbiani\", \"monica_geller\", \"chandler_bing\", \"phoebe_buffay\"]\n",
    "```\n",
    "\n",
    "> HINT: Use the *.replace()* method to replace the spaces with underscores"
   ]
  },
  {
   "cell_type": "code",
   "execution_count": 22,
   "id": "6228cbd4",
   "metadata": {},
   "outputs": [
    {
     "data": {
      "text/plain": [
       "['joey_tribbiani', 'monica_geller', 'chandler_bing', 'phoebe_buffay']"
      ]
     },
     "execution_count": 22,
     "metadata": {},
     "output_type": "execute_result"
    }
   ],
   "source": [
    "names = [\"Joey Tribbiani\", \"Monica Geller\", \"Chandler Bing\", \"Phoebe Buffay\"]\n",
    "usernames = []\n",
    "\n",
    "# write your for loop here\n",
    "for i in names:\n",
    "    usernames.append(i.lower().replace(\" \",\"_\"))\n",
    "\n",
    "usernames"
   ]
  },
  {
   "cell_type": "markdown",
   "id": "5a210311",
   "metadata": {},
   "source": [
    "#### Write a for loop that iterates over a list of strings, tokens, and counts how many of them are XML tags. \n",
    "\n",
    "> XML is a data language similar to HTML. You can tell if a string is an XML tag if it begins with a left angle bracket \"<\" and ends with a right angle bracket \">\". \n",
    "\n",
    "Keep track of the number of tags using the variable count.\n",
    "\n",
    "You can assume that the list of strings will not contain empty strings."
   ]
  },
  {
   "cell_type": "code",
   "execution_count": 23,
   "id": "3f69ed4e",
   "metadata": {},
   "outputs": [
    {
     "name": "stdout",
     "output_type": "stream",
     "text": [
      "2\n"
     ]
    }
   ],
   "source": [
    "tokens = ['<greeting>', 'Hello World!', '</greeting>']\n",
    "count = 0\n",
    "\n",
    "for token in tokens:\n",
    "    if token[0] == '<' and token[-1] == '>':\n",
    "        count = count + 1\n",
    "    \n",
    "print(count)"
   ]
  },
  {
   "cell_type": "code",
   "execution_count": 24,
   "id": "41fa4b56",
   "metadata": {},
   "outputs": [
    {
     "name": "stdout",
     "output_type": "stream",
     "text": [
      "2\n",
      "2\n"
     ]
    }
   ],
   "source": [
    "list = ['<greeting>', 'Hello World!', '</greeting>']\n",
    "\n",
    "start_tag  = [\"<\", \">\"]\n",
    "end_tag = [\"<\", \"/\", \">\"]\n",
    "start_tagCount = 0\n",
    "end_tagCount = 0\n",
    "for i in list:\n",
    "    if any(x in i for x in start_tag):\n",
    "        start_tagCount = start_tagCount+1\n",
    "        \n",
    "    if any(x in i for x in end_tag):\n",
    "        end_tagCount  = end_tagCount +1\n",
    "        \n",
    "print(start_tagCount)\n",
    "print(end_tagCount)\n"
   ]
  },
  {
   "cell_type": "markdown",
   "id": "77e91c32",
   "metadata": {},
   "source": [
    "#### Write some code, including a for loop, that iterates over a list of strings and creates a single string, html_str, which is an HTML list. For example, if the list is items = ['first string', 'second string'], printing html_str should output:\n",
    "```\n",
    "<ul>\n",
    "<li>first string</li>\n",
    "<li>second string</li>\n",
    "</ul>\n",
    "```\n",
    "That is, the string's first line should be the opening tag ```<ul>```. Following that is one line per element in the source list, surrounded by ```<li>``` and ```</li>``` tags. The final line of the string should be the closing tag ```</ul>```."
   ]
  },
  {
   "cell_type": "code",
   "execution_count": 25,
   "id": "ab54b7f6",
   "metadata": {},
   "outputs": [
    {
     "name": "stdout",
     "output_type": "stream",
     "text": [
      "<ul>\n",
      "<li>first string</li>\n",
      "<li>second string</li>\n",
      "</ul>\n"
     ]
    }
   ],
   "source": [
    "items = ['first string', 'second string']\n",
    "html_str = \"<ul>\\n\"  # \"\\ n\" is the character that marks the end of the line,\n",
    "                     # it does the characters that are after it in html_str\n",
    "                     # are on the next line\n",
    "\n",
    "for item in items:\n",
    "    html_str = html_str + \"<li>\" + str(item) + \"</li>\" \"\\n\"\n",
    "\n",
    "html_str = html_str + \"</ul>\"\n",
    "\n",
    "print(html_str)"
   ]
  },
  {
   "cell_type": "markdown",
   "id": "8f9fcd87",
   "metadata": {},
   "source": [
    "#### You would like to count the number of fruits in your basket. In order to do this, you have the following dictionary and list of fruits. Use the dictionary and list to count the total number of fruits, but you do not want to count the other items in your basket."
   ]
  },
  {
   "cell_type": "code",
   "execution_count": 26,
   "id": "e2595db8",
   "metadata": {},
   "outputs": [
    {
     "data": {
      "text/plain": [
       "23"
      ]
     },
     "execution_count": 26,
     "metadata": {},
     "output_type": "execute_result"
    }
   ],
   "source": [
    "result = 0\n",
    "basket_items = {'apples': 4, 'oranges': 19, 'kites': 3, 'sandwiches': 8}\n",
    "fruits = ['apples', 'oranges', 'pears', 'peaches', 'grapes', 'bananas']\n",
    "\n",
    "#Iterate through the dictionary\n",
    "\n",
    "#if the key is in the list of fruits, add the value (number of fruits) to result\n",
    "count = 0    \n",
    "for key,value in basket_items.items():\n",
    "    if key in fruits:\n",
    "        result += value\n",
    "        count +=1\n",
    "result\n"
   ]
  },
  {
   "cell_type": "code",
   "execution_count": 27,
   "id": "bc8fad5e",
   "metadata": {},
   "outputs": [
    {
     "data": {
      "text/plain": [
       "2"
      ]
     },
     "execution_count": 27,
     "metadata": {},
     "output_type": "execute_result"
    }
   ],
   "source": [
    "count"
   ]
  },
  {
   "cell_type": "code",
   "execution_count": 28,
   "id": "9cf3c778",
   "metadata": {},
   "outputs": [
    {
     "name": "stdout",
     "output_type": "stream",
     "text": [
      "23\n"
     ]
    }
   ],
   "source": [
    "result = 0\n",
    "basket_items = {'apples': 4, 'oranges': 19, 'kites': 3, 'sandwiches': 8}\n",
    "fruits = ['apples', 'oranges', 'pears', 'peaches', 'grapes', 'bananas']\n",
    "\n",
    "#Iterate through the dictionary\n",
    "for key, value in basket_items.items():\n",
    "    for item in fruits:\n",
    "        #if the key is in the list of fruits, add the value (number of fruits)\n",
    "        #to result\n",
    "        if item == key:\n",
    "            result = result + value\n",
    "\n",
    "print(result)"
   ]
  },
  {
   "cell_type": "markdown",
   "id": "79fa5536",
   "metadata": {},
   "source": [
    "#### Creat Like given"
   ]
  },
  {
   "cell_type": "markdown",
   "id": "e97984ae",
   "metadata": {},
   "source": [
    "00\n",
    "01\n",
    "02\n",
    "03\n",
    "10\n",
    "11\n",
    "12\n",
    "13\n",
    "20\n",
    "21\n",
    "22\n",
    "23"
   ]
  },
  {
   "cell_type": "code",
   "execution_count": 30,
   "id": "c4e414dc",
   "metadata": {},
   "outputs": [
    {
     "name": "stdout",
     "output_type": "stream",
     "text": [
      "0 0\n",
      "0 1\n",
      "0 2\n",
      "0 3\n",
      "1 0\n",
      "1 1\n",
      "1 2\n",
      "1 3\n",
      "2 0\n",
      "2 1\n",
      "2 2\n",
      "2 3\n"
     ]
    }
   ],
   "source": [
    "for i in range(3):\n",
    "    for j in range(4):\n",
    "        print(str(i),str(j))"
   ]
  },
  {
   "cell_type": "markdown",
   "id": "2a432076",
   "metadata": {},
   "source": [
    "#### Find the factorial of a number using a while loop.\n",
    "\n",
    "A factorial of a whole number is that number multiplied by every whole number between itself and 1. For example, 6 factorial (written \"6!\") equals 6 x 5 x 4 x 3 x 2 x 1 = 720. So 6! = 720.\n",
    "\n",
    "We can write a while loop to take any given number and figure out what its factorial is.\n",
    "\n",
    "Example: If number is 6, your code should compute and print the product, 720"
   ]
  },
  {
   "cell_type": "code",
   "execution_count": 31,
   "id": "b449db58",
   "metadata": {},
   "outputs": [
    {
     "name": "stdout",
     "output_type": "stream",
     "text": [
      "720\n"
     ]
    }
   ],
   "source": [
    "# number to find the factorial of\n",
    "number = 6   \n",
    "\n",
    "# start with our product equal to one\n",
    "product = 1\n",
    "\n",
    "# track the current number being multiplied\n",
    "current = 1\n",
    "\n",
    "# write your while loop here\n",
    "\n",
    "    # multiply the product so far by the current number\n",
    "\n",
    "    # increment current with each iteration until it reaches number\n",
    "\n",
    "while current<=number:\n",
    "    product *= current\n",
    "    current +=1\n",
    "\n",
    "# print the factorial of number\n",
    "print(product)"
   ]
  },
  {
   "cell_type": "markdown",
   "id": "2b9424f1",
   "metadata": {},
   "source": [
    "#### Now use a for loop to find the factorial!\n",
    "\n",
    "It will now be great practice for you to try to revise the code you wrote above to find the factorial of a number, but this time, using a for loop. Try it in the code editor below!"
   ]
  },
  {
   "cell_type": "code",
   "execution_count": 32,
   "id": "0dc398e0",
   "metadata": {},
   "outputs": [
    {
     "name": "stdout",
     "output_type": "stream",
     "text": [
      "720\n"
     ]
    }
   ],
   "source": [
    "# number to find the factorial of\n",
    "number = 6   \n",
    "\n",
    "# start with our product equal to one\n",
    "product = 1\n",
    "\n",
    "# write your for loop here\n",
    "for i in range(1,number+1):\n",
    "    product *= i\n",
    "# print the factorial of number\n",
    "print(product)"
   ]
  },
  {
   "cell_type": "markdown",
   "id": "98236e86",
   "metadata": {},
   "source": [
    "##### Suppose you want to count from some number start_num by another number count_by until you hit a final number end_num. Use break_num as the variable that you'll change each time through the loop. For simplicity, assume that end_num is always larger than start_num and count_by is always positive.\n",
    "\n",
    "##### Before the loop, what do you want to set break_num equal to? How do you want to change break_num each time through the loop? What condition will you use to see when it's time to stop looping?\n",
    "\n",
    "##### After the loop is done, print out break_num, showing the value that indicated it was time to stop looping. It is the case that break_num should be a number that is the first number larger than end_num."
   ]
  },
  {
   "cell_type": "code",
   "execution_count": 33,
   "id": "5c9941b7",
   "metadata": {},
   "outputs": [
    {
     "name": "stdout",
     "output_type": "stream",
     "text": [
      "31\n"
     ]
    }
   ],
   "source": [
    "end_num= 30\n",
    "start_num= 3\n",
    "count_by = 3\n",
    "break_num = 4\n",
    "while break_num<end_num:\n",
    "    start_num +=count_by\n",
    "    break_num += count_by\n",
    "# write a while loop that uses break_num as the ongoing number to \n",
    "#   check against end_num\n",
    "\n",
    "\n",
    "print(break_num)"
   ]
  },
  {
   "cell_type": "markdown",
   "id": "182c5335",
   "metadata": {},
   "source": [
    "## **Break and Continue:**\n",
    "For Loop iterate over every element in a sequence, while loops iterate over every element untill stopping condition is met.\n",
    "\n",
    "This is sufficient for most purposes, but sometimes we need more precise control over when we need to end a loop.\n",
    "\n",
    "In these cases we use the *break* keyword.\n"
   ]
  },
  {
   "cell_type": "markdown",
   "id": "83907593",
   "metadata": {},
   "source": [
    "This brings us to our next statement sometimes there will be conditions where instead of breaking the loop we will like to skip one iteration of the loop. In this case we will use the continue keyword.\n",
    "\n",
    "> break and continue keywords, which can be used in both for and while loops.\n",
    "- break terminates a loop\n",
    "- continue skips one iteration of a loop"
   ]
  },
  {
   "cell_type": "code",
   "execution_count": 34,
   "id": "c5dbd6a5",
   "metadata": {},
   "outputs": [
    {
     "name": "stdout",
     "output_type": "stream",
     "text": [
      "Found a fruit!!\n",
      "Found a fruit!!\n",
      "Not a fruit\n",
      "Total fruits:  2\n"
     ]
    }
   ],
   "source": [
    "fruits= [\"orange\", \"strawberry\", \"apple\"]\n",
    "foods = [\"apple\", \"apple\", \"burger\", \"toast\"]\n",
    "\n",
    "fruit_count = 0\n",
    "for food in foods:\n",
    "  if food not in fruits:\n",
    "    print(\"Not a fruit\")\n",
    "    break\n",
    "  fruit_count += 1\n",
    "  print(\"Found a fruit!!\")\n",
    "\n",
    "print(\"Total fruits: \", fruit_count)"
   ]
  },
  {
   "cell_type": "markdown",
   "id": "520c6121",
   "metadata": {},
   "source": [
    "#### Write a loop with a break statement to create a string, news_ticker, that is exactly 140 characters long. You should create the news ticker by adding headlines from the headlines list, inserting a space in between each headline. If necessary, truncate the last headline in the middle so that news_ticker is exactly 140 characters long.\n",
    "\n",
    "> Remember that break works in both for and while loops. Use whichever loop seems most appropriate. Consider adding print statements to your code to help you resolve bugs."
   ]
  },
  {
   "cell_type": "code",
   "execution_count": 35,
   "id": "7a8d0805",
   "metadata": {},
   "outputs": [
    {
     "name": "stdout",
     "output_type": "stream",
     "text": [
      "Local Bear Eaten by Man Legislature Announces New Laws Peasant Discovers Violence Inherent in System Cat Rescues Fireman Stuck in Tree Brave\n"
     ]
    }
   ],
   "source": [
    "headlines = [\"Local Bear Eaten by Man\",\n",
    "             \"Legislature Announces New Laws\",\n",
    "             \"Peasant Discovers Violence Inherent in System\",\n",
    "             \"Cat Rescues Fireman Stuck in Tree\",\n",
    "             \"Brave Knight Runs Away\",\n",
    "             \"Papperbok Review: Totally Triffic\"]\n",
    "\n",
    "news_ticker = \"\"\n",
    "\n",
    "headlines = \" \".join(headlines)\n",
    "\n",
    "for letter in headlines:\n",
    "    news_ticker = news_ticker + letter\n",
    "    if len(news_ticker) == 140:\n",
    "        break\n",
    "\n",
    "print(news_ticker)\n"
   ]
  },
  {
   "cell_type": "code",
   "execution_count": 36,
   "id": "5006caa1",
   "metadata": {},
   "outputs": [
    {
     "name": "stdout",
     "output_type": "stream",
     "text": [
      "Local Bear Eaten by Man Legislature Announces New Laws Peasant Discovers Violence Inherent in System Cat Rescues Fireman Stuck in Tree Brave\n"
     ]
    }
   ],
   "source": [
    "headlines = [\"Local Bear Eaten by Man\",\n",
    "             \"Legislature Announces New Laws\",\n",
    "             \"Peasant Discovers Violence Inherent in System\",\n",
    "             \"Cat Rescues Fireman Stuck in Tree\",\n",
    "             \"Brave Knight Runs Away\",\n",
    "             \"Papperbok Review: Totally Triffic\"]\n",
    "\n",
    "news_ticker = \"\"\n",
    "for headline in headlines:\n",
    "    news_ticker += headline + \" \"\n",
    "    if len(news_ticker) >= 140:\n",
    "        news_ticker = news_ticker[:140]\n",
    "        break\n",
    "\n",
    "print(news_ticker)"
   ]
  },
  {
   "cell_type": "markdown",
   "id": "f188ac4d",
   "metadata": {},
   "source": [
    "#### Use zip to write a for loop that creates a string specifying the label and coordinates of each point and appends it to the list points. Each string should be formatted as ``` label: x, y, z ``` . For example, the string for the first coordinate should be ```F: 23, 677, 4```."
   ]
  },
  {
   "cell_type": "code",
   "execution_count": 37,
   "id": "d4f18deb",
   "metadata": {},
   "outputs": [
    {
     "data": {
      "text/plain": [
       "['F:23,677,23',\n",
       " 'J:53,233,53',\n",
       " 'A:2,405,2',\n",
       " 'Q:-12,433,-12',\n",
       " 'Y:95,905,95',\n",
       " 'B:103,376,103',\n",
       " 'W:14,432,14',\n",
       " 'X:-5,445,-5']"
      ]
     },
     "execution_count": 37,
     "metadata": {},
     "output_type": "execute_result"
    }
   ],
   "source": [
    "x_coord = [23, 53, 2, -12, 95, 103, 14, -5]\n",
    "y_coord = [677, 233, 405, 433, 905, 376, 432, 445]\n",
    "z_coord = [4, 16, -6, -42, 3, -6, 23, -1]\n",
    "labels = [\"F\", \"J\", \"A\", \"Q\", \"Y\", \"B\", \"W\", \"X\"]\n",
    "\n",
    "#points = list(zip(labels, x_coord,y_coord,z_coord))\n",
    "# write your for loop here\n",
    "lst = []\n",
    "for labels,x,y,z in zip(labels, x_coord,y_coord,z_coord):\n",
    "    lst.append(\"{}:{},{},{}\".format(labels,x,y,x))\n",
    "\n",
    "lst"
   ]
  },
  {
   "cell_type": "code",
   "execution_count": 38,
   "id": "a5905297",
   "metadata": {},
   "outputs": [
    {
     "name": "stdout",
     "output_type": "stream",
     "text": [
      "F: 23, 677, 4\n",
      "J: 53, 233, 16\n",
      "A: 2, 405, -6\n",
      "Q: -12, 433, -42\n",
      "Y: 95, 905, 3\n",
      "B: 103, 376, -6\n",
      "W: 14, 432, 23\n",
      "X: -5, 445, -1\n"
     ]
    }
   ],
   "source": [
    "x_coord = [23, 53, 2, -12, 95, 103, 14, -5]\n",
    "y_coord = [677, 233, 405, 433, 905, 376, 432, 445]\n",
    "z_coord = [4, 16, -6, -42, 3, -6, 23, -1]\n",
    "labels = [\"F\", \"J\", \"A\", \"Q\", \"Y\", \"B\", \"W\", \"X\"]\n",
    "\n",
    "points = []\n",
    "for point in zip(labels, x_coord, y_coord, z_coord):\n",
    "    points.append(\"{}: {}, {}, {}\".format(*point))\n",
    "\n",
    "for point in points:\n",
    "    print(point)\n"
   ]
  },
  {
   "cell_type": "markdown",
   "id": "39be3929",
   "metadata": {},
   "source": [
    "#### Use zip to create a dictionary cast that uses names as keys and heights as values."
   ]
  },
  {
   "cell_type": "code",
   "execution_count": 39,
   "id": "2ea95e35",
   "metadata": {},
   "outputs": [
    {
     "name": "stdout",
     "output_type": "stream",
     "text": [
      "{'Joey Tribbiani': 172, 'Monica Geller': 168, 'Chandler Bing': 172, 'Ross Geller': 166, 'Phoebe Buffay': 170}\n"
     ]
    }
   ],
   "source": [
    "cast_names = [\"Joey Tribbiani\", \"Monica Geller\", \"Chandler Bing\", \n",
    "              \"Ross Geller\", \"Phoebe Buffay\"]\n",
    "\n",
    "cast_heights = [172, 168, 172, 166, 170]\n",
    "\n",
    "cast = dict(zip(cast_names,cast_heights))\n",
    "print(cast)"
   ]
  },
  {
   "cell_type": "markdown",
   "id": "44109e35",
   "metadata": {},
   "source": [
    "#### Use zip to transpose data from a 4-by-3 matrix to a 3-by-4 matrix."
   ]
  },
  {
   "cell_type": "code",
   "execution_count": 40,
   "id": "2876f33a",
   "metadata": {},
   "outputs": [
    {
     "name": "stdout",
     "output_type": "stream",
     "text": [
      "((0, 3, 6, 9), (1, 4, 7, 10), (2, 5, 8, 11))\n"
     ]
    }
   ],
   "source": [
    "\n",
    "data = ((0, 1, 2), (3, 4, 5), (6, 7, 8), (9, 10, 11))\n",
    "\n",
    "data_transpose = tuple(zip(*data))\n",
    "\n",
    "print(data_transpose)"
   ]
  },
  {
   "cell_type": "code",
   "execution_count": 41,
   "id": "182b991f",
   "metadata": {},
   "outputs": [
    {
     "name": "stdout",
     "output_type": "stream",
     "text": [
      "{'Barney': 72, 'Robin': 68, 'Ted': 72, 'Lily': 66, 'Marshall': 76}\n"
     ]
    }
   ],
   "source": [
    "cast_names = [\"Barney\", \"Robin\", \"Ted\", \"Lily\", \"Marshall\"]\n",
    "cast_heights = [72, 68, 72, 66, 76]\n",
    "\n",
    "cast = dict(zip(cast_names, cast_heights)) \n",
    "\n",
    "print(cast)"
   ]
  },
  {
   "cell_type": "markdown",
   "id": "0021c575",
   "metadata": {},
   "source": [
    "#### Use enumerate to modify the cast list so that each element contains the name followed by the character's corresponding income in $ 1000. For example, the first element of cast should change from \"Barney Stinson\" to \"Barney Stinson 150\"."
   ]
  },
  {
   "cell_type": "code",
   "execution_count": 42,
   "id": "9e446769",
   "metadata": {},
   "outputs": [
    {
     "name": "stdout",
     "output_type": "stream",
     "text": [
      "['Barney Stinson 150', 'Robin Scherbatsky 100', 'Ted Mosby 40', 'Lily Aldrin 0', 'Marshall Eriksen 80']\n"
     ]
    }
   ],
   "source": [
    "cast = [\"Barney Stinson\", \"Robin Scherbatsky\", \"Ted Mosby\", \n",
    "        \"Lily Aldrin\", \"Marshall Eriksen\"]\n",
    "heights = [150, 100, 40, 0, 80]\n",
    "\n",
    "# write your for loop here\n",
    "for i, j in enumerate(cast):\n",
    "    cast[i] = cast[i] +' '+ str(heights[i])\n",
    "\n",
    "    \n",
    "print(cast)"
   ]
  },
  {
   "cell_type": "markdown",
   "id": "bcc97aac",
   "metadata": {},
   "source": [
    "#### In Python you can create lists very quickly and consisely with a cool tool called as list comprehension"
   ]
  },
  {
   "cell_type": "code",
   "execution_count": 43,
   "id": "0a014512",
   "metadata": {},
   "outputs": [
    {
     "name": "stdout",
     "output_type": "stream",
     "text": [
      "['New York City', 'Mountain View', 'Chicago', 'Los Angeles']\n"
     ]
    }
   ],
   "source": [
    "cities = ['new york city', 'mountain view', \n",
    "                      'chicago', 'los angeles']\n",
    "capitalized_cities = []\n",
    "\n",
    "for city in cities:\n",
    "    capitalized_cities.append(city.title())\n",
    "\n",
    "print(capitalized_cities)"
   ]
  },
  {
   "cell_type": "markdown",
   "id": "b65005d9",
   "metadata": {},
   "source": [
    "#### With the help of list comprehension this can be reduced to:"
   ]
  },
  {
   "cell_type": "code",
   "execution_count": 44,
   "id": "81e54b18",
   "metadata": {},
   "outputs": [
    {
     "name": "stdout",
     "output_type": "stream",
     "text": [
      "['New York City', 'Mountain View', 'Chicago', 'Los Angeles']\n"
     ]
    }
   ],
   "source": [
    "capitalized_cities = [city.title() for city in cities]\n",
    "\n",
    "print(capitalized_cities)"
   ]
  },
  {
   "cell_type": "markdown",
   "id": "874d0813",
   "metadata": {},
   "source": [
    "#### Use a list comprehension to create a new list first_names containing just the first names in names in lowercase."
   ]
  },
  {
   "cell_type": "code",
   "execution_count": 45,
   "id": "532b1022",
   "metadata": {},
   "outputs": [
    {
     "name": "stdout",
     "output_type": "stream",
     "text": [
      "['barney', 'robin', 'ted', 'lily', 'marshall']\n"
     ]
    }
   ],
   "source": [
    "names = [\"Barney Stinson\", \"Robin Scherbatsky\", \"Ted Mosby\", \n",
    "        \"Lily Aldrin\", \"Marshall Eriksen\"]\n",
    "\n",
    "first_names = [i.lower().split()[0] for i in names]\n",
    "print(first_names)"
   ]
  },
  {
   "cell_type": "markdown",
   "id": "324ab48f",
   "metadata": {},
   "source": [
    "#### Use a list comprehension to create a list multiples_3 containing the first 20 multiples of 3."
   ]
  },
  {
   "cell_type": "code",
   "execution_count": 46,
   "id": "b670dd79",
   "metadata": {},
   "outputs": [
    {
     "name": "stdout",
     "output_type": "stream",
     "text": [
      "[3, 6, 9, 12, 15, 18, 21, 24, 27, 30, 33, 36, 39, 42, 45, 48, 51, 54, 57, 60]\n"
     ]
    }
   ],
   "source": [
    "multiples_3 = [ x for x in range(3, 60+1)  if x % 3 == 0]\n",
    "print(multiples_3)"
   ]
  },
  {
   "cell_type": "code",
   "execution_count": 47,
   "id": "3f7a48c3",
   "metadata": {},
   "outputs": [
    {
     "name": "stdout",
     "output_type": "stream",
     "text": [
      "[3, 6, 9, 12, 15, 18, 21, 24, 27, 30, 33, 36, 39, 42, 45, 48, 51, 54, 57, 60]\n"
     ]
    }
   ],
   "source": [
    "# Second solution:\n",
    "\n",
    "multiples_3 = [x * 3 for x in range(1, 21)]\n",
    "print(multiples_3)\n"
   ]
  },
  {
   "cell_type": "markdown",
   "id": "9e6fb688",
   "metadata": {},
   "source": [
    "#### Use a list comprehension to create a list of names passed that only include those that scored at least 65."
   ]
  },
  {
   "cell_type": "code",
   "execution_count": 48,
   "id": "1f61f57b",
   "metadata": {},
   "outputs": [
    {
     "name": "stdout",
     "output_type": "stream",
     "text": [
      "['Deku', 'Tenya', 'All Might']\n"
     ]
    }
   ],
   "source": [
    "scores = {\n",
    "             \"Deku\": 70,\n",
    "             \"Bakugo\": 35,\n",
    "             \"Tenya\": 82,\n",
    "             \"Shoto\": 23,\n",
    "             \"All Might\": 98\n",
    "          }\n",
    "\n",
    "\n",
    "passed = [key for key,values in scores.items() if values >=65]\n",
    "# write your list comprehension here\n",
    "print(passed)"
   ]
  },
  {
   "cell_type": "markdown",
   "id": "d918a7a7",
   "metadata": {},
   "source": [
    "#### Write a function named population_density that takes two arguments, population and land_area, and returns a population density calculated from those values. I've included two test cases that you can use to verify that your function works correctly. Once you've written your function, use the Test Run button to test your code."
   ]
  },
  {
   "cell_type": "code",
   "execution_count": 49,
   "id": "9e5ce957",
   "metadata": {},
   "outputs": [
    {
     "name": "stdout",
     "output_type": "stream",
     "text": [
      "expected result: 10.0, actual result: 10.0\n",
      "expected result: 7123.6902801, actual result: 7123.690280065897\n"
     ]
    }
   ],
   "source": [
    "# write your function here\n",
    "def population_density(population, land_area):\n",
    "    return population/land_area\n",
    "\n",
    "\n",
    "\n",
    "# test cases for your function\n",
    "test1 = population_density(10, 1)\n",
    "expected_result1 = 10.0\n",
    "print(\"expected result: {}, actual result: {}\".format(expected_result1, test1))\n",
    "\n",
    "test2 = population_density(864816, 121.4)\n",
    "expected_result2 = 7123.6902801\n",
    "print(\"expected result: {}, actual result: {}\".format(expected_result2, test2))"
   ]
  },
  {
   "cell_type": "markdown",
   "id": "509d8bef",
   "metadata": {},
   "source": [
    "#### Write a function named readable_timedelta. The function should take one argument, an integer days, and return a string that says how many weeks and days that is. For example, calling the function and printing the result like this:\n",
    "\n",
    "```\n",
    "print(readable_timedelta(10))\n",
    "```\n",
    "should output the following:\n",
    "```\n",
    "1 week(s) and 3 day(s).\n",
    "```"
   ]
  },
  {
   "cell_type": "code",
   "execution_count": 50,
   "id": "b61962ac",
   "metadata": {},
   "outputs": [
    {
     "name": "stdout",
     "output_type": "stream",
     "text": [
      "1 week(s) and 3 day(s).\n"
     ]
    }
   ],
   "source": [
    "def readable_timedelta(days):\n",
    "    \"\"\"\n",
    "    Return a string of the number of weeks and days included in days.\n",
    "    Parameters:\n",
    "    days -- number of days to convert (int)\n",
    "    Returns:\n",
    "    string of the number of weeks and days included in days\n",
    "    \"\"\"\n",
    "\n",
    "    week = days // 7\n",
    "    # % to get the number of days that remain\n",
    "    day = days % 7\n",
    "    return \"{} week(s) and {} day(s).\".format(week, day)\n",
    "\n",
    "print(readable_timedelta(10))"
   ]
  },
  {
   "cell_type": "markdown",
   "id": "14867c4f",
   "metadata": {},
   "source": [
    "#### map() is a higher-order built-in function that takes a function and iterable as inputs, and returns an iterator that applies the function to each element of the iterable. The code below uses map() to find the mean of each list in numbers to create the list averages. Give it a test run to see what happens.\n",
    "\n",
    "Rewrite this code to be more concise by replacing the mean function with a lambda expression defined within the call to map()."
   ]
  },
  {
   "cell_type": "code",
   "execution_count": 51,
   "id": "77e6070c",
   "metadata": {},
   "outputs": [
    {
     "name": "stdout",
     "output_type": "stream",
     "text": [
      "57.0\n",
      "58.2\n",
      "50.6\n",
      "27.2\n"
     ]
    },
    {
     "ename": "TypeError",
     "evalue": "'list' object is not callable",
     "output_type": "error",
     "traceback": [
      "\u001b[1;31m---------------------------------------------------------------------------\u001b[0m",
      "\u001b[1;31mTypeError\u001b[0m                                 Traceback (most recent call last)",
      "\u001b[1;32m~\\AppData\\Local\\Temp\\ipykernel_51456\\1468064826.py\u001b[0m in \u001b[0;36m<module>\u001b[1;34m\u001b[0m\n\u001b[0;32m     12\u001b[0m \u001b[0mprint\u001b[0m\u001b[1;33m(\u001b[0m\u001b[0mmean\u001b[0m\u001b[1;33m(\u001b[0m\u001b[0mnumbers\u001b[0m\u001b[1;33m[\u001b[0m\u001b[1;36m2\u001b[0m\u001b[1;33m]\u001b[0m\u001b[1;33m)\u001b[0m\u001b[1;33m)\u001b[0m\u001b[1;33m\u001b[0m\u001b[1;33m\u001b[0m\u001b[0m\n\u001b[0;32m     13\u001b[0m \u001b[0mprint\u001b[0m\u001b[1;33m(\u001b[0m\u001b[0mmean\u001b[0m\u001b[1;33m(\u001b[0m\u001b[0mnumbers\u001b[0m\u001b[1;33m[\u001b[0m\u001b[1;36m3\u001b[0m\u001b[1;33m]\u001b[0m\u001b[1;33m)\u001b[0m\u001b[1;33m)\u001b[0m\u001b[1;33m\u001b[0m\u001b[1;33m\u001b[0m\u001b[0m\n\u001b[1;32m---> 14\u001b[1;33m \u001b[0maverages\u001b[0m \u001b[1;33m=\u001b[0m \u001b[0mlist\u001b[0m\u001b[1;33m(\u001b[0m\u001b[0mmap\u001b[0m\u001b[1;33m(\u001b[0m\u001b[0mmean\u001b[0m\u001b[1;33m,\u001b[0m \u001b[0mnumbers\u001b[0m\u001b[1;33m)\u001b[0m\u001b[1;33m)\u001b[0m\u001b[1;33m\u001b[0m\u001b[1;33m\u001b[0m\u001b[0m\n\u001b[0m\u001b[0;32m     15\u001b[0m \u001b[0mprint\u001b[0m\u001b[1;33m(\u001b[0m\u001b[0maverages\u001b[0m\u001b[1;33m)\u001b[0m\u001b[1;33m\u001b[0m\u001b[1;33m\u001b[0m\u001b[0m\n\u001b[0;32m     16\u001b[0m \u001b[0mmap\u001b[0m\u001b[1;33m(\u001b[0m\u001b[0mmean\u001b[0m\u001b[1;33m,\u001b[0m \u001b[0mnumbers\u001b[0m\u001b[1;33m)\u001b[0m\u001b[1;33m\u001b[0m\u001b[1;33m\u001b[0m\u001b[0m\n",
      "\u001b[1;31mTypeError\u001b[0m: 'list' object is not callable"
     ]
    }
   ],
   "source": [
    "numbers = [\n",
    "              [34, 63, 88, 71, 29],\n",
    "              [90, 78, 51, 27, 45],\n",
    "              [63, 37, 85, 46, 22],\n",
    "              [51, 22, 34, 11, 18]\n",
    "           ]\n",
    "\n",
    "def mean(num_list):\n",
    "    return sum(num_list) / len(num_list)\n",
    "print(mean(numbers[0]))\n",
    "print(mean(numbers[1]))\n",
    "print(mean(numbers[2]))\n",
    "print(mean(numbers[3]))\n",
    "averages = list(map(mean, numbers))\n",
    "print(averages)\n",
    "map(mean, numbers)"
   ]
  },
  {
   "cell_type": "code",
   "execution_count": 52,
   "id": "c49cc413",
   "metadata": {},
   "outputs": [
    {
     "ename": "TypeError",
     "evalue": "'list' object is not callable",
     "output_type": "error",
     "traceback": [
      "\u001b[1;31m---------------------------------------------------------------------------\u001b[0m",
      "\u001b[1;31mTypeError\u001b[0m                                 Traceback (most recent call last)",
      "\u001b[1;32m~\\AppData\\Local\\Temp\\ipykernel_51456\\373872040.py\u001b[0m in \u001b[0;36m<module>\u001b[1;34m\u001b[0m\n\u001b[0;32m     10\u001b[0m     \u001b[1;32mreturn\u001b[0m \u001b[0msum\u001b[0m\u001b[1;33m(\u001b[0m\u001b[0mnum_list\u001b[0m\u001b[1;33m)\u001b[0m \u001b[1;33m/\u001b[0m \u001b[0mlen\u001b[0m\u001b[1;33m(\u001b[0m\u001b[0mnum_list\u001b[0m\u001b[1;33m)\u001b[0m\u001b[1;33m\u001b[0m\u001b[1;33m\u001b[0m\u001b[0m\n\u001b[0;32m     11\u001b[0m \u001b[1;33m\u001b[0m\u001b[0m\n\u001b[1;32m---> 12\u001b[1;33m \u001b[0maverages\u001b[0m \u001b[1;33m=\u001b[0m \u001b[0mlist\u001b[0m\u001b[1;33m(\u001b[0m\u001b[0mmap\u001b[0m\u001b[1;33m(\u001b[0m\u001b[0mmean\u001b[0m\u001b[1;33m,\u001b[0m \u001b[0mnumbers\u001b[0m\u001b[1;33m)\u001b[0m\u001b[1;33m)\u001b[0m\u001b[1;33m\u001b[0m\u001b[1;33m\u001b[0m\u001b[0m\n\u001b[0m\u001b[0;32m     13\u001b[0m \u001b[0mprint\u001b[0m\u001b[1;33m(\u001b[0m\u001b[0maverages\u001b[0m\u001b[1;33m)\u001b[0m\u001b[1;33m\u001b[0m\u001b[1;33m\u001b[0m\u001b[0m\n",
      "\u001b[1;31mTypeError\u001b[0m: 'list' object is not callable"
     ]
    }
   ],
   "source": [
    "\n",
    "numbers = [\n",
    "              [34, 63, 88, 71, 29],\n",
    "              [90, 78, 51, 27, 45],\n",
    "              [63, 37, 85, 46, 22],\n",
    "              [51, 22, 34, 11, 18]\n",
    "            ]\n",
    "\n",
    "\n",
    "def mean(num_list):\n",
    "    return sum(num_list) / len(num_list)\n",
    "\n",
    "averages = list(map(mean, numbers))\n",
    "print(averages)\n"
   ]
  },
  {
   "cell_type": "code",
   "execution_count": 53,
   "id": "9619a1e4",
   "metadata": {},
   "outputs": [
    {
     "ename": "TypeError",
     "evalue": "'list' object is not callable",
     "output_type": "error",
     "traceback": [
      "\u001b[1;31m---------------------------------------------------------------------------\u001b[0m",
      "\u001b[1;31mTypeError\u001b[0m                                 Traceback (most recent call last)",
      "\u001b[1;32m~\\AppData\\Local\\Temp\\ipykernel_51456\\1433277260.py\u001b[0m in \u001b[0;36m<module>\u001b[1;34m\u001b[0m\n\u001b[0;32m      8\u001b[0m            ]\n\u001b[0;32m      9\u001b[0m \u001b[1;33m\u001b[0m\u001b[0m\n\u001b[1;32m---> 10\u001b[1;33m \u001b[0maverages\u001b[0m \u001b[1;33m=\u001b[0m \u001b[0mlist\u001b[0m\u001b[1;33m(\u001b[0m\u001b[0mmap\u001b[0m\u001b[1;33m(\u001b[0m\u001b[1;32mlambda\u001b[0m \u001b[0mx\u001b[0m\u001b[1;33m:\u001b[0m \u001b[0msum\u001b[0m\u001b[1;33m(\u001b[0m\u001b[0mx\u001b[0m\u001b[1;33m)\u001b[0m \u001b[1;33m/\u001b[0m \u001b[0mlen\u001b[0m\u001b[1;33m(\u001b[0m\u001b[0mx\u001b[0m\u001b[1;33m)\u001b[0m\u001b[1;33m,\u001b[0m \u001b[0mnumbers\u001b[0m\u001b[1;33m)\u001b[0m\u001b[1;33m)\u001b[0m\u001b[1;33m\u001b[0m\u001b[1;33m\u001b[0m\u001b[0m\n\u001b[0m\u001b[0;32m     11\u001b[0m \u001b[1;33m\u001b[0m\u001b[0m\n\u001b[0;32m     12\u001b[0m \u001b[0mprint\u001b[0m\u001b[1;33m(\u001b[0m\u001b[0maverages\u001b[0m\u001b[1;33m)\u001b[0m\u001b[1;33m\u001b[0m\u001b[1;33m\u001b[0m\u001b[0m\n",
      "\u001b[1;31mTypeError\u001b[0m: 'list' object is not callable"
     ]
    }
   ],
   "source": [
    "# With lambda:\n",
    "\n",
    "numbers = [\n",
    "              [34, 63, 88, 71, 29],\n",
    "              [90, 78, 51, 27, 45],\n",
    "              [63, 37, 85, 46, 22],\n",
    "              [51, 22, 34, 11, 18]\n",
    "           ]\n",
    "\n",
    "averages = list(map(lambda x: sum(x) / len(x), numbers))\n",
    "\n",
    "print(averages)\n"
   ]
  },
  {
   "cell_type": "markdown",
   "id": "29d7fd77",
   "metadata": {},
   "source": [
    "**<h3>TASK**</h3>\n",
    "Write a python function find max(a/b) for all (a,b) belongs to {x1, x2, x3}, where x1, x2 and x3 are the numbers passed as an argument to the function.\n",
    "<br><br>\n",
    "for e.g: if we pass 1, 2 and 3 to the function , then it should return:\n",
    "\n",
    "**max( 1/1, 1/2, 1/3, 2/1, 2/2, 2/3, 3/1, 3/2, 3/3 )**\n",
    "so the answer for the example will be 3 *i.e* 3/1.   \n",
    "\n",
    "also write an appropriate docstring for that"
   ]
  },
  {
   "cell_type": "code",
   "execution_count": 54,
   "id": "6d8b1a2f",
   "metadata": {},
   "outputs": [
    {
     "data": {
      "text/plain": [
       "3.0"
      ]
     },
     "execution_count": 54,
     "metadata": {},
     "output_type": "execute_result"
    }
   ],
   "source": [
    "# your function here\n",
    "def maximum(a,b,c):\n",
    "    \"\"\"\n",
    "    maximum() function takes three arguments a,b,c \n",
    "    and compares different combinations \n",
    "    of (a/a, a/b, a/c, b/a, b/b, b/c, c/a, c/b, c/c) \n",
    "    and returns the max of it\n",
    "    \"\"\"\n",
    "    new=[]\n",
    "    val=[a,b,c]\n",
    "    for i in val:\n",
    "        for j in val:\n",
    "            new.append(i/j)\n",
    "    return max(new)\n",
    "maximum(1,2,3)\n"
   ]
  },
  {
   "cell_type": "markdown",
   "id": "be76492a",
   "metadata": {},
   "source": [
    "#### Using the Built-in functions you learned about in the previous lesson, create a 4 x 4 ndarray that only contains consecutive even numbers from 2 to 32 (inclusive)"
   ]
  },
  {
   "cell_type": "code",
   "execution_count": 55,
   "id": "8c70e148",
   "metadata": {},
   "outputs": [
    {
     "data": {
      "text/plain": [
       "array([[ 2,  4,  6,  8],\n",
       "       [10, 12, 14, 16],\n",
       "       [18, 20, 22, 24],\n",
       "       [26, 28, 30, 32]])"
      ]
     },
     "execution_count": 55,
     "metadata": {},
     "output_type": "execute_result"
    }
   ],
   "source": [
    "import numpy as np\n",
    "\n",
    "X = np.arange(2,33,2).reshape((4,4))\n",
    "X"
   ]
  },
  {
   "cell_type": "markdown",
   "id": "91582d8a",
   "metadata": {},
   "source": [
    "#### Try creating the same array using the np.linspace() function."
   ]
  },
  {
   "cell_type": "code",
   "execution_count": 56,
   "id": "1e9d54e7",
   "metadata": {},
   "outputs": [
    {
     "data": {
      "text/plain": [
       "array([[ 2.,  4.,  6.,  8.],\n",
       "       [10., 12., 14., 16.],\n",
       "       [18., 20., 22., 24.],\n",
       "       [26., 28., 30., 32.]])"
      ]
     },
     "execution_count": 56,
     "metadata": {},
     "output_type": "execute_result"
    }
   ],
   "source": [
    "import numpy as np\n",
    "\n",
    "X = np.linspace(2,32,16).reshape((4,4))\n",
    "X"
   ]
  },
  {
   "cell_type": "markdown",
   "id": "1efd94f5",
   "metadata": {},
   "source": [
    "#### Create a 5 x 5 ndarray with consecutive integers from 1 to 25 (inclusive). Afterwards use Boolean indexing to pick out only the odd numbers in the array"
   ]
  },
  {
   "cell_type": "code",
   "execution_count": 57,
   "id": "7ab72695",
   "metadata": {},
   "outputs": [
    {
     "name": "stdout",
     "output_type": "stream",
     "text": [
      "[[ 1  2  3  4  5]\n",
      " [ 6  7  8  9 10]\n",
      " [11 12 13 14 15]\n",
      " [16 17 18 19 20]\n",
      " [21 22 23 24 25]]\n",
      "[ 1  3  5  7  9 11 13 15 17 19 21 23 25]\n"
     ]
    }
   ],
   "source": [
    "import numpy as np\n",
    "\n",
    "X = np.arange(1,26).reshape(5,5)\n",
    "print(X)\n",
    "Y = X[X%2==1]\n",
    "print(Y)\n"
   ]
  },
  {
   "cell_type": "markdown",
   "id": "60962c97",
   "metadata": {},
   "source": [
    "#### Question:\n",
    "Use Broadcasting to create a 4 x 4 ndarray that has its first column full of 1s, its second column full of 2s, its third column full of 3s, etc.."
   ]
  },
  {
   "cell_type": "code",
   "execution_count": 58,
   "id": "b322a24d",
   "metadata": {},
   "outputs": [
    {
     "name": "stdout",
     "output_type": "stream",
     "text": [
      "* \r\n",
      "* * \r\n",
      "* * * \r\n",
      "* * * * \r\n",
      "* * * * * \r\n"
     ]
    }
   ],
   "source": [
    "# Python 3.x code to demonstrate star pattern\n",
    " \n",
    "# Function to demonstrate printing pattern\n",
    "def pypart(n):\n",
    "     \n",
    "    # outer loop to handle number of rows\n",
    "    # n in this case\n",
    "    for i in range(0, n):\n",
    "     \n",
    "        # inner loop to handle number of columns\n",
    "        # values changing acc. to outer loop\n",
    "        for j in range(0, i+1):\n",
    "         \n",
    "            # printing stars\n",
    "            print(\"* \",end=\"\")\n",
    "      \n",
    "        # ending line after each row\n",
    "        print(\"\\r\")\n",
    " \n",
    "# Driver Code\n",
    "n = 5\n",
    "pypart(n)"
   ]
  },
  {
   "cell_type": "code",
   "execution_count": 59,
   "id": "ba037224",
   "metadata": {},
   "outputs": [
    {
     "name": "stdout",
     "output_type": "stream",
     "text": [
      "*\n",
      "**\n",
      "***\n",
      "****\n",
      "*****\n"
     ]
    }
   ],
   "source": [
    "\n",
    "# Python 3.x code to demonstrate star pattern\n",
    " \n",
    "# Function to demonstrate printing pattern\n",
    "def pypart(n):\n",
    "    myList = []\n",
    "    for i in range(1,n+1):\n",
    "        myList.append(\"*\"*i)\n",
    "    print(\"\\n\".join(myList))\n",
    " \n",
    "# Driver Code\n",
    "n = 5\n",
    "pypart(n)"
   ]
  },
  {
   "cell_type": "code",
   "execution_count": 60,
   "id": "e09c7ad0",
   "metadata": {},
   "outputs": [
    {
     "name": "stdout",
     "output_type": "stream",
     "text": [
      "* \n",
      "* * \n",
      "* * * \n",
      "* * * * \n",
      "* * * * * \n"
     ]
    }
   ],
   "source": [
    "#python3 code to print pyramid pattern using recursion\n",
    "def pypart(n):\n",
    "    if n==0:\n",
    "        return\n",
    "    else:\n",
    "        pypart(n-1)\n",
    "        print(\"* \"*n)\n",
    "  \n",
    "# Driver Code\n",
    "n = 5\n",
    "pypart(n)"
   ]
  },
  {
   "cell_type": "code",
   "execution_count": 61,
   "id": "cf6a1cab",
   "metadata": {},
   "outputs": [
    {
     "name": "stdout",
     "output_type": "stream",
     "text": [
      "Enter number of rows:\n"
     ]
    },
    {
     "ename": "ValueError",
     "evalue": "invalid literal for int() with base 10: ''",
     "output_type": "error",
     "traceback": [
      "\u001b[1;31m---------------------------------------------------------------------------\u001b[0m",
      "\u001b[1;31mValueError\u001b[0m                                Traceback (most recent call last)",
      "\u001b[1;32m~\\AppData\\Local\\Temp\\ipykernel_51456\\2808662872.py\u001b[0m in \u001b[0;36m<module>\u001b[1;34m\u001b[0m\n\u001b[1;32m----> 1\u001b[1;33m \u001b[0mrows\u001b[0m \u001b[1;33m=\u001b[0m \u001b[0mint\u001b[0m\u001b[1;33m(\u001b[0m\u001b[0minput\u001b[0m\u001b[1;33m(\u001b[0m\u001b[1;34m\"Enter number of rows:\"\u001b[0m\u001b[1;33m)\u001b[0m\u001b[1;33m)\u001b[0m\u001b[1;33m\u001b[0m\u001b[1;33m\u001b[0m\u001b[0m\n\u001b[0m\u001b[0;32m      2\u001b[0m \u001b[1;33m\u001b[0m\u001b[0m\n\u001b[0;32m      3\u001b[0m \u001b[1;32mfor\u001b[0m \u001b[0mi\u001b[0m \u001b[1;32min\u001b[0m \u001b[0mrange\u001b[0m\u001b[1;33m(\u001b[0m\u001b[0mrows\u001b[0m\u001b[1;33m)\u001b[0m\u001b[1;33m:\u001b[0m\u001b[1;33m\u001b[0m\u001b[1;33m\u001b[0m\u001b[0m\n\u001b[0;32m      4\u001b[0m     \u001b[1;32mfor\u001b[0m \u001b[0mj\u001b[0m \u001b[1;32min\u001b[0m \u001b[0mrange\u001b[0m\u001b[1;33m(\u001b[0m\u001b[0mi\u001b[0m\u001b[1;33m+\u001b[0m\u001b[1;36m1\u001b[0m\u001b[1;33m)\u001b[0m\u001b[1;33m:\u001b[0m\u001b[1;33m\u001b[0m\u001b[1;33m\u001b[0m\u001b[0m\n\u001b[0;32m      5\u001b[0m         \u001b[0mprint\u001b[0m\u001b[1;33m(\u001b[0m\u001b[1;34m\"*\"\u001b[0m\u001b[1;33m,\u001b[0m \u001b[0mend\u001b[0m\u001b[1;33m=\u001b[0m\u001b[1;34m\"\"\u001b[0m\u001b[1;33m)\u001b[0m\u001b[1;33m\u001b[0m\u001b[1;33m\u001b[0m\u001b[0m\n",
      "\u001b[1;31mValueError\u001b[0m: invalid literal for int() with base 10: ''"
     ]
    }
   ],
   "source": [
    "rows = int(input(\"Enter number of rows:\"))\n",
    "\n",
    "for i in range(rows):\n",
    "    for j in range(i+1):\n",
    "        print(\"*\", end=\"\")\n",
    "    print(\"\\n\")"
   ]
  },
  {
   "cell_type": "code",
   "execution_count": 62,
   "id": "0bac8012",
   "metadata": {},
   "outputs": [
    {
     "name": "stdout",
     "output_type": "stream",
     "text": [
      "Enter number of rows: \n"
     ]
    },
    {
     "ename": "ValueError",
     "evalue": "invalid literal for int() with base 10: ''",
     "output_type": "error",
     "traceback": [
      "\u001b[1;31m---------------------------------------------------------------------------\u001b[0m",
      "\u001b[1;31mValueError\u001b[0m                                Traceback (most recent call last)",
      "\u001b[1;32m~\\AppData\\Local\\Temp\\ipykernel_51456\\4046444317.py\u001b[0m in \u001b[0;36m<module>\u001b[1;34m\u001b[0m\n\u001b[1;32m----> 1\u001b[1;33m \u001b[0mrows\u001b[0m \u001b[1;33m=\u001b[0m \u001b[0mint\u001b[0m\u001b[1;33m(\u001b[0m\u001b[0minput\u001b[0m\u001b[1;33m(\u001b[0m\u001b[1;34m\"Enter number of rows: \"\u001b[0m\u001b[1;33m)\u001b[0m\u001b[1;33m)\u001b[0m\u001b[1;33m\u001b[0m\u001b[1;33m\u001b[0m\u001b[0m\n\u001b[0m\u001b[0;32m      2\u001b[0m \u001b[1;33m\u001b[0m\u001b[0m\n\u001b[0;32m      3\u001b[0m \u001b[0mk\u001b[0m \u001b[1;33m=\u001b[0m \u001b[1;36m0\u001b[0m\u001b[1;33m\u001b[0m\u001b[1;33m\u001b[0m\u001b[0m\n\u001b[0;32m      4\u001b[0m \u001b[1;33m\u001b[0m\u001b[0m\n\u001b[0;32m      5\u001b[0m \u001b[1;32mfor\u001b[0m \u001b[0mi\u001b[0m \u001b[1;32min\u001b[0m \u001b[0mrange\u001b[0m\u001b[1;33m(\u001b[0m\u001b[1;36m1\u001b[0m\u001b[1;33m,\u001b[0m \u001b[0mrows\u001b[0m\u001b[1;33m+\u001b[0m\u001b[1;36m1\u001b[0m\u001b[1;33m)\u001b[0m\u001b[1;33m:\u001b[0m\u001b[1;33m\u001b[0m\u001b[1;33m\u001b[0m\u001b[0m\n",
      "\u001b[1;31mValueError\u001b[0m: invalid literal for int() with base 10: ''"
     ]
    }
   ],
   "source": [
    "rows = int(input(\"Enter number of rows: \"))\n",
    "\n",
    "k = 0\n",
    "\n",
    "for i in range(1, rows+1):\n",
    "    for space in range(1, (rows-i)+1):\n",
    "        print(end=\"  \")\n",
    "   \n",
    "    while k!=(2*i-1):\n",
    "        print(\"* \", end=\"\")\n",
    "        k += 1\n",
    "   \n",
    "    k = 0\n",
    "    print()"
   ]
  },
  {
   "cell_type": "code",
   "execution_count": 63,
   "id": "2001df5b",
   "metadata": {},
   "outputs": [
    {
     "name": "stdout",
     "output_type": "stream",
     "text": [
      "Enter number of rows: \n"
     ]
    },
    {
     "ename": "ValueError",
     "evalue": "invalid literal for int() with base 10: ''",
     "output_type": "error",
     "traceback": [
      "\u001b[1;31m---------------------------------------------------------------------------\u001b[0m",
      "\u001b[1;31mValueError\u001b[0m                                Traceback (most recent call last)",
      "\u001b[1;32m~\\AppData\\Local\\Temp\\ipykernel_51456\\2349278610.py\u001b[0m in \u001b[0;36m<module>\u001b[1;34m\u001b[0m\n\u001b[1;32m----> 1\u001b[1;33m \u001b[0mrows\u001b[0m \u001b[1;33m=\u001b[0m \u001b[0mint\u001b[0m\u001b[1;33m(\u001b[0m\u001b[0minput\u001b[0m\u001b[1;33m(\u001b[0m\u001b[1;34m\"Enter number of rows: \"\u001b[0m\u001b[1;33m)\u001b[0m\u001b[1;33m)\u001b[0m\u001b[1;33m\u001b[0m\u001b[1;33m\u001b[0m\u001b[0m\n\u001b[0m\u001b[0;32m      2\u001b[0m \u001b[1;33m\u001b[0m\u001b[0m\n\u001b[0;32m      3\u001b[0m \u001b[1;32mfor\u001b[0m \u001b[0mi\u001b[0m \u001b[1;32min\u001b[0m \u001b[0mrange\u001b[0m\u001b[1;33m(\u001b[0m\u001b[0mrows\u001b[0m\u001b[1;33m,\u001b[0m \u001b[1;36m1\u001b[0m\u001b[1;33m,\u001b[0m \u001b[1;33m-\u001b[0m\u001b[1;36m1\u001b[0m\u001b[1;33m)\u001b[0m\u001b[1;33m:\u001b[0m\u001b[1;33m\u001b[0m\u001b[1;33m\u001b[0m\u001b[0m\n\u001b[0;32m      4\u001b[0m     \u001b[1;32mfor\u001b[0m \u001b[0mspace\u001b[0m \u001b[1;32min\u001b[0m \u001b[0mrange\u001b[0m\u001b[1;33m(\u001b[0m\u001b[1;36m0\u001b[0m\u001b[1;33m,\u001b[0m \u001b[0mrows\u001b[0m\u001b[1;33m-\u001b[0m\u001b[0mi\u001b[0m\u001b[1;33m)\u001b[0m\u001b[1;33m:\u001b[0m\u001b[1;33m\u001b[0m\u001b[1;33m\u001b[0m\u001b[0m\n\u001b[0;32m      5\u001b[0m         \u001b[0mprint\u001b[0m\u001b[1;33m(\u001b[0m\u001b[1;34m\"  \"\u001b[0m\u001b[1;33m,\u001b[0m \u001b[0mend\u001b[0m\u001b[1;33m=\u001b[0m\u001b[1;34m\"\"\u001b[0m\u001b[1;33m)\u001b[0m\u001b[1;33m\u001b[0m\u001b[1;33m\u001b[0m\u001b[0m\n",
      "\u001b[1;31mValueError\u001b[0m: invalid literal for int() with base 10: ''"
     ]
    }
   ],
   "source": [
    "rows = int(input(\"Enter number of rows: \"))\n",
    "\n",
    "for i in range(rows, 1, -1):\n",
    "    for space in range(0, rows-i):\n",
    "        print(\"  \", end=\"\")\n",
    "    for j in range(i, 2*i-1):\n",
    "        print(\"* \", end=\"\")\n",
    "    for j in range(1, i-1):\n",
    "        print(\"* \", end=\"\")\n",
    "    print()\n"
   ]
  },
  {
   "cell_type": "code",
   "execution_count": 64,
   "id": "4882a9bb",
   "metadata": {},
   "outputs": [
    {
     "name": "stdout",
     "output_type": "stream",
     "text": [
      "Enter the number of rows: \n"
     ]
    },
    {
     "ename": "ValueError",
     "evalue": "invalid literal for int() with base 10: ''",
     "output_type": "error",
     "traceback": [
      "\u001b[1;31m---------------------------------------------------------------------------\u001b[0m",
      "\u001b[1;31mValueError\u001b[0m                                Traceback (most recent call last)",
      "\u001b[1;32m~\\AppData\\Local\\Temp\\ipykernel_51456\\1608294051.py\u001b[0m in \u001b[0;36m<module>\u001b[1;34m\u001b[0m\n\u001b[1;32m----> 1\u001b[1;33m \u001b[0mrows\u001b[0m \u001b[1;33m=\u001b[0m \u001b[0mint\u001b[0m\u001b[1;33m(\u001b[0m\u001b[0minput\u001b[0m\u001b[1;33m(\u001b[0m\u001b[1;34m\"Enter the number of rows: \"\u001b[0m\u001b[1;33m)\u001b[0m\u001b[1;33m)\u001b[0m\u001b[1;33m\u001b[0m\u001b[1;33m\u001b[0m\u001b[0m\n\u001b[0m\u001b[0;32m      2\u001b[0m \u001b[1;33m\u001b[0m\u001b[0m\n\u001b[0;32m      3\u001b[0m \u001b[1;32mfor\u001b[0m \u001b[0ma\u001b[0m \u001b[1;32min\u001b[0m \u001b[0mrange\u001b[0m\u001b[1;33m(\u001b[0m\u001b[0mrows\u001b[0m \u001b[1;33m+\u001b[0m \u001b[1;36m1\u001b[0m\u001b[1;33m,\u001b[0m \u001b[1;36m0\u001b[0m\u001b[1;33m,\u001b[0m \u001b[1;33m-\u001b[0m\u001b[1;36m1\u001b[0m\u001b[1;33m)\u001b[0m\u001b[1;33m:\u001b[0m\u001b[1;33m\u001b[0m\u001b[1;33m\u001b[0m\u001b[0m\n\u001b[0;32m      4\u001b[0m     \u001b[1;32mfor\u001b[0m \u001b[0mb\u001b[0m \u001b[1;32min\u001b[0m \u001b[0mrange\u001b[0m\u001b[1;33m(\u001b[0m\u001b[1;36m0\u001b[0m\u001b[1;33m,\u001b[0m \u001b[0ma\u001b[0m \u001b[1;33m-\u001b[0m \u001b[1;36m1\u001b[0m\u001b[1;33m)\u001b[0m\u001b[1;33m:\u001b[0m\u001b[1;33m\u001b[0m\u001b[1;33m\u001b[0m\u001b[0m\n\u001b[0;32m      5\u001b[0m         \u001b[0mprint\u001b[0m\u001b[1;33m(\u001b[0m\u001b[1;34m\"*\"\u001b[0m\u001b[1;33m,\u001b[0m \u001b[0mend\u001b[0m\u001b[1;33m=\u001b[0m\u001b[1;34m' '\u001b[0m\u001b[1;33m)\u001b[0m\u001b[1;33m\u001b[0m\u001b[1;33m\u001b[0m\u001b[0m\n",
      "\u001b[1;31mValueError\u001b[0m: invalid literal for int() with base 10: ''"
     ]
    }
   ],
   "source": [
    "rows = int(input(\"Enter the number of rows: \"))  \n",
    " \n",
    "for a in range(rows + 1, 0, -1):    \n",
    "    for b in range(0, a - 1):  \n",
    "        print(\"*\", end=' ')  \n",
    "    print(\" \")"
   ]
  },
  {
   "cell_type": "code",
   "execution_count": 65,
   "id": "9aad360c",
   "metadata": {},
   "outputs": [
    {
     "name": "stdout",
     "output_type": "stream",
     "text": [
      "Enter number of rows: \n"
     ]
    },
    {
     "ename": "ValueError",
     "evalue": "invalid literal for int() with base 10: ''",
     "output_type": "error",
     "traceback": [
      "\u001b[1;31m---------------------------------------------------------------------------\u001b[0m",
      "\u001b[1;31mValueError\u001b[0m                                Traceback (most recent call last)",
      "\u001b[1;32m~\\AppData\\Local\\Temp\\ipykernel_51456\\1019746491.py\u001b[0m in \u001b[0;36m<module>\u001b[1;34m\u001b[0m\n\u001b[1;32m----> 1\u001b[1;33m \u001b[0mrows\u001b[0m \u001b[1;33m=\u001b[0m \u001b[0mint\u001b[0m\u001b[1;33m(\u001b[0m\u001b[0minput\u001b[0m\u001b[1;33m(\u001b[0m\u001b[1;34m\"Enter number of rows: \"\u001b[0m\u001b[1;33m)\u001b[0m\u001b[1;33m)\u001b[0m\u001b[1;33m\u001b[0m\u001b[1;33m\u001b[0m\u001b[0m\n\u001b[0m\u001b[0;32m      2\u001b[0m \u001b[1;33m\u001b[0m\u001b[0m\n\u001b[0;32m      3\u001b[0m \u001b[1;32mfor\u001b[0m \u001b[0mi\u001b[0m \u001b[1;32min\u001b[0m \u001b[0mrange\u001b[0m\u001b[1;33m(\u001b[0m\u001b[0mrows\u001b[0m\u001b[1;33m,\u001b[0m \u001b[1;36m0\u001b[0m\u001b[1;33m,\u001b[0m \u001b[1;33m-\u001b[0m\u001b[1;36m1\u001b[0m\u001b[1;33m)\u001b[0m\u001b[1;33m:\u001b[0m\u001b[1;33m\u001b[0m\u001b[1;33m\u001b[0m\u001b[0m\n\u001b[0;32m      4\u001b[0m     \u001b[1;32mfor\u001b[0m \u001b[0mj\u001b[0m \u001b[1;32min\u001b[0m \u001b[0mrange\u001b[0m\u001b[1;33m(\u001b[0m\u001b[1;36m0\u001b[0m\u001b[1;33m,\u001b[0m \u001b[0mi\u001b[0m\u001b[1;33m)\u001b[0m\u001b[1;33m:\u001b[0m\u001b[1;33m\u001b[0m\u001b[1;33m\u001b[0m\u001b[0m\n\u001b[0;32m      5\u001b[0m         \u001b[0mprint\u001b[0m\u001b[1;33m(\u001b[0m\u001b[1;34m\"* \"\u001b[0m\u001b[1;33m,\u001b[0m \u001b[0mend\u001b[0m\u001b[1;33m=\u001b[0m\u001b[1;34m\" \"\u001b[0m\u001b[1;33m)\u001b[0m\u001b[1;33m\u001b[0m\u001b[1;33m\u001b[0m\u001b[0m\n",
      "\u001b[1;31mValueError\u001b[0m: invalid literal for int() with base 10: ''"
     ]
    }
   ],
   "source": [
    "rows = int(input(\"Enter number of rows: \"))\n",
    "\n",
    "for i in range(rows, 0, -1):\n",
    "    for j in range(0, i):\n",
    "        print(\"* \", end=\" \")\n",
    "    \n",
    "    print(\"\\n\")"
   ]
  },
  {
   "cell_type": "code",
   "execution_count": 66,
   "id": "6f809ada",
   "metadata": {},
   "outputs": [
    {
     "name": "stdout",
     "output_type": "stream",
     "text": [
      "Enter number of rows: \n"
     ]
    },
    {
     "ename": "ValueError",
     "evalue": "invalid literal for int() with base 10: ''",
     "output_type": "error",
     "traceback": [
      "\u001b[1;31m---------------------------------------------------------------------------\u001b[0m",
      "\u001b[1;31mValueError\u001b[0m                                Traceback (most recent call last)",
      "\u001b[1;32m~\\AppData\\Local\\Temp\\ipykernel_51456\\2895768242.py\u001b[0m in \u001b[0;36m<module>\u001b[1;34m\u001b[0m\n\u001b[1;32m----> 1\u001b[1;33m \u001b[0mrows\u001b[0m \u001b[1;33m=\u001b[0m \u001b[0mint\u001b[0m\u001b[1;33m(\u001b[0m\u001b[0minput\u001b[0m\u001b[1;33m(\u001b[0m\u001b[1;34m\"Enter number of rows: \"\u001b[0m\u001b[1;33m)\u001b[0m\u001b[1;33m)\u001b[0m\u001b[1;33m\u001b[0m\u001b[1;33m\u001b[0m\u001b[0m\n\u001b[0m\u001b[0;32m      2\u001b[0m \u001b[1;33m\u001b[0m\u001b[0m\n\u001b[0;32m      3\u001b[0m \u001b[1;32mfor\u001b[0m \u001b[0mi\u001b[0m \u001b[1;32min\u001b[0m \u001b[0mrange\u001b[0m\u001b[1;33m(\u001b[0m\u001b[0mrows\u001b[0m\u001b[1;33m,\u001b[0m \u001b[1;36m1\u001b[0m\u001b[1;33m,\u001b[0m \u001b[1;33m-\u001b[0m\u001b[1;36m1\u001b[0m\u001b[1;33m)\u001b[0m\u001b[1;33m:\u001b[0m\u001b[1;33m\u001b[0m\u001b[1;33m\u001b[0m\u001b[0m\n\u001b[0;32m      4\u001b[0m     \u001b[1;32mfor\u001b[0m \u001b[0mspace\u001b[0m \u001b[1;32min\u001b[0m \u001b[0mrange\u001b[0m\u001b[1;33m(\u001b[0m\u001b[1;36m0\u001b[0m\u001b[1;33m,\u001b[0m \u001b[0mrows\u001b[0m\u001b[1;33m-\u001b[0m\u001b[0mi\u001b[0m\u001b[1;33m)\u001b[0m\u001b[1;33m:\u001b[0m\u001b[1;33m\u001b[0m\u001b[1;33m\u001b[0m\u001b[0m\n\u001b[0;32m      5\u001b[0m         \u001b[0mprint\u001b[0m\u001b[1;33m(\u001b[0m\u001b[1;34m\"  \"\u001b[0m\u001b[1;33m,\u001b[0m \u001b[0mend\u001b[0m\u001b[1;33m=\u001b[0m\u001b[1;34m\"\"\u001b[0m\u001b[1;33m)\u001b[0m\u001b[1;33m\u001b[0m\u001b[1;33m\u001b[0m\u001b[0m\n",
      "\u001b[1;31mValueError\u001b[0m: invalid literal for int() with base 10: ''"
     ]
    }
   ],
   "source": [
    "rows = int(input(\"Enter number of rows: \"))\n",
    "\n",
    "for i in range(rows, 1, -1):\n",
    "    for space in range(0, rows-i):\n",
    "        print(\"  \", end=\"\")\n",
    "    for j in range(i, 2*i-1):\n",
    "        print(\"* \", end=\"\")\n",
    "    for j in range(1, i-1):\n",
    "        print(\"* \", end=\"\")\n",
    "    print()"
   ]
  },
  {
   "cell_type": "code",
   "execution_count": null,
   "id": "856eafb5",
   "metadata": {},
   "outputs": [],
   "source": []
  },
  {
   "cell_type": "code",
   "execution_count": null,
   "id": "45d5bf77",
   "metadata": {},
   "outputs": [],
   "source": []
  },
  {
   "cell_type": "code",
   "execution_count": null,
   "id": "68637dc8",
   "metadata": {},
   "outputs": [],
   "source": []
  },
  {
   "cell_type": "code",
   "execution_count": null,
   "id": "1b315968",
   "metadata": {},
   "outputs": [],
   "source": []
  }
 ],
 "metadata": {
  "kernelspec": {
   "display_name": "Python 3 (ipykernel)",
   "language": "python",
   "name": "python3"
  },
  "language_info": {
   "codemirror_mode": {
    "name": "ipython",
    "version": 3
   },
   "file_extension": ".py",
   "mimetype": "text/x-python",
   "name": "python",
   "nbconvert_exporter": "python",
   "pygments_lexer": "ipython3",
   "version": "3.8.8"
  }
 },
 "nbformat": 4,
 "nbformat_minor": 5
}
